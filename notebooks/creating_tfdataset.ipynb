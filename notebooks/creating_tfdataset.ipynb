{
 "cells": [
  {
   "cell_type": "code",
   "execution_count": 1,
   "id": "f5ec90f7",
   "metadata": {},
   "outputs": [],
   "source": [
    "import tensorflow as tf\n",
    "import pandas as pd \n",
    "import numpy as np \n",
    "import os\n",
    "import requests\n",
    "from gensim.downloader import load\n",
    "import dask"
   ]
  },
  {
   "cell_type": "markdown",
   "id": "9ddcbcbb",
   "metadata": {},
   "source": [
    "# Loading in memory"
   ]
  },
  {
   "cell_type": "code",
   "execution_count": 14,
   "id": "84111d93",
   "metadata": {},
   "outputs": [],
   "source": [
    "def load_data_in_memory():\n",
    "    \"\"\"\n",
    "    Load dataset from hugging face servers in memory\n",
    "    \"\"\"\n",
    "    url = \"https://datasets-server.huggingface.co/parquet?dataset=aadityaubhat%2FGPT-wiki-intro\"\n",
    "    response = requests.get(url)\n",
    "    if response.status_code !=200:\n",
    "        return f\"error during dataset request: {response.status_code}\"\n",
    "    \n",
    "    url_parquet = [files['url'] for files in response.json()['parquet_files']]\n",
    "    \n",
    "    \n",
    "    df = [pd.read_parquet(url_) for url_ in url_parquet]\n",
    "    \n",
    "    return pd.concat(df)"
   ]
  },
  {
   "cell_type": "code",
   "execution_count": 15,
   "id": "3a2f9284",
   "metadata": {},
   "outputs": [],
   "source": [
    "def get_ds(path_data):\n",
    "    \"\"\"\n",
    "    Load dataset and basic transformation for our task\n",
    "    \"\"\"\n",
    "    if 'data.csv' in os.listdir(path_data):\n",
    "        print('Loading dataset from local...')\n",
    "        df = pd.read_csv(os.path.join(path_data,'data.csv'),index_col='id')\n",
    "    else:\n",
    "        df = load_data_in_memory()\n",
    "        df.set_index('id',inplace=True)\n",
    "        df['random']=np.random.random(len(df))\n",
    "\n",
    "        # reorganize ds and randomize samples wiki/generated\n",
    "        df.loc[df['random']<.5,'text']=df['generated_intro']\n",
    "        df.loc[df['random']<.5,'label']='generated'\n",
    "        df.loc[df['random']>=.5,'text']=df['wiki_intro']\n",
    "        df.loc[df['random']>=.5,'label']='wiki'\n",
    "        # dump csv\n",
    "        df.to_csv(os.path.join(path_data,'data.csv'))\n",
    "        \n",
    "    df['label']=df['label'].replace({'generated':1,'wiki':0})\n",
    "    \n",
    "    display(df.head())\n",
    "    \n",
    "    return df"
   ]
  },
  {
   "cell_type": "code",
   "execution_count": 16,
   "id": "d6bfa2eb",
   "metadata": {},
   "outputs": [
    {
     "name": "stdout",
     "output_type": "stream",
     "text": [
      "Loading dataset from local...\n"
     ]
    },
    {
     "data": {
      "text/html": [
       "<div>\n",
       "<style scoped>\n",
       "    .dataframe tbody tr th:only-of-type {\n",
       "        vertical-align: middle;\n",
       "    }\n",
       "\n",
       "    .dataframe tbody tr th {\n",
       "        vertical-align: top;\n",
       "    }\n",
       "\n",
       "    .dataframe thead th {\n",
       "        text-align: right;\n",
       "    }\n",
       "</style>\n",
       "<table border=\"1\" class=\"dataframe\">\n",
       "  <thead>\n",
       "    <tr style=\"text-align: right;\">\n",
       "      <th></th>\n",
       "      <th>url</th>\n",
       "      <th>title</th>\n",
       "      <th>wiki_intro</th>\n",
       "      <th>generated_intro</th>\n",
       "      <th>title_len</th>\n",
       "      <th>wiki_intro_len</th>\n",
       "      <th>generated_intro_len</th>\n",
       "      <th>prompt</th>\n",
       "      <th>generated_text</th>\n",
       "      <th>prompt_tokens</th>\n",
       "      <th>generated_text_tokens</th>\n",
       "      <th>random</th>\n",
       "      <th>text</th>\n",
       "      <th>label</th>\n",
       "    </tr>\n",
       "    <tr>\n",
       "      <th>id</th>\n",
       "      <th></th>\n",
       "      <th></th>\n",
       "      <th></th>\n",
       "      <th></th>\n",
       "      <th></th>\n",
       "      <th></th>\n",
       "      <th></th>\n",
       "      <th></th>\n",
       "      <th></th>\n",
       "      <th></th>\n",
       "      <th></th>\n",
       "      <th></th>\n",
       "      <th></th>\n",
       "      <th></th>\n",
       "    </tr>\n",
       "  </thead>\n",
       "  <tbody>\n",
       "    <tr>\n",
       "      <th>63064638</th>\n",
       "      <td>https://en.wikipedia.org/wiki/Sexhow%20railway...</td>\n",
       "      <td>Sexhow railway station</td>\n",
       "      <td>Sexhow railway station was a railway station b...</td>\n",
       "      <td>Sexhow railway station was a railway station l...</td>\n",
       "      <td>3</td>\n",
       "      <td>174</td>\n",
       "      <td>78</td>\n",
       "      <td>200 word wikipedia style introduction on 'Sexh...</td>\n",
       "      <td>located in the town of Sexhow, on the Cumbria...</td>\n",
       "      <td>25</td>\n",
       "      <td>88</td>\n",
       "      <td>0.170068</td>\n",
       "      <td>Sexhow railway station was a railway station l...</td>\n",
       "      <td>1</td>\n",
       "    </tr>\n",
       "    <tr>\n",
       "      <th>279621</th>\n",
       "      <td>https://en.wikipedia.org/wiki/Eti%C3%A4inen</td>\n",
       "      <td>Etiäinen</td>\n",
       "      <td>In Finnish folklore, all places and things, an...</td>\n",
       "      <td>In Finnish folklore, all places and things, an...</td>\n",
       "      <td>1</td>\n",
       "      <td>187</td>\n",
       "      <td>80</td>\n",
       "      <td>200 word wikipedia style introduction on 'Etiä...</td>\n",
       "      <td>animate or inanimate, have a spirit or \"etiäi...</td>\n",
       "      <td>26</td>\n",
       "      <td>101</td>\n",
       "      <td>0.839452</td>\n",
       "      <td>In Finnish folklore, all places and things, an...</td>\n",
       "      <td>0</td>\n",
       "    </tr>\n",
       "    <tr>\n",
       "      <th>287229</th>\n",
       "      <td>https://en.wikipedia.org/wiki/Inverse%20functi...</td>\n",
       "      <td>Inverse function theorem</td>\n",
       "      <td>In mathematics, specifically differential calc...</td>\n",
       "      <td>In mathematics, specifically differential calc...</td>\n",
       "      <td>3</td>\n",
       "      <td>170</td>\n",
       "      <td>59</td>\n",
       "      <td>200 word wikipedia style introduction on 'Inve...</td>\n",
       "      <td>function theorem states that for every real-v...</td>\n",
       "      <td>26</td>\n",
       "      <td>65</td>\n",
       "      <td>0.532203</td>\n",
       "      <td>In mathematics, specifically differential calc...</td>\n",
       "      <td>0</td>\n",
       "    </tr>\n",
       "    <tr>\n",
       "      <th>26712375</th>\n",
       "      <td>https://en.wikipedia.org/wiki/Stepping%20on%20...</td>\n",
       "      <td>Stepping on Roses</td>\n",
       "      <td>is a Japanese shōjo manga series written and i...</td>\n",
       "      <td>is a Japanese shōjo manga series written and i...</td>\n",
       "      <td>3</td>\n",
       "      <td>335</td>\n",
       "      <td>121</td>\n",
       "      <td>200 word wikipedia style introduction on 'Step...</td>\n",
       "      <td>and illustrated by Maki Fujii. The series fol...</td>\n",
       "      <td>26</td>\n",
       "      <td>150</td>\n",
       "      <td>0.715507</td>\n",
       "      <td>is a Japanese shōjo manga series written and i...</td>\n",
       "      <td>0</td>\n",
       "    </tr>\n",
       "    <tr>\n",
       "      <th>38894426</th>\n",
       "      <td>https://en.wikipedia.org/wiki/Rob%20Bradley</td>\n",
       "      <td>Rob Bradley</td>\n",
       "      <td>Robert Milner \"Rob\" Bradley, Jr. (born August ...</td>\n",
       "      <td>Robert Milner \"Rob\" Bradley, Jr. (born August ...</td>\n",
       "      <td>2</td>\n",
       "      <td>170</td>\n",
       "      <td>136</td>\n",
       "      <td>200 word wikipedia style introduction on 'Rob ...</td>\n",
       "      <td>29, 1973) is an American former professional ...</td>\n",
       "      <td>28</td>\n",
       "      <td>162</td>\n",
       "      <td>0.395063</td>\n",
       "      <td>Robert Milner \"Rob\" Bradley, Jr. (born August ...</td>\n",
       "      <td>1</td>\n",
       "    </tr>\n",
       "  </tbody>\n",
       "</table>\n",
       "</div>"
      ],
      "text/plain": [
       "                                                        url  \\\n",
       "id                                                            \n",
       "63064638  https://en.wikipedia.org/wiki/Sexhow%20railway...   \n",
       "279621          https://en.wikipedia.org/wiki/Eti%C3%A4inen   \n",
       "287229    https://en.wikipedia.org/wiki/Inverse%20functi...   \n",
       "26712375  https://en.wikipedia.org/wiki/Stepping%20on%20...   \n",
       "38894426        https://en.wikipedia.org/wiki/Rob%20Bradley   \n",
       "\n",
       "                             title  \\\n",
       "id                                   \n",
       "63064638    Sexhow railway station   \n",
       "279621                    Etiäinen   \n",
       "287229    Inverse function theorem   \n",
       "26712375         Stepping on Roses   \n",
       "38894426               Rob Bradley   \n",
       "\n",
       "                                                 wiki_intro  \\\n",
       "id                                                            \n",
       "63064638  Sexhow railway station was a railway station b...   \n",
       "279621    In Finnish folklore, all places and things, an...   \n",
       "287229    In mathematics, specifically differential calc...   \n",
       "26712375  is a Japanese shōjo manga series written and i...   \n",
       "38894426  Robert Milner \"Rob\" Bradley, Jr. (born August ...   \n",
       "\n",
       "                                            generated_intro  title_len  \\\n",
       "id                                                                       \n",
       "63064638  Sexhow railway station was a railway station l...          3   \n",
       "279621    In Finnish folklore, all places and things, an...          1   \n",
       "287229    In mathematics, specifically differential calc...          3   \n",
       "26712375  is a Japanese shōjo manga series written and i...          3   \n",
       "38894426  Robert Milner \"Rob\" Bradley, Jr. (born August ...          2   \n",
       "\n",
       "          wiki_intro_len  generated_intro_len  \\\n",
       "id                                              \n",
       "63064638             174                   78   \n",
       "279621               187                   80   \n",
       "287229               170                   59   \n",
       "26712375             335                  121   \n",
       "38894426             170                  136   \n",
       "\n",
       "                                                     prompt  \\\n",
       "id                                                            \n",
       "63064638  200 word wikipedia style introduction on 'Sexh...   \n",
       "279621    200 word wikipedia style introduction on 'Etiä...   \n",
       "287229    200 word wikipedia style introduction on 'Inve...   \n",
       "26712375  200 word wikipedia style introduction on 'Step...   \n",
       "38894426  200 word wikipedia style introduction on 'Rob ...   \n",
       "\n",
       "                                             generated_text  prompt_tokens  \\\n",
       "id                                                                           \n",
       "63064638   located in the town of Sexhow, on the Cumbria...             25   \n",
       "279621     animate or inanimate, have a spirit or \"etiäi...             26   \n",
       "287229     function theorem states that for every real-v...             26   \n",
       "26712375   and illustrated by Maki Fujii. The series fol...             26   \n",
       "38894426   29, 1973) is an American former professional ...             28   \n",
       "\n",
       "          generated_text_tokens    random  \\\n",
       "id                                          \n",
       "63064638                     88  0.170068   \n",
       "279621                      101  0.839452   \n",
       "287229                       65  0.532203   \n",
       "26712375                    150  0.715507   \n",
       "38894426                    162  0.395063   \n",
       "\n",
       "                                                       text  label  \n",
       "id                                                                  \n",
       "63064638  Sexhow railway station was a railway station l...      1  \n",
       "279621    In Finnish folklore, all places and things, an...      0  \n",
       "287229    In mathematics, specifically differential calc...      0  \n",
       "26712375  is a Japanese shōjo manga series written and i...      0  \n",
       "38894426  Robert Milner \"Rob\" Bradley, Jr. (born August ...      1  "
      ]
     },
     "metadata": {},
     "output_type": "display_data"
    }
   ],
   "source": [
    "PATH_DATA = os.path.join(os.path.dirname(os.path.abspath(os.path.curdir)),'raw_data')\n",
    "\n",
    "df = get_ds(PATH_DATA)"
   ]
  },
  {
   "cell_type": "code",
   "execution_count": 17,
   "id": "cccacff8",
   "metadata": {},
   "outputs": [
    {
     "data": {
      "text/plain": [
       "150000"
      ]
     },
     "execution_count": 17,
     "metadata": {},
     "output_type": "execute_result"
    }
   ],
   "source": [
    "len(df)"
   ]
  },
  {
   "cell_type": "code",
   "execution_count": 6,
   "id": "2d82db2d",
   "metadata": {},
   "outputs": [],
   "source": [
    "# compute # sentences\n",
    "df['nsentences'] = df['text'].apply(lambda x : len(x.split('.')))"
   ]
  },
  {
   "cell_type": "code",
   "execution_count": 7,
   "id": "b0f00578",
   "metadata": {},
   "outputs": [],
   "source": [
    "def word_per_sentence(text):\n",
    "    \"\"\"\n",
    "    Compute the mean and variance of the number of words per sentences of a text.\n",
    "    \"\"\"\n",
    "    sentences = text.split('.')\n",
    "    lengths = []\n",
    "    for s in sentences : \n",
    "        lengths.append(len(s.split()))\n",
    "    return [np.mean(np.array(lengths)),np.std(np.array(lengths))]"
   ]
  },
  {
   "cell_type": "code",
   "execution_count": 8,
   "id": "caf4c64f",
   "metadata": {},
   "outputs": [],
   "source": [
    "df_e = pd.concat([\n",
    "    df,\n",
    "    df['text'].apply(word_per_sentence)\\\n",
    "                .apply(pd.Series)\\\n",
    "                .rename({0:'mean_w_p_s',1:'var_w_p_s'},axis=1)]\n",
    "                 ,axis=1)"
   ]
  },
  {
   "cell_type": "code",
   "execution_count": 9,
   "id": "a25fe731",
   "metadata": {},
   "outputs": [],
   "source": [
    "X = df_e[['text','nsentences','mean_w_p_s','var_w_p_s']]\n",
    "y = df_e[['label']]"
   ]
  },
  {
   "cell_type": "markdown",
   "id": "4e78bb2b",
   "metadata": {},
   "source": [
    "# Serialize dataset"
   ]
  },
  {
   "cell_type": "code",
   "execution_count": 10,
   "id": "14802583",
   "metadata": {},
   "outputs": [],
   "source": [
    "# The following functions can be used to convert a value to a type compatible\n",
    "# with tf.train.Example.\n",
    "\n",
    "def _bytes_feature(value):\n",
    "    \"\"\"Returns a bytes_list from a string / byte.\"\"\"\n",
    "    if isinstance(value, type(tf.constant(0))):\n",
    "        value = value.numpy() # BytesList won't unpack a string from an EagerTensor.\n",
    "    return tf.train.Feature(bytes_list=tf.train.BytesList(value=[value]))\n",
    "\n",
    "def _float_feature(value):\n",
    "    \"\"\"Returns a float_list from a float / double.\"\"\"\n",
    "    return tf.train.Feature(float_list=tf.train.FloatList(value=[value]))\n",
    "\n",
    "def _int64_feature(value):\n",
    "    \"\"\"Returns an int64_list from a bool / enum / int / uint.\"\"\"\n",
    "    return tf.train.Feature(int64_list=tf.train.Int64List(value=[value]))\n",
    "\n",
    "def _nonscaler_feature(value):\n",
    "    serialized_nonscalar = tf.io.serialize_tensor(value)\n",
    "    return tf.train.Feature(bytes_list=tf.train.BytesList(value=[serialized_nonscalar.numpy()]))"
   ]
  },
  {
   "cell_type": "code",
   "execution_count": 11,
   "id": "fa9cd5e1",
   "metadata": {
    "scrolled": false
   },
   "outputs": [],
   "source": [
    "# print(_bytes_feature(b'test_string'))\n",
    "# print(_bytes_feature(u'test_bytes'.encode('utf-8')))\n",
    "\n",
    "# print(_float_feature(np.exp(1)))\n",
    "\n",
    "# print(_nonscaler_feature([1,2,3]))\n",
    "\n",
    "# print(_int64_feature(True))\n",
    "# print(_int64_feature(1))"
   ]
  },
  {
   "cell_type": "code",
   "execution_count": 12,
   "id": "82002823",
   "metadata": {},
   "outputs": [],
   "source": [
    "def serialize_example(id_,text,vect, nsentences, mean_w_p_s ,var_w_p_s, label):\n",
    "    \"\"\"\n",
    "    Creates a tf.train.Example message ready to be written to a file.\n",
    "    \"\"\"\n",
    "    # Create a dictionary mapping the feature name to the tf.train.Example-compatible\n",
    "    # data type.\n",
    "    feature = {\n",
    "        'id': _int64_feature(int(id_)),\n",
    "        'text': _bytes_feature(text),\n",
    "        'vect':_nonscaler_feature(vect),\n",
    "        'nsentences': _int64_feature(int(nsentences)),\n",
    "        'mean_w_p_s': _float_feature(float(mean_w_p_s)),\n",
    "        'var_w_p_s': _float_feature(float(var_w_p_s)),\n",
    "        'label': _int64_feature(int(label)),\n",
    "    }\n",
    "\n",
    "    # Create a Features message using tf.train.Example.\n",
    "\n",
    "    example_proto = tf.train.Example(features=tf.train.Features(feature=feature))\n",
    "    return example_proto.SerializeToString()"
   ]
  },
  {
   "cell_type": "code",
   "execution_count": null,
   "id": "b7f9fa04",
   "metadata": {},
   "outputs": [],
   "source": []
  },
  {
   "cell_type": "markdown",
   "id": "6af3162f",
   "metadata": {},
   "source": [
    "# add word2vec"
   ]
  },
  {
   "cell_type": "code",
   "execution_count": 13,
   "id": "be203fba",
   "metadata": {},
   "outputs": [],
   "source": []
  },
  {
   "cell_type": "code",
   "execution_count": 14,
   "id": "e5bb45a1",
   "metadata": {},
   "outputs": [
    {
     "ename": "NameError",
     "evalue": "name 'wv' is not defined",
     "output_type": "error",
     "traceback": [
      "\u001b[0;31m---------------------------------------------------------------------------\u001b[0m",
      "\u001b[0;31mNameError\u001b[0m                                 Traceback (most recent call last)",
      "File \u001b[0;32m<timed exec>:2\u001b[0m\n",
      "\u001b[0;31mNameError\u001b[0m: name 'wv' is not defined"
     ]
    }
   ],
   "source": [
    "%%time\n",
    "for i in range(20000):\n",
    "    if 'hello' in wv: \n",
    "        wv.get_vector('hello')"
   ]
  },
  {
   "cell_type": "code",
   "execution_count": null,
   "id": "93ae32d7",
   "metadata": {},
   "outputs": [],
   "source": [
    "%%time\n",
    "for i in range(20000):\n",
    "    if 'hello' in wv.index_to_key: \n",
    "        wv.get_vector('hello')"
   ]
  },
  {
   "cell_type": "code",
   "execution_count": 15,
   "id": "7cb7097b",
   "metadata": {},
   "outputs": [],
   "source": [
    "# sentences = X.text[:100]  \n",
    "# LEN=len(sentences)\n",
    "# vect=[]\n",
    "# for i,x in enumerate(sentences):\n",
    "#     vect.append(embed_sentence_pretrained(wv,x))\n",
    "#     if i%50==0:\n",
    "#         print(f'{i*100/LEN:.2f}%')"
   ]
  },
  {
   "cell_type": "code",
   "execution_count": 39,
   "id": "a827bc41",
   "metadata": {},
   "outputs": [],
   "source": [
    "@dask.delayed\n",
    "def embed_sentence_pretrained(w2v, sentence):\n",
    "    \"\"\"\n",
    "    Embed a sentence given a trained Word2Vec\n",
    "    \"\"\"\n",
    "    embedded_sentence = []\n",
    "    for word in sentence:\n",
    "        if word in w2v:\n",
    "            embedded_sentence.append(w2v.get_vector(word))\n",
    "\n",
    "    return np.array(embedded_sentence)"
   ]
  },
  {
   "cell_type": "code",
   "execution_count": 48,
   "id": "24f3c3fd",
   "metadata": {},
   "outputs": [],
   "source": [
    "def embed_sentence_pretrained(w2v, sentence):\n",
    "    \"\"\"\n",
    "    Embed a sentence given a trained Word2Vec\n",
    "    \"\"\"\n",
    "    embedded_sentence = []\n",
    "    for word in sentence:\n",
    "        if word in w2v:\n",
    "            embedded_sentence.append(w2v.get_vector(word))\n",
    "\n",
    "    return np.array(embedded_sentence)\n",
    "\n",
    "def embed_corpus(X,wv):\n",
    "    sentences = X.text\n",
    "    LEN = len(sentences)\n",
    "    vect = []\n",
    "    for i, x in enumerate(sentences):\n",
    "        vect.append(embed_sentence_pretrained(wv, x))\n",
    "#         if i % 100 == 0:\n",
    "#             print(f\"Embeded {i*100/LEN:.2f}% of the full corpus\")\n",
    "\n",
    "    vect_pad = tf.keras.utils.pad_sequences(\n",
    "        vect, truncating=\"post\", padding=\"post\", maxlen=256, dtype=float\n",
    "    )\n",
    "\n",
    "    return vect_pad"
   ]
  },
  {
   "cell_type": "code",
   "execution_count": 49,
   "id": "222e8224",
   "metadata": {},
   "outputs": [],
   "source": [
    "def write_tfrecords(X,vect_pad,y,filename):\n",
    "\n",
    "    with tf.io.TFRecordWriter(\n",
    "        os.path.join(os.environ[\"PATH_DATA\"], f\"data_{filename}.tfrecord\")\n",
    "    ) as writer:\n",
    "        for j, i in enumerate(range(len(X))):\n",
    "            example = serialize_example(\n",
    "                X.index[i],\n",
    "                X.text.str.encode(\"utf-8\").iloc[i],\n",
    "                vect_pad[i],\n",
    "                X.nsentences.iloc[i],\n",
    "                X.mean_w_p_s.iloc[i],\n",
    "                X.var_w_p_s.iloc[i],\n",
    "                y.label.iloc[i],\n",
    "            )\n",
    "            writer.write(example)\n",
    "#             if j % 100 == 0:\n",
    "#                 print(f\"Wrote {i*100/len(X):.2f}% of the dataset on disk\")\n",
    "                "
   ]
  },
  {
   "cell_type": "code",
   "execution_count": 50,
   "id": "907487cd",
   "metadata": {},
   "outputs": [],
   "source": [
    "def chunkify(X,y,n):\n",
    "    return [(X[i:i+n],y[i:i+n]) for i in range(0,len(X),n)]"
   ]
  },
  {
   "cell_type": "code",
   "execution_count": 51,
   "id": "8bc08c1c",
   "metadata": {},
   "outputs": [],
   "source": [
    "def wraper(X,y,filename,wv):\n",
    "    vect_pad = embed_corpus(X,wv)\n",
    "    write_tfrecords(X,vect_pad,y,filename)\n",
    "    print()"
   ]
  },
  {
   "cell_type": "code",
   "execution_count": 52,
   "id": "36864835",
   "metadata": {},
   "outputs": [
    {
     "name": "stdout",
     "output_type": "stream",
     "text": [
      "1\n",
      "2\n",
      "3\n",
      "4\n",
      "5\n",
      "6\n",
      "7\n",
      "8\n",
      "9\n",
      "10\n"
     ]
    }
   ],
   "source": [
    "lazy_results=[]\n",
    "chunk_n = 1\n",
    "wv = load('glove-wiki-gigaword-100')        \n",
    "for chunk in chunkify(X[:100],y[:100], 10):\n",
    "    print(chunk_n)\n",
    "    chunk_x,chunk_y=chunk[0],chunk[1]\n",
    "    r = dask.delayed(wraper)(chunk_x,chunk_y,f'dataset_{chunk_n}',wv)\n",
    "    lazy_results.append(r)\n",
    "    chunk_n += 1"
   ]
  },
  {
   "cell_type": "code",
   "execution_count": 46,
   "id": "c90956a8",
   "metadata": {},
   "outputs": [],
   "source": [
    "from dask.diagnostics import ProgressBar"
   ]
  },
  {
   "cell_type": "code",
   "execution_count": 53,
   "id": "ca72a8f7",
   "metadata": {},
   "outputs": [
    {
     "name": "stdout",
     "output_type": "stream",
     "text": [
      "[                                        ] | 0% Completed | 210.67 ms\n",
      "\n",
      "\n",
      "\n",
      "\n",
      "\n",
      "\n",
      "\n",
      "[################################        ] | 80% Completed | 313.86 ms\n",
      "\n",
      "[########################################] | 100% Completed | 421.87 ms\n"
     ]
    }
   ],
   "source": [
    "with ProgressBar():\n",
    "    dask.compute(*lazy_results)"
   ]
  },
  {
   "cell_type": "markdown",
   "id": "8fec947e",
   "metadata": {},
   "source": [
    "## full ds"
   ]
  },
  {
   "cell_type": "code",
   "execution_count": null,
   "id": "eadb4883",
   "metadata": {},
   "outputs": [],
   "source": []
  },
  {
   "cell_type": "code",
   "execution_count": null,
   "id": "ea1bfa1d",
   "metadata": {},
   "outputs": [],
   "source": [
    "#useless - for tf.dataset usecase\n",
    "\n",
    "ds = tf.data.Dataset.from_tensor_slices((X[:100].index,\n",
    "                                        X[:100].text,\n",
    "                                         vect_pad,\n",
    "                                         X[:100].nsentences,\n",
    "                                         X[:100].mean_w_p_s,\n",
    "                                         X[:100].var_w_p_s,\n",
    "                                         y[:100].label))\n",
    "\n",
    "def tf_serialize_example(f0,f1,f2,f3,y):\n",
    "    tf_string = tf.py_function(\n",
    "    serialize_example,\n",
    "    (f0, f1, f2, f3,y),  # Pass these args to the above function.\n",
    "    tf.string)      # The return type is `tf.string`.\n",
    "    return tf.reshape(tf_string, ()) # The result is a scalar.\n",
    "\n",
    "\n",
    "\n",
    "\n",
    "def generator():\n",
    "    for features in ds:\n",
    "        yield serialize_example(*features)\n",
    "\n",
    "serialized_features_dataset = tf.data.Dataset.from_generator(\n",
    "    generator, output_types=tf.string, output_shapes=())\n"
   ]
  },
  {
   "cell_type": "code",
   "execution_count": null,
   "id": "6dd63591",
   "metadata": {},
   "outputs": [],
   "source": [
    "## Pur python"
   ]
  },
  {
   "cell_type": "code",
   "execution_count": null,
   "id": "38457a4f",
   "metadata": {},
   "outputs": [],
   "source": [
    "with tf.io.TFRecordWriter('hey.tfrecord') as writer:\n",
    "    for i in range(100):\n",
    "        example = serialize_example(\n",
    "            X.index[i],\n",
    "#             X.reset_index().id[i],\n",
    "            X.text.str.encode('utf-8').iloc[i],\n",
    "            vect_pad[i],\n",
    "            X.nsentences.iloc[i],\n",
    "            X.mean_w_p_s.iloc[i],\n",
    "            X.var_w_p_s.iloc[i],\n",
    "            y.label.iloc[i])\n",
    "        writer.write(example)"
   ]
  },
  {
   "cell_type": "code",
   "execution_count": 118,
   "id": "94d5c0c4",
   "metadata": {},
   "outputs": [
    {
     "data": {
      "text/plain": [
       "<TFRecordDatasetV2 element_spec=TensorSpec(shape=(), dtype=tf.string, name=None)>"
      ]
     },
     "execution_count": 118,
     "metadata": {},
     "output_type": "execute_result"
    }
   ],
   "source": [
    "#test reading\n",
    "filenames = [f'../raw_data/bertds_{i}.tfrecord' for i in range(1,11)]\n",
    "raw_dataset = tf.data.TFRecordDataset(filenames)\n",
    "raw_dataset"
   ]
  },
  {
   "cell_type": "code",
   "execution_count": 119,
   "id": "0c52cbbe",
   "metadata": {
    "scrolled": false
   },
   "outputs": [],
   "source": [
    "a=0\n",
    "for i in raw_dataset:\n",
    "    example = tf.train.Example()\n",
    "    example.ParseFromString(i.numpy())\n",
    "    a+=1"
   ]
  },
  {
   "cell_type": "code",
   "execution_count": 120,
   "id": "8492c535",
   "metadata": {},
   "outputs": [
    {
     "data": {
      "text/plain": [
       "100"
      ]
     },
     "execution_count": 120,
     "metadata": {},
     "output_type": "execute_result"
    }
   ],
   "source": [
    "a"
   ]
  },
  {
   "cell_type": "code",
   "execution_count": 121,
   "id": "0a95ecc9",
   "metadata": {},
   "outputs": [
    {
     "data": {
      "text/plain": [
       "<MapDataset element_spec=({'id': TensorSpec(shape=(), dtype=tf.int64, name=None), 'mean_w_p_s': TensorSpec(shape=(), dtype=tf.float32, name=None), 'nsentences': TensorSpec(shape=(), dtype=tf.int64, name=None), 'text': TensorSpec(shape=(), dtype=tf.string, name=None), 'var_w_p_s': TensorSpec(shape=(), dtype=tf.float32, name=None), 'vect': TensorSpec(shape=<unknown>, dtype=tf.float64, name=None)}, TensorSpec(shape=(), dtype=tf.int64, name=None))>"
      ]
     },
     "execution_count": 121,
     "metadata": {},
     "output_type": "execute_result"
    }
   ],
   "source": [
    "parsed_dataset = raw_dataset.map(_parse_function)\n",
    "parsed_dataset"
   ]
  },
  {
   "cell_type": "code",
   "execution_count": 122,
   "id": "86c62456",
   "metadata": {
    "scrolled": false
   },
   "outputs": [
    {
     "ename": "InvalidArgumentError",
     "evalue": "Type mismatch between parsed tensor (float) and dtype (double)\n\t [[{{node ParseTensor}}]] [Op:IteratorGetNext]",
     "output_type": "error",
     "traceback": [
      "\u001b[0;31m---------------------------------------------------------------------------\u001b[0m",
      "\u001b[0;31mInvalidArgumentError\u001b[0m                      Traceback (most recent call last)",
      "Cell \u001b[0;32mIn[122], line 1\u001b[0m\n\u001b[0;32m----> 1\u001b[0m \u001b[38;5;28;43mnext\u001b[39;49m\u001b[43m(\u001b[49m\u001b[38;5;28;43miter\u001b[39;49m\u001b[43m(\u001b[49m\u001b[43mparsed_dataset\u001b[49m\u001b[43m)\u001b[49m\u001b[43m)\u001b[49m\n",
      "File \u001b[0;32m~/Library/Caches/pypoetry/virtualenvs/gpt-vs-human-7LNN4CJ4-py3.10/lib/python3.10/site-packages/tensorflow/python/data/ops/iterator_ops.py:766\u001b[0m, in \u001b[0;36mOwnedIterator.__next__\u001b[0;34m(self)\u001b[0m\n\u001b[1;32m    764\u001b[0m \u001b[38;5;28;01mdef\u001b[39;00m \u001b[38;5;21m__next__\u001b[39m(\u001b[38;5;28mself\u001b[39m):\n\u001b[1;32m    765\u001b[0m   \u001b[38;5;28;01mtry\u001b[39;00m:\n\u001b[0;32m--> 766\u001b[0m     \u001b[38;5;28;01mreturn\u001b[39;00m \u001b[38;5;28;43mself\u001b[39;49m\u001b[38;5;241;43m.\u001b[39;49m\u001b[43m_next_internal\u001b[49m\u001b[43m(\u001b[49m\u001b[43m)\u001b[49m\n\u001b[1;32m    767\u001b[0m   \u001b[38;5;28;01mexcept\u001b[39;00m errors\u001b[38;5;241m.\u001b[39mOutOfRangeError:\n\u001b[1;32m    768\u001b[0m     \u001b[38;5;28;01mraise\u001b[39;00m \u001b[38;5;167;01mStopIteration\u001b[39;00m\n",
      "File \u001b[0;32m~/Library/Caches/pypoetry/virtualenvs/gpt-vs-human-7LNN4CJ4-py3.10/lib/python3.10/site-packages/tensorflow/python/data/ops/iterator_ops.py:749\u001b[0m, in \u001b[0;36mOwnedIterator._next_internal\u001b[0;34m(self)\u001b[0m\n\u001b[1;32m    746\u001b[0m \u001b[38;5;66;03m# TODO(b/77291417): This runs in sync mode as iterators use an error status\u001b[39;00m\n\u001b[1;32m    747\u001b[0m \u001b[38;5;66;03m# to communicate that there is no more data to iterate over.\u001b[39;00m\n\u001b[1;32m    748\u001b[0m \u001b[38;5;28;01mwith\u001b[39;00m context\u001b[38;5;241m.\u001b[39mexecution_mode(context\u001b[38;5;241m.\u001b[39mSYNC):\n\u001b[0;32m--> 749\u001b[0m   ret \u001b[38;5;241m=\u001b[39m \u001b[43mgen_dataset_ops\u001b[49m\u001b[38;5;241;43m.\u001b[39;49m\u001b[43miterator_get_next\u001b[49m\u001b[43m(\u001b[49m\n\u001b[1;32m    750\u001b[0m \u001b[43m      \u001b[49m\u001b[38;5;28;43mself\u001b[39;49m\u001b[38;5;241;43m.\u001b[39;49m\u001b[43m_iterator_resource\u001b[49m\u001b[43m,\u001b[49m\n\u001b[1;32m    751\u001b[0m \u001b[43m      \u001b[49m\u001b[43moutput_types\u001b[49m\u001b[38;5;241;43m=\u001b[39;49m\u001b[38;5;28;43mself\u001b[39;49m\u001b[38;5;241;43m.\u001b[39;49m\u001b[43m_flat_output_types\u001b[49m\u001b[43m,\u001b[49m\n\u001b[1;32m    752\u001b[0m \u001b[43m      \u001b[49m\u001b[43moutput_shapes\u001b[49m\u001b[38;5;241;43m=\u001b[39;49m\u001b[38;5;28;43mself\u001b[39;49m\u001b[38;5;241;43m.\u001b[39;49m\u001b[43m_flat_output_shapes\u001b[49m\u001b[43m)\u001b[49m\n\u001b[1;32m    754\u001b[0m   \u001b[38;5;28;01mtry\u001b[39;00m:\n\u001b[1;32m    755\u001b[0m     \u001b[38;5;66;03m# Fast path for the case `self._structure` is not a nested structure.\u001b[39;00m\n\u001b[1;32m    756\u001b[0m     \u001b[38;5;28;01mreturn\u001b[39;00m \u001b[38;5;28mself\u001b[39m\u001b[38;5;241m.\u001b[39m_element_spec\u001b[38;5;241m.\u001b[39m_from_compatible_tensor_list(ret)  \u001b[38;5;66;03m# pylint: disable=protected-access\u001b[39;00m\n",
      "File \u001b[0;32m~/Library/Caches/pypoetry/virtualenvs/gpt-vs-human-7LNN4CJ4-py3.10/lib/python3.10/site-packages/tensorflow/python/ops/gen_dataset_ops.py:3017\u001b[0m, in \u001b[0;36miterator_get_next\u001b[0;34m(iterator, output_types, output_shapes, name)\u001b[0m\n\u001b[1;32m   3015\u001b[0m   \u001b[38;5;28;01mreturn\u001b[39;00m _result\n\u001b[1;32m   3016\u001b[0m \u001b[38;5;28;01mexcept\u001b[39;00m _core\u001b[38;5;241m.\u001b[39m_NotOkStatusException \u001b[38;5;28;01mas\u001b[39;00m e:\n\u001b[0;32m-> 3017\u001b[0m   \u001b[43m_ops\u001b[49m\u001b[38;5;241;43m.\u001b[39;49m\u001b[43mraise_from_not_ok_status\u001b[49m\u001b[43m(\u001b[49m\u001b[43me\u001b[49m\u001b[43m,\u001b[49m\u001b[43m \u001b[49m\u001b[43mname\u001b[49m\u001b[43m)\u001b[49m\n\u001b[1;32m   3018\u001b[0m \u001b[38;5;28;01mexcept\u001b[39;00m _core\u001b[38;5;241m.\u001b[39m_FallbackException:\n\u001b[1;32m   3019\u001b[0m   \u001b[38;5;28;01mpass\u001b[39;00m\n",
      "File \u001b[0;32m~/Library/Caches/pypoetry/virtualenvs/gpt-vs-human-7LNN4CJ4-py3.10/lib/python3.10/site-packages/tensorflow/python/framework/ops.py:7164\u001b[0m, in \u001b[0;36mraise_from_not_ok_status\u001b[0;34m(e, name)\u001b[0m\n\u001b[1;32m   7162\u001b[0m \u001b[38;5;28;01mdef\u001b[39;00m \u001b[38;5;21mraise_from_not_ok_status\u001b[39m(e, name):\n\u001b[1;32m   7163\u001b[0m   e\u001b[38;5;241m.\u001b[39mmessage \u001b[38;5;241m+\u001b[39m\u001b[38;5;241m=\u001b[39m (\u001b[38;5;124m\"\u001b[39m\u001b[38;5;124m name: \u001b[39m\u001b[38;5;124m\"\u001b[39m \u001b[38;5;241m+\u001b[39m name \u001b[38;5;28;01mif\u001b[39;00m name \u001b[38;5;129;01mis\u001b[39;00m \u001b[38;5;129;01mnot\u001b[39;00m \u001b[38;5;28;01mNone\u001b[39;00m \u001b[38;5;28;01melse\u001b[39;00m \u001b[38;5;124m\"\u001b[39m\u001b[38;5;124m\"\u001b[39m)\n\u001b[0;32m-> 7164\u001b[0m   \u001b[38;5;28;01mraise\u001b[39;00m core\u001b[38;5;241m.\u001b[39m_status_to_exception(e) \u001b[38;5;28;01mfrom\u001b[39;00m \u001b[38;5;28mNone\u001b[39m\n",
      "\u001b[0;31mInvalidArgumentError\u001b[0m: Type mismatch between parsed tensor (float) and dtype (double)\n\t [[{{node ParseTensor}}]] [Op:IteratorGetNext]"
     ]
    }
   ],
   "source": [
    "next(iter(parsed_dataset))"
   ]
  },
  {
   "cell_type": "code",
   "execution_count": 2,
   "id": "b35907ee",
   "metadata": {},
   "outputs": [],
   "source": [
    "from google.cloud import storage"
   ]
  },
  {
   "cell_type": "code",
   "execution_count": 3,
   "id": "98bd360c",
   "metadata": {},
   "outputs": [],
   "source": [
    "def list_blobs(\n",
    "    bucket_name: str,\n",
    "    prefix: str = None,\n",
    "    delimiter: str = None,\n",
    "    extension: str = \"tfrecord.gz\",\n",
    ") -> list:\n",
    "    \"\"\"List all files in a bucket, possibly filtered with extension.\n",
    "\n",
    "    Parameters\n",
    "    ----------\n",
    "    bucket_name : str\n",
    "        Name of the bucket the files are in\n",
    "    prefix : str, optional\n",
    "        prefix of the files, / indicates a path if specified in the delimiter `\n",
    "        argument, by default None\n",
    "    delimiter : str, optional\n",
    "        character to be interpreted as a path delimiter, if present in the\n",
    "        prefix, by default None\n",
    "    extension : str, optional\n",
    "        If provided, the function returns only files with this extension,\n",
    "        by default \"tfrecord.gz\"\n",
    "\n",
    "    Returns\n",
    "    -------\n",
    "    List\n",
    "        List of all file names meeting given conditions.\n",
    "    \"\"\"\n",
    "\n",
    "    storage_client = storage.Client()\n",
    "    blobs = storage_client.list_blobs(bucket_name, prefix=prefix, delimiter=delimiter)\n",
    "\n",
    "    file_names = [\n",
    "        f\"gs://{bucket_name}/{blob.name}\"\n",
    "        for blob in blobs\n",
    "        if blob.name.endswith(extension)\n",
    "    ]\n",
    "    return file_names"
   ]
  },
  {
   "cell_type": "code",
   "execution_count": 16,
   "id": "a5379c23",
   "metadata": {},
   "outputs": [],
   "source": [
    "blobs = list_blobs('thebattle',extension='tfrecord')"
   ]
  },
  {
   "cell_type": "code",
   "execution_count": 101,
   "id": "1f6fa05a",
   "metadata": {},
   "outputs": [],
   "source": [
    "def move_blob(bucket_name, blob_name, destination_bucket_name, destination_blob_name,):\n",
    "    \"\"\"Moves a blob from one bucket to another with a new name.\"\"\"\n",
    "    # The ID of your GCS bucket\n",
    "    # bucket_name = \"your-bucket-name\"\n",
    "    # The ID of your GCS object\n",
    "    # blob_name = \"your-object-name\"\n",
    "    # The ID of the bucket to move the object to\n",
    "    # destination_bucket_name = \"destination-bucket-name\"\n",
    "    # The ID of your new GCS object (optional)\n",
    "    # destination_blob_name = \"destination-object-name\"\n",
    "\n",
    "    storage_client = storage.Client()\n",
    "\n",
    "    source_bucket = storage_client.bucket(bucket_name)\n",
    "    source_blob = source_bucket.blob(blob_name)\n",
    "    destination_bucket = storage_client.bucket(destination_bucket_name)\n",
    "    # Optional: set a generation-match precondition to avoid potential race conditions\n",
    "    # and data corruptions. The request is aborted if the object's\n",
    "    # generation number does not match your precondition. For a destination\n",
    "    # object that does not yet exist, set the if_generation_match precondition to 0.\n",
    "    # If the destination object already exists in your bucket, set instead a\n",
    "    # generation-match precondition using its generation number.\n",
    "    # There is also an `if_source_generation_match` parameter, which is not used in this example.\n",
    "    destination_generation_match_precondition = 1\n",
    "\n",
    "    blob_copy = source_bucket.copy_blob(\n",
    "        source_blob, destination_bucket, destination_blob_name,\n",
    "    )\n",
    "#     source_bucket.delete_blob(blob_name)\n",
    "\n",
    "    print(\n",
    "        \"Blob {} in bucket {} moved to blob {} in bucket {}.\".format(\n",
    "            source_blob.name,\n",
    "            source_bucket.name,\n",
    "            blob_copy.name,\n",
    "            destination_bucket.name,\n",
    "        )\n",
    "    )"
   ]
  },
  {
   "cell_type": "code",
   "execution_count": 90,
   "id": "46124344",
   "metadata": {},
   "outputs": [
    {
     "data": {
      "text/plain": [
       "(180, 60, 60)"
      ]
     },
     "execution_count": 90,
     "metadata": {},
     "output_type": "execute_result"
    }
   ],
   "source": [
    "np.random.shuffle(blobs)\n",
    "nblobs = len(blobs)\n",
    "ntrain = int(nblobs*.6)\n",
    "nval = int(nblobs*.2)\n",
    "ntest = int(nblobs*.2)\n",
    "# train_blobs = blobs[:]\n",
    "ntrain,ntest,nval"
   ]
  },
  {
   "cell_type": "code",
   "execution_count": 91,
   "id": "512b4e32",
   "metadata": {},
   "outputs": [],
   "source": [
    "train_blobs = blobs[:ntrain]\n",
    "val_blobs = blobs[ntrain:nval+ntrain]\n",
    "test_blobs = blobs[ntrain+nval:]"
   ]
  },
  {
   "cell_type": "code",
   "execution_count": 92,
   "id": "79b98122",
   "metadata": {},
   "outputs": [
    {
     "data": {
      "text/plain": [
       "'w2v_ds/dataset_123.tfrecord'"
      ]
     },
     "execution_count": 92,
     "metadata": {},
     "output_type": "execute_result"
    }
   ],
   "source": [
    "'/'.join(train_blobs[0].split('/')[-2:])"
   ]
  },
  {
   "cell_type": "code",
   "execution_count": 93,
   "id": "d66e3480",
   "metadata": {},
   "outputs": [
    {
     "data": {
      "text/plain": [
       "('w2v_ds/dataset_123.tfrecord', 'gs://thebattle/w2v_ds/dataset_104.tfrecord')"
      ]
     },
     "execution_count": 93,
     "metadata": {},
     "output_type": "execute_result"
    }
   ],
   "source": [
    "blobname = '/'.join(train_blobs[0].split('/')[-2:])\n",
    "blobname\n",
    "blobtest = 'haha/'+blobname\n",
    "blobname,'gs://thebattle/w2v_ds/dataset_104.tfrecord'"
   ]
  },
  {
   "cell_type": "code",
   "execution_count": 94,
   "id": "1e001787",
   "metadata": {},
   "outputs": [
    {
     "data": {
      "text/plain": [
       "'haha/w2v_ds/dataset_123.tfrecord'"
      ]
     },
     "execution_count": 94,
     "metadata": {},
     "output_type": "execute_result"
    }
   ],
   "source": [
    "blobtest"
   ]
  },
  {
   "cell_type": "code",
   "execution_count": 102,
   "id": "b09c9d63",
   "metadata": {},
   "outputs": [
    {
     "data": {
      "text/plain": [
       "['gs://thebattle/w2v_ds/dataset_123.tfrecord',\n",
       " 'gs://thebattle/w2v_ds/dataset_208.tfrecord',\n",
       " 'gs://thebattle/w2v_ds/dataset_91.tfrecord',\n",
       " 'gs://thebattle/w2v_ds/dataset_248.tfrecord',\n",
       " 'gs://thebattle/w2v_ds/dataset_279.tfrecord',\n",
       " 'gs://thebattle/w2v_ds/dataset_285.tfrecord',\n",
       " 'gs://thebattle/w2v_ds/dataset_11.tfrecord',\n",
       " 'gs://thebattle/w2v_ds/dataset_36.tfrecord',\n",
       " 'gs://thebattle/w2v_ds/dataset_85.tfrecord',\n",
       " 'gs://thebattle/w2v_ds/dataset_235.tfrecord',\n",
       " 'gs://thebattle/w2v_ds/dataset_55.tfrecord',\n",
       " 'gs://thebattle/w2v_ds/dataset_67.tfrecord',\n",
       " 'gs://thebattle/w2v_ds/dataset_152.tfrecord',\n",
       " 'gs://thebattle/w2v_ds/dataset_112.tfrecord',\n",
       " 'gs://thebattle/w2v_ds/dataset_13.tfrecord',\n",
       " 'gs://thebattle/w2v_ds/dataset_293.tfrecord',\n",
       " 'gs://thebattle/w2v_ds/dataset_26.tfrecord',\n",
       " 'gs://thebattle/w2v_ds/dataset_287.tfrecord',\n",
       " 'gs://thebattle/w2v_ds/dataset_30.tfrecord',\n",
       " 'gs://thebattle/w2v_ds/dataset_2.tfrecord',\n",
       " 'gs://thebattle/w2v_ds/dataset_258.tfrecord',\n",
       " 'gs://thebattle/w2v_ds/dataset_130.tfrecord',\n",
       " 'gs://thebattle/w2v_ds/dataset_16.tfrecord',\n",
       " 'gs://thebattle/w2v_ds/dataset_120.tfrecord',\n",
       " 'gs://thebattle/w2v_ds/dataset_201.tfrecord',\n",
       " 'gs://thebattle/w2v_ds/dataset_1.tfrecord',\n",
       " 'gs://thebattle/w2v_ds/dataset_150.tfrecord',\n",
       " 'gs://thebattle/w2v_ds/dataset_251.tfrecord',\n",
       " 'gs://thebattle/w2v_ds/dataset_119.tfrecord',\n",
       " 'gs://thebattle/w2v_ds/dataset_47.tfrecord',\n",
       " 'gs://thebattle/w2v_ds/dataset_191.tfrecord',\n",
       " 'gs://thebattle/w2v_ds/dataset_154.tfrecord',\n",
       " 'gs://thebattle/w2v_ds/dataset_298.tfrecord',\n",
       " 'gs://thebattle/w2v_ds/dataset_110.tfrecord',\n",
       " 'gs://thebattle/w2v_ds/dataset_10.tfrecord',\n",
       " 'gs://thebattle/w2v_ds/dataset_238.tfrecord',\n",
       " 'gs://thebattle/w2v_ds/dataset_53.tfrecord',\n",
       " 'gs://thebattle/w2v_ds/dataset_205.tfrecord',\n",
       " 'gs://thebattle/w2v_ds/dataset_5.tfrecord',\n",
       " 'gs://thebattle/w2v_ds/dataset_202.tfrecord',\n",
       " 'gs://thebattle/w2v_ds/dataset_76.tfrecord',\n",
       " 'gs://thebattle/w2v_ds/dataset_38.tfrecord',\n",
       " 'gs://thebattle/w2v_ds/dataset_284.tfrecord',\n",
       " 'gs://thebattle/w2v_ds/dataset_49.tfrecord',\n",
       " 'gs://thebattle/w2v_ds/dataset_60.tfrecord',\n",
       " 'gs://thebattle/w2v_ds/dataset_78.tfrecord',\n",
       " 'gs://thebattle/w2v_ds/dataset_141.tfrecord',\n",
       " 'gs://thebattle/w2v_ds/dataset_250.tfrecord',\n",
       " 'gs://thebattle/w2v_ds/dataset_242.tfrecord',\n",
       " 'gs://thebattle/w2v_ds/dataset_108.tfrecord',\n",
       " 'gs://thebattle/w2v_ds/dataset_65.tfrecord',\n",
       " 'gs://thebattle/w2v_ds/dataset_31.tfrecord',\n",
       " 'gs://thebattle/w2v_ds/dataset_275.tfrecord',\n",
       " 'gs://thebattle/w2v_ds/dataset_256.tfrecord',\n",
       " 'gs://thebattle/w2v_ds/dataset_93.tfrecord',\n",
       " 'gs://thebattle/w2v_ds/dataset_271.tfrecord',\n",
       " 'gs://thebattle/w2v_ds/dataset_6.tfrecord',\n",
       " 'gs://thebattle/w2v_ds/dataset_138.tfrecord',\n",
       " 'gs://thebattle/w2v_ds/dataset_195.tfrecord',\n",
       " 'gs://thebattle/w2v_ds/dataset_265.tfrecord',\n",
       " 'gs://thebattle/w2v_ds/dataset_34.tfrecord',\n",
       " 'gs://thebattle/w2v_ds/dataset_170.tfrecord',\n",
       " 'gs://thebattle/w2v_ds/dataset_134.tfrecord',\n",
       " 'gs://thebattle/w2v_ds/dataset_244.tfrecord',\n",
       " 'gs://thebattle/w2v_ds/dataset_147.tfrecord',\n",
       " 'gs://thebattle/w2v_ds/dataset_188.tfrecord',\n",
       " 'gs://thebattle/w2v_ds/dataset_33.tfrecord',\n",
       " 'gs://thebattle/w2v_ds/dataset_131.tfrecord',\n",
       " 'gs://thebattle/w2v_ds/dataset_50.tfrecord',\n",
       " 'gs://thebattle/w2v_ds/dataset_156.tfrecord',\n",
       " 'gs://thebattle/w2v_ds/dataset_109.tfrecord',\n",
       " 'gs://thebattle/w2v_ds/dataset_272.tfrecord',\n",
       " 'gs://thebattle/w2v_ds/dataset_107.tfrecord',\n",
       " 'gs://thebattle/w2v_ds/dataset_289.tfrecord',\n",
       " 'gs://thebattle/w2v_ds/dataset_216.tfrecord',\n",
       " 'gs://thebattle/w2v_ds/dataset_84.tfrecord',\n",
       " 'gs://thebattle/w2v_ds/dataset_62.tfrecord',\n",
       " 'gs://thebattle/w2v_ds/dataset_267.tfrecord',\n",
       " 'gs://thebattle/w2v_ds/dataset_39.tfrecord',\n",
       " 'gs://thebattle/w2v_ds/dataset_234.tfrecord',\n",
       " 'gs://thebattle/w2v_ds/dataset_161.tfrecord',\n",
       " 'gs://thebattle/w2v_ds/dataset_142.tfrecord',\n",
       " 'gs://thebattle/w2v_ds/dataset_223.tfrecord',\n",
       " 'gs://thebattle/w2v_ds/dataset_281.tfrecord',\n",
       " 'gs://thebattle/w2v_ds/dataset_229.tfrecord',\n",
       " 'gs://thebattle/w2v_ds/dataset_226.tfrecord',\n",
       " 'gs://thebattle/w2v_ds/dataset_180.tfrecord',\n",
       " 'gs://thebattle/w2v_ds/dataset_18.tfrecord',\n",
       " 'gs://thebattle/w2v_ds/dataset_63.tfrecord',\n",
       " 'gs://thebattle/w2v_ds/dataset_203.tfrecord',\n",
       " 'gs://thebattle/w2v_ds/dataset_291.tfrecord',\n",
       " 'gs://thebattle/w2v_ds/dataset_77.tfrecord',\n",
       " 'gs://thebattle/w2v_ds/dataset_68.tfrecord',\n",
       " 'gs://thebattle/w2v_ds/dataset_292.tfrecord',\n",
       " 'gs://thebattle/w2v_ds/dataset_126.tfrecord',\n",
       " 'gs://thebattle/w2v_ds/dataset_228.tfrecord',\n",
       " 'gs://thebattle/w2v_ds/dataset_81.tfrecord',\n",
       " 'gs://thebattle/w2v_ds/dataset_143.tfrecord',\n",
       " 'gs://thebattle/w2v_ds/dataset_296.tfrecord',\n",
       " 'gs://thebattle/w2v_ds/dataset_66.tfrecord',\n",
       " 'gs://thebattle/w2v_ds/dataset_217.tfrecord',\n",
       " 'gs://thebattle/w2v_ds/dataset_88.tfrecord',\n",
       " 'gs://thebattle/w2v_ds/dataset_227.tfrecord',\n",
       " 'gs://thebattle/w2v_ds/dataset_117.tfrecord',\n",
       " 'gs://thebattle/w2v_ds/dataset_270.tfrecord',\n",
       " 'gs://thebattle/w2v_ds/dataset_149.tfrecord',\n",
       " 'gs://thebattle/w2v_ds/dataset_92.tfrecord',\n",
       " 'gs://thebattle/w2v_ds/dataset_15.tfrecord',\n",
       " 'gs://thebattle/w2v_ds/dataset_213.tfrecord',\n",
       " 'gs://thebattle/w2v_ds/dataset_157.tfrecord',\n",
       " 'gs://thebattle/w2v_ds/dataset_209.tfrecord',\n",
       " 'gs://thebattle/w2v_ds/dataset_240.tfrecord',\n",
       " 'gs://thebattle/w2v_ds/dataset_274.tfrecord',\n",
       " 'gs://thebattle/w2v_ds/dataset_177.tfrecord',\n",
       " 'gs://thebattle/w2v_ds/dataset_197.tfrecord',\n",
       " 'gs://thebattle/w2v_ds/dataset_288.tfrecord',\n",
       " 'gs://thebattle/w2v_ds/dataset_64.tfrecord',\n",
       " 'gs://thebattle/w2v_ds/dataset_171.tfrecord',\n",
       " 'gs://thebattle/w2v_ds/dataset_266.tfrecord',\n",
       " 'gs://thebattle/w2v_ds/dataset_166.tfrecord',\n",
       " 'gs://thebattle/w2v_ds/dataset_122.tfrecord',\n",
       " 'gs://thebattle/w2v_ds/dataset_294.tfrecord',\n",
       " 'gs://thebattle/w2v_ds/dataset_153.tfrecord',\n",
       " 'gs://thebattle/w2v_ds/dataset_273.tfrecord',\n",
       " 'gs://thebattle/w2v_ds/dataset_175.tfrecord',\n",
       " 'gs://thebattle/w2v_ds/dataset_181.tfrecord',\n",
       " 'gs://thebattle/w2v_ds/dataset_269.tfrecord',\n",
       " 'gs://thebattle/w2v_ds/dataset_94.tfrecord',\n",
       " 'gs://thebattle/w2v_ds/dataset_95.tfrecord',\n",
       " 'gs://thebattle/w2v_ds/dataset_295.tfrecord',\n",
       " 'gs://thebattle/w2v_ds/dataset_243.tfrecord',\n",
       " 'gs://thebattle/w2v_ds/dataset_114.tfrecord',\n",
       " 'gs://thebattle/w2v_ds/dataset_215.tfrecord',\n",
       " 'gs://thebattle/w2v_ds/dataset_230.tfrecord',\n",
       " 'gs://thebattle/w2v_ds/dataset_132.tfrecord',\n",
       " 'gs://thebattle/w2v_ds/dataset_300.tfrecord',\n",
       " 'gs://thebattle/w2v_ds/dataset_184.tfrecord',\n",
       " 'gs://thebattle/w2v_ds/dataset_164.tfrecord',\n",
       " 'gs://thebattle/w2v_ds/dataset_297.tfrecord',\n",
       " 'gs://thebattle/w2v_ds/dataset_259.tfrecord',\n",
       " 'gs://thebattle/w2v_ds/dataset_232.tfrecord',\n",
       " 'gs://thebattle/w2v_ds/dataset_214.tfrecord',\n",
       " 'gs://thebattle/w2v_ds/dataset_183.tfrecord',\n",
       " 'gs://thebattle/w2v_ds/dataset_97.tfrecord',\n",
       " 'gs://thebattle/w2v_ds/dataset_257.tfrecord',\n",
       " 'gs://thebattle/w2v_ds/dataset_261.tfrecord',\n",
       " 'gs://thebattle/w2v_ds/dataset_206.tfrecord',\n",
       " 'gs://thebattle/w2v_ds/dataset_189.tfrecord',\n",
       " 'gs://thebattle/w2v_ds/dataset_12.tfrecord',\n",
       " 'gs://thebattle/w2v_ds/dataset_75.tfrecord',\n",
       " 'gs://thebattle/w2v_ds/dataset_14.tfrecord',\n",
       " 'gs://thebattle/w2v_ds/dataset_21.tfrecord',\n",
       " 'gs://thebattle/w2v_ds/dataset_241.tfrecord',\n",
       " 'gs://thebattle/w2v_ds/dataset_225.tfrecord',\n",
       " 'gs://thebattle/w2v_ds/dataset_278.tfrecord',\n",
       " 'gs://thebattle/w2v_ds/dataset_252.tfrecord',\n",
       " 'gs://thebattle/w2v_ds/dataset_103.tfrecord',\n",
       " 'gs://thebattle/w2v_ds/dataset_101.tfrecord',\n",
       " 'gs://thebattle/w2v_ds/dataset_98.tfrecord',\n",
       " 'gs://thebattle/w2v_ds/dataset_200.tfrecord',\n",
       " 'gs://thebattle/w2v_ds/dataset_7.tfrecord',\n",
       " 'gs://thebattle/w2v_ds/dataset_245.tfrecord',\n",
       " 'gs://thebattle/w2v_ds/dataset_146.tfrecord',\n",
       " 'gs://thebattle/w2v_ds/dataset_54.tfrecord',\n",
       " 'gs://thebattle/w2v_ds/dataset_198.tfrecord',\n",
       " 'gs://thebattle/w2v_ds/dataset_148.tfrecord',\n",
       " 'gs://thebattle/w2v_ds/dataset_239.tfrecord',\n",
       " 'gs://thebattle/w2v_ds/dataset_100.tfrecord',\n",
       " 'gs://thebattle/w2v_ds/dataset_86.tfrecord',\n",
       " 'gs://thebattle/w2v_ds/dataset_28.tfrecord',\n",
       " 'gs://thebattle/w2v_ds/dataset_268.tfrecord',\n",
       " 'gs://thebattle/w2v_ds/dataset_57.tfrecord',\n",
       " 'gs://thebattle/w2v_ds/dataset_158.tfrecord',\n",
       " 'gs://thebattle/w2v_ds/dataset_290.tfrecord',\n",
       " 'gs://thebattle/w2v_ds/dataset_73.tfrecord',\n",
       " 'gs://thebattle/w2v_ds/dataset_264.tfrecord',\n",
       " 'gs://thebattle/w2v_ds/dataset_211.tfrecord',\n",
       " 'gs://thebattle/w2v_ds/dataset_194.tfrecord',\n",
       " 'gs://thebattle/w2v_ds/dataset_222.tfrecord',\n",
       " 'gs://thebattle/w2v_ds/dataset_249.tfrecord']"
      ]
     },
     "execution_count": 102,
     "metadata": {},
     "output_type": "execute_result"
    }
   ],
   "source": [
    "train_blobs"
   ]
  },
  {
   "cell_type": "code",
   "execution_count": 106,
   "id": "9a75b3a5",
   "metadata": {},
   "outputs": [],
   "source": [
    "destblob = b.split('/')[-2]+'/'+bn+'/'+b.split('/')[-1]"
   ]
  },
  {
   "cell_type": "code",
   "execution_count": 107,
   "id": "9fb6fe8a",
   "metadata": {},
   "outputs": [
    {
     "data": {
      "text/plain": [
       "'w2v_ds/val/dataset_277.tfrecord'"
      ]
     },
     "execution_count": 107,
     "metadata": {},
     "output_type": "execute_result"
    }
   ],
   "source": [
    "destblob"
   ]
  },
  {
   "cell_type": "code",
   "execution_count": 114,
   "id": "116fec20",
   "metadata": {},
   "outputs": [
    {
     "data": {
      "text/plain": [
       "tensorflow.python.distribute.distribute_lib.Strategy"
      ]
     },
     "execution_count": 114,
     "metadata": {},
     "output_type": "execute_result"
    }
   ],
   "source": [
    "tf.distribute.Strategy"
   ]
  },
  {
   "cell_type": "code",
   "execution_count": 116,
   "id": "c36be6f0",
   "metadata": {},
   "outputs": [
    {
     "data": {
      "text/plain": [
       "[LogicalDevice(name='/device:CPU:0', device_type='CPU'),\n",
       " LogicalDevice(name='/device:GPU:0', device_type='GPU')]"
      ]
     },
     "execution_count": 116,
     "metadata": {},
     "output_type": "execute_result"
    }
   ],
   "source": [
    "tf.config.list_logical_devices()"
   ]
  },
  {
   "cell_type": "code",
   "execution_count": 117,
   "id": "15e83644",
   "metadata": {},
   "outputs": [
    {
     "name": "stdout",
     "output_type": "stream",
     "text": [
      "INFO:tensorflow:Using MirroredStrategy with devices ('/job:localhost/replica:0/task:0/device:GPU:0',)\n"
     ]
    },
    {
     "data": {
      "text/plain": [
       "<tensorflow.python.distribute.mirrored_strategy.MirroredStrategy at 0x2b3c12590>"
      ]
     },
     "execution_count": 117,
     "metadata": {},
     "output_type": "execute_result"
    }
   ],
   "source": [
    "tf.distribute.MirroredStrategy()"
   ]
  },
  {
   "cell_type": "code",
   "execution_count": 108,
   "id": "7f0c9816",
   "metadata": {
    "scrolled": false
   },
   "outputs": [
    {
     "name": "stdout",
     "output_type": "stream",
     "text": [
      "Blob w2v_ds/dataset_123.tfrecord in bucket thebattle moved to blob w2v_ds/train/dataset_123.tfrecord in bucket thebattle.\n",
      "Blob w2v_ds/dataset_208.tfrecord in bucket thebattle moved to blob w2v_ds/train/dataset_208.tfrecord in bucket thebattle.\n",
      "Blob w2v_ds/dataset_91.tfrecord in bucket thebattle moved to blob w2v_ds/train/dataset_91.tfrecord in bucket thebattle.\n",
      "Blob w2v_ds/dataset_248.tfrecord in bucket thebattle moved to blob w2v_ds/train/dataset_248.tfrecord in bucket thebattle.\n",
      "Blob w2v_ds/dataset_279.tfrecord in bucket thebattle moved to blob w2v_ds/train/dataset_279.tfrecord in bucket thebattle.\n",
      "Blob w2v_ds/dataset_285.tfrecord in bucket thebattle moved to blob w2v_ds/train/dataset_285.tfrecord in bucket thebattle.\n",
      "Blob w2v_ds/dataset_11.tfrecord in bucket thebattle moved to blob w2v_ds/train/dataset_11.tfrecord in bucket thebattle.\n",
      "Blob w2v_ds/dataset_36.tfrecord in bucket thebattle moved to blob w2v_ds/train/dataset_36.tfrecord in bucket thebattle.\n",
      "Blob w2v_ds/dataset_85.tfrecord in bucket thebattle moved to blob w2v_ds/train/dataset_85.tfrecord in bucket thebattle.\n",
      "Blob w2v_ds/dataset_235.tfrecord in bucket thebattle moved to blob w2v_ds/train/dataset_235.tfrecord in bucket thebattle.\n",
      "Blob w2v_ds/dataset_55.tfrecord in bucket thebattle moved to blob w2v_ds/train/dataset_55.tfrecord in bucket thebattle.\n",
      "Blob w2v_ds/dataset_67.tfrecord in bucket thebattle moved to blob w2v_ds/train/dataset_67.tfrecord in bucket thebattle.\n",
      "Blob w2v_ds/dataset_152.tfrecord in bucket thebattle moved to blob w2v_ds/train/dataset_152.tfrecord in bucket thebattle.\n",
      "Blob w2v_ds/dataset_112.tfrecord in bucket thebattle moved to blob w2v_ds/train/dataset_112.tfrecord in bucket thebattle.\n",
      "Blob w2v_ds/dataset_13.tfrecord in bucket thebattle moved to blob w2v_ds/train/dataset_13.tfrecord in bucket thebattle.\n",
      "Blob w2v_ds/dataset_293.tfrecord in bucket thebattle moved to blob w2v_ds/train/dataset_293.tfrecord in bucket thebattle.\n",
      "Blob w2v_ds/dataset_26.tfrecord in bucket thebattle moved to blob w2v_ds/train/dataset_26.tfrecord in bucket thebattle.\n",
      "Blob w2v_ds/dataset_287.tfrecord in bucket thebattle moved to blob w2v_ds/train/dataset_287.tfrecord in bucket thebattle.\n",
      "Blob w2v_ds/dataset_30.tfrecord in bucket thebattle moved to blob w2v_ds/train/dataset_30.tfrecord in bucket thebattle.\n",
      "Blob w2v_ds/dataset_2.tfrecord in bucket thebattle moved to blob w2v_ds/train/dataset_2.tfrecord in bucket thebattle.\n",
      "Blob w2v_ds/dataset_258.tfrecord in bucket thebattle moved to blob w2v_ds/train/dataset_258.tfrecord in bucket thebattle.\n",
      "Blob w2v_ds/dataset_130.tfrecord in bucket thebattle moved to blob w2v_ds/train/dataset_130.tfrecord in bucket thebattle.\n",
      "Blob w2v_ds/dataset_16.tfrecord in bucket thebattle moved to blob w2v_ds/train/dataset_16.tfrecord in bucket thebattle.\n",
      "Blob w2v_ds/dataset_120.tfrecord in bucket thebattle moved to blob w2v_ds/train/dataset_120.tfrecord in bucket thebattle.\n",
      "Blob w2v_ds/dataset_201.tfrecord in bucket thebattle moved to blob w2v_ds/train/dataset_201.tfrecord in bucket thebattle.\n",
      "Blob w2v_ds/dataset_1.tfrecord in bucket thebattle moved to blob w2v_ds/train/dataset_1.tfrecord in bucket thebattle.\n",
      "Blob w2v_ds/dataset_150.tfrecord in bucket thebattle moved to blob w2v_ds/train/dataset_150.tfrecord in bucket thebattle.\n",
      "Blob w2v_ds/dataset_251.tfrecord in bucket thebattle moved to blob w2v_ds/train/dataset_251.tfrecord in bucket thebattle.\n",
      "Blob w2v_ds/dataset_119.tfrecord in bucket thebattle moved to blob w2v_ds/train/dataset_119.tfrecord in bucket thebattle.\n",
      "Blob w2v_ds/dataset_47.tfrecord in bucket thebattle moved to blob w2v_ds/train/dataset_47.tfrecord in bucket thebattle.\n",
      "Blob w2v_ds/dataset_191.tfrecord in bucket thebattle moved to blob w2v_ds/train/dataset_191.tfrecord in bucket thebattle.\n",
      "Blob w2v_ds/dataset_154.tfrecord in bucket thebattle moved to blob w2v_ds/train/dataset_154.tfrecord in bucket thebattle.\n",
      "Blob w2v_ds/dataset_298.tfrecord in bucket thebattle moved to blob w2v_ds/train/dataset_298.tfrecord in bucket thebattle.\n",
      "Blob w2v_ds/dataset_110.tfrecord in bucket thebattle moved to blob w2v_ds/train/dataset_110.tfrecord in bucket thebattle.\n",
      "Blob w2v_ds/dataset_10.tfrecord in bucket thebattle moved to blob w2v_ds/train/dataset_10.tfrecord in bucket thebattle.\n",
      "Blob w2v_ds/dataset_238.tfrecord in bucket thebattle moved to blob w2v_ds/train/dataset_238.tfrecord in bucket thebattle.\n",
      "Blob w2v_ds/dataset_53.tfrecord in bucket thebattle moved to blob w2v_ds/train/dataset_53.tfrecord in bucket thebattle.\n",
      "Blob w2v_ds/dataset_205.tfrecord in bucket thebattle moved to blob w2v_ds/train/dataset_205.tfrecord in bucket thebattle.\n",
      "Blob w2v_ds/dataset_5.tfrecord in bucket thebattle moved to blob w2v_ds/train/dataset_5.tfrecord in bucket thebattle.\n",
      "Blob w2v_ds/dataset_202.tfrecord in bucket thebattle moved to blob w2v_ds/train/dataset_202.tfrecord in bucket thebattle.\n",
      "Blob w2v_ds/dataset_76.tfrecord in bucket thebattle moved to blob w2v_ds/train/dataset_76.tfrecord in bucket thebattle.\n",
      "Blob w2v_ds/dataset_38.tfrecord in bucket thebattle moved to blob w2v_ds/train/dataset_38.tfrecord in bucket thebattle.\n",
      "Blob w2v_ds/dataset_284.tfrecord in bucket thebattle moved to blob w2v_ds/train/dataset_284.tfrecord in bucket thebattle.\n",
      "Blob w2v_ds/dataset_49.tfrecord in bucket thebattle moved to blob w2v_ds/train/dataset_49.tfrecord in bucket thebattle.\n",
      "Blob w2v_ds/dataset_60.tfrecord in bucket thebattle moved to blob w2v_ds/train/dataset_60.tfrecord in bucket thebattle.\n",
      "Blob w2v_ds/dataset_78.tfrecord in bucket thebattle moved to blob w2v_ds/train/dataset_78.tfrecord in bucket thebattle.\n",
      "Blob w2v_ds/dataset_141.tfrecord in bucket thebattle moved to blob w2v_ds/train/dataset_141.tfrecord in bucket thebattle.\n",
      "Blob w2v_ds/dataset_250.tfrecord in bucket thebattle moved to blob w2v_ds/train/dataset_250.tfrecord in bucket thebattle.\n",
      "Blob w2v_ds/dataset_242.tfrecord in bucket thebattle moved to blob w2v_ds/train/dataset_242.tfrecord in bucket thebattle.\n",
      "Blob w2v_ds/dataset_108.tfrecord in bucket thebattle moved to blob w2v_ds/train/dataset_108.tfrecord in bucket thebattle.\n",
      "Blob w2v_ds/dataset_65.tfrecord in bucket thebattle moved to blob w2v_ds/train/dataset_65.tfrecord in bucket thebattle.\n",
      "Blob w2v_ds/dataset_31.tfrecord in bucket thebattle moved to blob w2v_ds/train/dataset_31.tfrecord in bucket thebattle.\n",
      "Blob w2v_ds/dataset_275.tfrecord in bucket thebattle moved to blob w2v_ds/train/dataset_275.tfrecord in bucket thebattle.\n",
      "Blob w2v_ds/dataset_256.tfrecord in bucket thebattle moved to blob w2v_ds/train/dataset_256.tfrecord in bucket thebattle.\n",
      "Blob w2v_ds/dataset_93.tfrecord in bucket thebattle moved to blob w2v_ds/train/dataset_93.tfrecord in bucket thebattle.\n",
      "Blob w2v_ds/dataset_271.tfrecord in bucket thebattle moved to blob w2v_ds/train/dataset_271.tfrecord in bucket thebattle.\n",
      "Blob w2v_ds/dataset_6.tfrecord in bucket thebattle moved to blob w2v_ds/train/dataset_6.tfrecord in bucket thebattle.\n",
      "Blob w2v_ds/dataset_138.tfrecord in bucket thebattle moved to blob w2v_ds/train/dataset_138.tfrecord in bucket thebattle.\n",
      "Blob w2v_ds/dataset_195.tfrecord in bucket thebattle moved to blob w2v_ds/train/dataset_195.tfrecord in bucket thebattle.\n",
      "Blob w2v_ds/dataset_265.tfrecord in bucket thebattle moved to blob w2v_ds/train/dataset_265.tfrecord in bucket thebattle.\n",
      "Blob w2v_ds/dataset_34.tfrecord in bucket thebattle moved to blob w2v_ds/train/dataset_34.tfrecord in bucket thebattle.\n",
      "Blob w2v_ds/dataset_170.tfrecord in bucket thebattle moved to blob w2v_ds/train/dataset_170.tfrecord in bucket thebattle.\n",
      "Blob w2v_ds/dataset_134.tfrecord in bucket thebattle moved to blob w2v_ds/train/dataset_134.tfrecord in bucket thebattle.\n",
      "Blob w2v_ds/dataset_244.tfrecord in bucket thebattle moved to blob w2v_ds/train/dataset_244.tfrecord in bucket thebattle.\n",
      "Blob w2v_ds/dataset_147.tfrecord in bucket thebattle moved to blob w2v_ds/train/dataset_147.tfrecord in bucket thebattle.\n",
      "Blob w2v_ds/dataset_188.tfrecord in bucket thebattle moved to blob w2v_ds/train/dataset_188.tfrecord in bucket thebattle.\n",
      "Blob w2v_ds/dataset_33.tfrecord in bucket thebattle moved to blob w2v_ds/train/dataset_33.tfrecord in bucket thebattle.\n",
      "Blob w2v_ds/dataset_131.tfrecord in bucket thebattle moved to blob w2v_ds/train/dataset_131.tfrecord in bucket thebattle.\n"
     ]
    },
    {
     "name": "stdout",
     "output_type": "stream",
     "text": [
      "Blob w2v_ds/dataset_50.tfrecord in bucket thebattle moved to blob w2v_ds/train/dataset_50.tfrecord in bucket thebattle.\n",
      "Blob w2v_ds/dataset_156.tfrecord in bucket thebattle moved to blob w2v_ds/train/dataset_156.tfrecord in bucket thebattle.\n",
      "Blob w2v_ds/dataset_109.tfrecord in bucket thebattle moved to blob w2v_ds/train/dataset_109.tfrecord in bucket thebattle.\n",
      "Blob w2v_ds/dataset_272.tfrecord in bucket thebattle moved to blob w2v_ds/train/dataset_272.tfrecord in bucket thebattle.\n",
      "Blob w2v_ds/dataset_107.tfrecord in bucket thebattle moved to blob w2v_ds/train/dataset_107.tfrecord in bucket thebattle.\n",
      "Blob w2v_ds/dataset_289.tfrecord in bucket thebattle moved to blob w2v_ds/train/dataset_289.tfrecord in bucket thebattle.\n",
      "Blob w2v_ds/dataset_216.tfrecord in bucket thebattle moved to blob w2v_ds/train/dataset_216.tfrecord in bucket thebattle.\n",
      "Blob w2v_ds/dataset_84.tfrecord in bucket thebattle moved to blob w2v_ds/train/dataset_84.tfrecord in bucket thebattle.\n",
      "Blob w2v_ds/dataset_62.tfrecord in bucket thebattle moved to blob w2v_ds/train/dataset_62.tfrecord in bucket thebattle.\n",
      "Blob w2v_ds/dataset_267.tfrecord in bucket thebattle moved to blob w2v_ds/train/dataset_267.tfrecord in bucket thebattle.\n",
      "Blob w2v_ds/dataset_39.tfrecord in bucket thebattle moved to blob w2v_ds/train/dataset_39.tfrecord in bucket thebattle.\n",
      "Blob w2v_ds/dataset_234.tfrecord in bucket thebattle moved to blob w2v_ds/train/dataset_234.tfrecord in bucket thebattle.\n",
      "Blob w2v_ds/dataset_161.tfrecord in bucket thebattle moved to blob w2v_ds/train/dataset_161.tfrecord in bucket thebattle.\n",
      "Blob w2v_ds/dataset_142.tfrecord in bucket thebattle moved to blob w2v_ds/train/dataset_142.tfrecord in bucket thebattle.\n",
      "Blob w2v_ds/dataset_223.tfrecord in bucket thebattle moved to blob w2v_ds/train/dataset_223.tfrecord in bucket thebattle.\n",
      "Blob w2v_ds/dataset_281.tfrecord in bucket thebattle moved to blob w2v_ds/train/dataset_281.tfrecord in bucket thebattle.\n",
      "Blob w2v_ds/dataset_229.tfrecord in bucket thebattle moved to blob w2v_ds/train/dataset_229.tfrecord in bucket thebattle.\n",
      "Blob w2v_ds/dataset_226.tfrecord in bucket thebattle moved to blob w2v_ds/train/dataset_226.tfrecord in bucket thebattle.\n",
      "Blob w2v_ds/dataset_180.tfrecord in bucket thebattle moved to blob w2v_ds/train/dataset_180.tfrecord in bucket thebattle.\n",
      "Blob w2v_ds/dataset_18.tfrecord in bucket thebattle moved to blob w2v_ds/train/dataset_18.tfrecord in bucket thebattle.\n",
      "Blob w2v_ds/dataset_63.tfrecord in bucket thebattle moved to blob w2v_ds/train/dataset_63.tfrecord in bucket thebattle.\n",
      "Blob w2v_ds/dataset_203.tfrecord in bucket thebattle moved to blob w2v_ds/train/dataset_203.tfrecord in bucket thebattle.\n",
      "Blob w2v_ds/dataset_291.tfrecord in bucket thebattle moved to blob w2v_ds/train/dataset_291.tfrecord in bucket thebattle.\n",
      "Blob w2v_ds/dataset_77.tfrecord in bucket thebattle moved to blob w2v_ds/train/dataset_77.tfrecord in bucket thebattle.\n",
      "Blob w2v_ds/dataset_68.tfrecord in bucket thebattle moved to blob w2v_ds/train/dataset_68.tfrecord in bucket thebattle.\n",
      "Blob w2v_ds/dataset_292.tfrecord in bucket thebattle moved to blob w2v_ds/train/dataset_292.tfrecord in bucket thebattle.\n",
      "Blob w2v_ds/dataset_126.tfrecord in bucket thebattle moved to blob w2v_ds/train/dataset_126.tfrecord in bucket thebattle.\n",
      "Blob w2v_ds/dataset_228.tfrecord in bucket thebattle moved to blob w2v_ds/train/dataset_228.tfrecord in bucket thebattle.\n",
      "Blob w2v_ds/dataset_81.tfrecord in bucket thebattle moved to blob w2v_ds/train/dataset_81.tfrecord in bucket thebattle.\n",
      "Blob w2v_ds/dataset_143.tfrecord in bucket thebattle moved to blob w2v_ds/train/dataset_143.tfrecord in bucket thebattle.\n",
      "Blob w2v_ds/dataset_296.tfrecord in bucket thebattle moved to blob w2v_ds/train/dataset_296.tfrecord in bucket thebattle.\n",
      "Blob w2v_ds/dataset_66.tfrecord in bucket thebattle moved to blob w2v_ds/train/dataset_66.tfrecord in bucket thebattle.\n",
      "Blob w2v_ds/dataset_217.tfrecord in bucket thebattle moved to blob w2v_ds/train/dataset_217.tfrecord in bucket thebattle.\n",
      "Blob w2v_ds/dataset_88.tfrecord in bucket thebattle moved to blob w2v_ds/train/dataset_88.tfrecord in bucket thebattle.\n",
      "Blob w2v_ds/dataset_227.tfrecord in bucket thebattle moved to blob w2v_ds/train/dataset_227.tfrecord in bucket thebattle.\n",
      "Blob w2v_ds/dataset_117.tfrecord in bucket thebattle moved to blob w2v_ds/train/dataset_117.tfrecord in bucket thebattle.\n",
      "Blob w2v_ds/dataset_270.tfrecord in bucket thebattle moved to blob w2v_ds/train/dataset_270.tfrecord in bucket thebattle.\n",
      "Blob w2v_ds/dataset_149.tfrecord in bucket thebattle moved to blob w2v_ds/train/dataset_149.tfrecord in bucket thebattle.\n",
      "Blob w2v_ds/dataset_92.tfrecord in bucket thebattle moved to blob w2v_ds/train/dataset_92.tfrecord in bucket thebattle.\n",
      "Blob w2v_ds/dataset_15.tfrecord in bucket thebattle moved to blob w2v_ds/train/dataset_15.tfrecord in bucket thebattle.\n",
      "Blob w2v_ds/dataset_213.tfrecord in bucket thebattle moved to blob w2v_ds/train/dataset_213.tfrecord in bucket thebattle.\n",
      "Blob w2v_ds/dataset_157.tfrecord in bucket thebattle moved to blob w2v_ds/train/dataset_157.tfrecord in bucket thebattle.\n",
      "Blob w2v_ds/dataset_209.tfrecord in bucket thebattle moved to blob w2v_ds/train/dataset_209.tfrecord in bucket thebattle.\n",
      "Blob w2v_ds/dataset_240.tfrecord in bucket thebattle moved to blob w2v_ds/train/dataset_240.tfrecord in bucket thebattle.\n",
      "Blob w2v_ds/dataset_274.tfrecord in bucket thebattle moved to blob w2v_ds/train/dataset_274.tfrecord in bucket thebattle.\n",
      "Blob w2v_ds/dataset_177.tfrecord in bucket thebattle moved to blob w2v_ds/train/dataset_177.tfrecord in bucket thebattle.\n",
      "Blob w2v_ds/dataset_197.tfrecord in bucket thebattle moved to blob w2v_ds/train/dataset_197.tfrecord in bucket thebattle.\n",
      "Blob w2v_ds/dataset_288.tfrecord in bucket thebattle moved to blob w2v_ds/train/dataset_288.tfrecord in bucket thebattle.\n",
      "Blob w2v_ds/dataset_64.tfrecord in bucket thebattle moved to blob w2v_ds/train/dataset_64.tfrecord in bucket thebattle.\n",
      "Blob w2v_ds/dataset_171.tfrecord in bucket thebattle moved to blob w2v_ds/train/dataset_171.tfrecord in bucket thebattle.\n",
      "Blob w2v_ds/dataset_266.tfrecord in bucket thebattle moved to blob w2v_ds/train/dataset_266.tfrecord in bucket thebattle.\n",
      "Blob w2v_ds/dataset_166.tfrecord in bucket thebattle moved to blob w2v_ds/train/dataset_166.tfrecord in bucket thebattle.\n",
      "Blob w2v_ds/dataset_122.tfrecord in bucket thebattle moved to blob w2v_ds/train/dataset_122.tfrecord in bucket thebattle.\n",
      "Blob w2v_ds/dataset_294.tfrecord in bucket thebattle moved to blob w2v_ds/train/dataset_294.tfrecord in bucket thebattle.\n",
      "Blob w2v_ds/dataset_153.tfrecord in bucket thebattle moved to blob w2v_ds/train/dataset_153.tfrecord in bucket thebattle.\n",
      "Blob w2v_ds/dataset_273.tfrecord in bucket thebattle moved to blob w2v_ds/train/dataset_273.tfrecord in bucket thebattle.\n",
      "Blob w2v_ds/dataset_175.tfrecord in bucket thebattle moved to blob w2v_ds/train/dataset_175.tfrecord in bucket thebattle.\n",
      "Blob w2v_ds/dataset_181.tfrecord in bucket thebattle moved to blob w2v_ds/train/dataset_181.tfrecord in bucket thebattle.\n",
      "Blob w2v_ds/dataset_269.tfrecord in bucket thebattle moved to blob w2v_ds/train/dataset_269.tfrecord in bucket thebattle.\n",
      "Blob w2v_ds/dataset_94.tfrecord in bucket thebattle moved to blob w2v_ds/train/dataset_94.tfrecord in bucket thebattle.\n",
      "Blob w2v_ds/dataset_95.tfrecord in bucket thebattle moved to blob w2v_ds/train/dataset_95.tfrecord in bucket thebattle.\n",
      "Blob w2v_ds/dataset_295.tfrecord in bucket thebattle moved to blob w2v_ds/train/dataset_295.tfrecord in bucket thebattle.\n",
      "Blob w2v_ds/dataset_243.tfrecord in bucket thebattle moved to blob w2v_ds/train/dataset_243.tfrecord in bucket thebattle.\n",
      "Blob w2v_ds/dataset_114.tfrecord in bucket thebattle moved to blob w2v_ds/train/dataset_114.tfrecord in bucket thebattle.\n",
      "Blob w2v_ds/dataset_215.tfrecord in bucket thebattle moved to blob w2v_ds/train/dataset_215.tfrecord in bucket thebattle.\n",
      "Blob w2v_ds/dataset_230.tfrecord in bucket thebattle moved to blob w2v_ds/train/dataset_230.tfrecord in bucket thebattle.\n",
      "Blob w2v_ds/dataset_132.tfrecord in bucket thebattle moved to blob w2v_ds/train/dataset_132.tfrecord in bucket thebattle.\n",
      "Blob w2v_ds/dataset_300.tfrecord in bucket thebattle moved to blob w2v_ds/train/dataset_300.tfrecord in bucket thebattle.\n",
      "Blob w2v_ds/dataset_184.tfrecord in bucket thebattle moved to blob w2v_ds/train/dataset_184.tfrecord in bucket thebattle.\n"
     ]
    },
    {
     "name": "stdout",
     "output_type": "stream",
     "text": [
      "Blob w2v_ds/dataset_164.tfrecord in bucket thebattle moved to blob w2v_ds/train/dataset_164.tfrecord in bucket thebattle.\n",
      "Blob w2v_ds/dataset_297.tfrecord in bucket thebattle moved to blob w2v_ds/train/dataset_297.tfrecord in bucket thebattle.\n",
      "Blob w2v_ds/dataset_259.tfrecord in bucket thebattle moved to blob w2v_ds/train/dataset_259.tfrecord in bucket thebattle.\n",
      "Blob w2v_ds/dataset_232.tfrecord in bucket thebattle moved to blob w2v_ds/train/dataset_232.tfrecord in bucket thebattle.\n",
      "Blob w2v_ds/dataset_214.tfrecord in bucket thebattle moved to blob w2v_ds/train/dataset_214.tfrecord in bucket thebattle.\n",
      "Blob w2v_ds/dataset_183.tfrecord in bucket thebattle moved to blob w2v_ds/train/dataset_183.tfrecord in bucket thebattle.\n",
      "Blob w2v_ds/dataset_97.tfrecord in bucket thebattle moved to blob w2v_ds/train/dataset_97.tfrecord in bucket thebattle.\n",
      "Blob w2v_ds/dataset_257.tfrecord in bucket thebattle moved to blob w2v_ds/train/dataset_257.tfrecord in bucket thebattle.\n",
      "Blob w2v_ds/dataset_261.tfrecord in bucket thebattle moved to blob w2v_ds/train/dataset_261.tfrecord in bucket thebattle.\n",
      "Blob w2v_ds/dataset_206.tfrecord in bucket thebattle moved to blob w2v_ds/train/dataset_206.tfrecord in bucket thebattle.\n",
      "Blob w2v_ds/dataset_189.tfrecord in bucket thebattle moved to blob w2v_ds/train/dataset_189.tfrecord in bucket thebattle.\n",
      "Blob w2v_ds/dataset_12.tfrecord in bucket thebattle moved to blob w2v_ds/train/dataset_12.tfrecord in bucket thebattle.\n",
      "Blob w2v_ds/dataset_75.tfrecord in bucket thebattle moved to blob w2v_ds/train/dataset_75.tfrecord in bucket thebattle.\n",
      "Blob w2v_ds/dataset_14.tfrecord in bucket thebattle moved to blob w2v_ds/train/dataset_14.tfrecord in bucket thebattle.\n",
      "Blob w2v_ds/dataset_21.tfrecord in bucket thebattle moved to blob w2v_ds/train/dataset_21.tfrecord in bucket thebattle.\n",
      "Blob w2v_ds/dataset_241.tfrecord in bucket thebattle moved to blob w2v_ds/train/dataset_241.tfrecord in bucket thebattle.\n",
      "Blob w2v_ds/dataset_225.tfrecord in bucket thebattle moved to blob w2v_ds/train/dataset_225.tfrecord in bucket thebattle.\n",
      "Blob w2v_ds/dataset_278.tfrecord in bucket thebattle moved to blob w2v_ds/train/dataset_278.tfrecord in bucket thebattle.\n",
      "Blob w2v_ds/dataset_252.tfrecord in bucket thebattle moved to blob w2v_ds/train/dataset_252.tfrecord in bucket thebattle.\n",
      "Blob w2v_ds/dataset_103.tfrecord in bucket thebattle moved to blob w2v_ds/train/dataset_103.tfrecord in bucket thebattle.\n",
      "Blob w2v_ds/dataset_101.tfrecord in bucket thebattle moved to blob w2v_ds/train/dataset_101.tfrecord in bucket thebattle.\n",
      "Blob w2v_ds/dataset_98.tfrecord in bucket thebattle moved to blob w2v_ds/train/dataset_98.tfrecord in bucket thebattle.\n",
      "Blob w2v_ds/dataset_200.tfrecord in bucket thebattle moved to blob w2v_ds/train/dataset_200.tfrecord in bucket thebattle.\n",
      "Blob w2v_ds/dataset_7.tfrecord in bucket thebattle moved to blob w2v_ds/train/dataset_7.tfrecord in bucket thebattle.\n",
      "Blob w2v_ds/dataset_245.tfrecord in bucket thebattle moved to blob w2v_ds/train/dataset_245.tfrecord in bucket thebattle.\n",
      "Blob w2v_ds/dataset_146.tfrecord in bucket thebattle moved to blob w2v_ds/train/dataset_146.tfrecord in bucket thebattle.\n",
      "Blob w2v_ds/dataset_54.tfrecord in bucket thebattle moved to blob w2v_ds/train/dataset_54.tfrecord in bucket thebattle.\n",
      "Blob w2v_ds/dataset_198.tfrecord in bucket thebattle moved to blob w2v_ds/train/dataset_198.tfrecord in bucket thebattle.\n",
      "Blob w2v_ds/dataset_148.tfrecord in bucket thebattle moved to blob w2v_ds/train/dataset_148.tfrecord in bucket thebattle.\n",
      "Blob w2v_ds/dataset_239.tfrecord in bucket thebattle moved to blob w2v_ds/train/dataset_239.tfrecord in bucket thebattle.\n",
      "Blob w2v_ds/dataset_100.tfrecord in bucket thebattle moved to blob w2v_ds/train/dataset_100.tfrecord in bucket thebattle.\n",
      "Blob w2v_ds/dataset_86.tfrecord in bucket thebattle moved to blob w2v_ds/train/dataset_86.tfrecord in bucket thebattle.\n",
      "Blob w2v_ds/dataset_28.tfrecord in bucket thebattle moved to blob w2v_ds/train/dataset_28.tfrecord in bucket thebattle.\n",
      "Blob w2v_ds/dataset_268.tfrecord in bucket thebattle moved to blob w2v_ds/train/dataset_268.tfrecord in bucket thebattle.\n",
      "Blob w2v_ds/dataset_57.tfrecord in bucket thebattle moved to blob w2v_ds/train/dataset_57.tfrecord in bucket thebattle.\n",
      "Blob w2v_ds/dataset_158.tfrecord in bucket thebattle moved to blob w2v_ds/train/dataset_158.tfrecord in bucket thebattle.\n",
      "Blob w2v_ds/dataset_290.tfrecord in bucket thebattle moved to blob w2v_ds/train/dataset_290.tfrecord in bucket thebattle.\n",
      "Blob w2v_ds/dataset_73.tfrecord in bucket thebattle moved to blob w2v_ds/train/dataset_73.tfrecord in bucket thebattle.\n",
      "Blob w2v_ds/dataset_264.tfrecord in bucket thebattle moved to blob w2v_ds/train/dataset_264.tfrecord in bucket thebattle.\n",
      "Blob w2v_ds/dataset_211.tfrecord in bucket thebattle moved to blob w2v_ds/train/dataset_211.tfrecord in bucket thebattle.\n",
      "Blob w2v_ds/dataset_194.tfrecord in bucket thebattle moved to blob w2v_ds/train/dataset_194.tfrecord in bucket thebattle.\n",
      "Blob w2v_ds/dataset_222.tfrecord in bucket thebattle moved to blob w2v_ds/train/dataset_222.tfrecord in bucket thebattle.\n",
      "Blob w2v_ds/dataset_249.tfrecord in bucket thebattle moved to blob w2v_ds/train/dataset_249.tfrecord in bucket thebattle.\n",
      "Blob w2v_ds/dataset_46.tfrecord in bucket thebattle moved to blob w2v_ds/test/dataset_46.tfrecord in bucket thebattle.\n",
      "Blob w2v_ds/dataset_44.tfrecord in bucket thebattle moved to blob w2v_ds/test/dataset_44.tfrecord in bucket thebattle.\n",
      "Blob w2v_ds/dataset_106.tfrecord in bucket thebattle moved to blob w2v_ds/test/dataset_106.tfrecord in bucket thebattle.\n",
      "Blob w2v_ds/dataset_207.tfrecord in bucket thebattle moved to blob w2v_ds/test/dataset_207.tfrecord in bucket thebattle.\n",
      "Blob w2v_ds/dataset_254.tfrecord in bucket thebattle moved to blob w2v_ds/test/dataset_254.tfrecord in bucket thebattle.\n",
      "Blob w2v_ds/dataset_35.tfrecord in bucket thebattle moved to blob w2v_ds/test/dataset_35.tfrecord in bucket thebattle.\n",
      "Blob w2v_ds/dataset_137.tfrecord in bucket thebattle moved to blob w2v_ds/test/dataset_137.tfrecord in bucket thebattle.\n",
      "Blob w2v_ds/dataset_186.tfrecord in bucket thebattle moved to blob w2v_ds/test/dataset_186.tfrecord in bucket thebattle.\n",
      "Blob w2v_ds/dataset_51.tfrecord in bucket thebattle moved to blob w2v_ds/test/dataset_51.tfrecord in bucket thebattle.\n",
      "Blob w2v_ds/dataset_29.tfrecord in bucket thebattle moved to blob w2v_ds/test/dataset_29.tfrecord in bucket thebattle.\n",
      "Blob w2v_ds/dataset_43.tfrecord in bucket thebattle moved to blob w2v_ds/test/dataset_43.tfrecord in bucket thebattle.\n",
      "Blob w2v_ds/dataset_45.tfrecord in bucket thebattle moved to blob w2v_ds/test/dataset_45.tfrecord in bucket thebattle.\n",
      "Blob w2v_ds/dataset_23.tfrecord in bucket thebattle moved to blob w2v_ds/test/dataset_23.tfrecord in bucket thebattle.\n",
      "Blob w2v_ds/dataset_133.tfrecord in bucket thebattle moved to blob w2v_ds/test/dataset_133.tfrecord in bucket thebattle.\n",
      "Blob w2v_ds/dataset_224.tfrecord in bucket thebattle moved to blob w2v_ds/test/dataset_224.tfrecord in bucket thebattle.\n",
      "Blob w2v_ds/dataset_40.tfrecord in bucket thebattle moved to blob w2v_ds/test/dataset_40.tfrecord in bucket thebattle.\n",
      "Blob w2v_ds/dataset_173.tfrecord in bucket thebattle moved to blob w2v_ds/test/dataset_173.tfrecord in bucket thebattle.\n",
      "Blob w2v_ds/dataset_231.tfrecord in bucket thebattle moved to blob w2v_ds/test/dataset_231.tfrecord in bucket thebattle.\n",
      "Blob w2v_ds/dataset_72.tfrecord in bucket thebattle moved to blob w2v_ds/test/dataset_72.tfrecord in bucket thebattle.\n",
      "Blob w2v_ds/dataset_204.tfrecord in bucket thebattle moved to blob w2v_ds/test/dataset_204.tfrecord in bucket thebattle.\n",
      "Blob w2v_ds/dataset_255.tfrecord in bucket thebattle moved to blob w2v_ds/test/dataset_255.tfrecord in bucket thebattle.\n",
      "Blob w2v_ds/dataset_37.tfrecord in bucket thebattle moved to blob w2v_ds/test/dataset_37.tfrecord in bucket thebattle.\n",
      "Blob w2v_ds/dataset_219.tfrecord in bucket thebattle moved to blob w2v_ds/test/dataset_219.tfrecord in bucket thebattle.\n",
      "Blob w2v_ds/dataset_82.tfrecord in bucket thebattle moved to blob w2v_ds/test/dataset_82.tfrecord in bucket thebattle.\n",
      "Blob w2v_ds/dataset_127.tfrecord in bucket thebattle moved to blob w2v_ds/test/dataset_127.tfrecord in bucket thebattle.\n"
     ]
    },
    {
     "name": "stdout",
     "output_type": "stream",
     "text": [
      "Blob w2v_ds/dataset_246.tfrecord in bucket thebattle moved to blob w2v_ds/test/dataset_246.tfrecord in bucket thebattle.\n",
      "Blob w2v_ds/dataset_280.tfrecord in bucket thebattle moved to blob w2v_ds/test/dataset_280.tfrecord in bucket thebattle.\n",
      "Blob w2v_ds/dataset_163.tfrecord in bucket thebattle moved to blob w2v_ds/test/dataset_163.tfrecord in bucket thebattle.\n",
      "Blob w2v_ds/dataset_56.tfrecord in bucket thebattle moved to blob w2v_ds/test/dataset_56.tfrecord in bucket thebattle.\n",
      "Blob w2v_ds/dataset_145.tfrecord in bucket thebattle moved to blob w2v_ds/test/dataset_145.tfrecord in bucket thebattle.\n",
      "Blob w2v_ds/dataset_233.tfrecord in bucket thebattle moved to blob w2v_ds/test/dataset_233.tfrecord in bucket thebattle.\n",
      "Blob w2v_ds/dataset_174.tfrecord in bucket thebattle moved to blob w2v_ds/test/dataset_174.tfrecord in bucket thebattle.\n",
      "Blob w2v_ds/dataset_159.tfrecord in bucket thebattle moved to blob w2v_ds/test/dataset_159.tfrecord in bucket thebattle.\n",
      "Blob w2v_ds/dataset_283.tfrecord in bucket thebattle moved to blob w2v_ds/test/dataset_283.tfrecord in bucket thebattle.\n",
      "Blob w2v_ds/dataset_27.tfrecord in bucket thebattle moved to blob w2v_ds/test/dataset_27.tfrecord in bucket thebattle.\n",
      "Blob w2v_ds/dataset_210.tfrecord in bucket thebattle moved to blob w2v_ds/test/dataset_210.tfrecord in bucket thebattle.\n",
      "Blob w2v_ds/dataset_299.tfrecord in bucket thebattle moved to blob w2v_ds/test/dataset_299.tfrecord in bucket thebattle.\n",
      "Blob w2v_ds/dataset_136.tfrecord in bucket thebattle moved to blob w2v_ds/test/dataset_136.tfrecord in bucket thebattle.\n",
      "Blob w2v_ds/dataset_96.tfrecord in bucket thebattle moved to blob w2v_ds/test/dataset_96.tfrecord in bucket thebattle.\n",
      "Blob w2v_ds/dataset_199.tfrecord in bucket thebattle moved to blob w2v_ds/test/dataset_199.tfrecord in bucket thebattle.\n",
      "Blob w2v_ds/dataset_253.tfrecord in bucket thebattle moved to blob w2v_ds/test/dataset_253.tfrecord in bucket thebattle.\n",
      "Blob w2v_ds/dataset_8.tfrecord in bucket thebattle moved to blob w2v_ds/test/dataset_8.tfrecord in bucket thebattle.\n",
      "Blob w2v_ds/dataset_80.tfrecord in bucket thebattle moved to blob w2v_ds/test/dataset_80.tfrecord in bucket thebattle.\n",
      "Blob w2v_ds/dataset_179.tfrecord in bucket thebattle moved to blob w2v_ds/test/dataset_179.tfrecord in bucket thebattle.\n",
      "Blob w2v_ds/dataset_263.tfrecord in bucket thebattle moved to blob w2v_ds/test/dataset_263.tfrecord in bucket thebattle.\n",
      "Blob w2v_ds/dataset_185.tfrecord in bucket thebattle moved to blob w2v_ds/test/dataset_185.tfrecord in bucket thebattle.\n",
      "Blob w2v_ds/dataset_178.tfrecord in bucket thebattle moved to blob w2v_ds/test/dataset_178.tfrecord in bucket thebattle.\n",
      "Blob w2v_ds/dataset_151.tfrecord in bucket thebattle moved to blob w2v_ds/test/dataset_151.tfrecord in bucket thebattle.\n",
      "Blob w2v_ds/dataset_236.tfrecord in bucket thebattle moved to blob w2v_ds/test/dataset_236.tfrecord in bucket thebattle.\n",
      "Blob w2v_ds/dataset_83.tfrecord in bucket thebattle moved to blob w2v_ds/test/dataset_83.tfrecord in bucket thebattle.\n",
      "Blob w2v_ds/dataset_87.tfrecord in bucket thebattle moved to blob w2v_ds/test/dataset_87.tfrecord in bucket thebattle.\n",
      "Blob w2v_ds/dataset_105.tfrecord in bucket thebattle moved to blob w2v_ds/test/dataset_105.tfrecord in bucket thebattle.\n",
      "Blob w2v_ds/dataset_128.tfrecord in bucket thebattle moved to blob w2v_ds/test/dataset_128.tfrecord in bucket thebattle.\n",
      "Blob w2v_ds/dataset_58.tfrecord in bucket thebattle moved to blob w2v_ds/test/dataset_58.tfrecord in bucket thebattle.\n",
      "Blob w2v_ds/dataset_41.tfrecord in bucket thebattle moved to blob w2v_ds/test/dataset_41.tfrecord in bucket thebattle.\n",
      "Blob w2v_ds/dataset_70.tfrecord in bucket thebattle moved to blob w2v_ds/test/dataset_70.tfrecord in bucket thebattle.\n",
      "Blob w2v_ds/dataset_247.tfrecord in bucket thebattle moved to blob w2v_ds/test/dataset_247.tfrecord in bucket thebattle.\n",
      "Blob w2v_ds/dataset_260.tfrecord in bucket thebattle moved to blob w2v_ds/test/dataset_260.tfrecord in bucket thebattle.\n",
      "Blob w2v_ds/dataset_90.tfrecord in bucket thebattle moved to blob w2v_ds/test/dataset_90.tfrecord in bucket thebattle.\n",
      "Blob w2v_ds/dataset_155.tfrecord in bucket thebattle moved to blob w2v_ds/test/dataset_155.tfrecord in bucket thebattle.\n",
      "Blob w2v_ds/dataset_196.tfrecord in bucket thebattle moved to blob w2v_ds/val/dataset_196.tfrecord in bucket thebattle.\n",
      "Blob w2v_ds/dataset_79.tfrecord in bucket thebattle moved to blob w2v_ds/val/dataset_79.tfrecord in bucket thebattle.\n",
      "Blob w2v_ds/dataset_167.tfrecord in bucket thebattle moved to blob w2v_ds/val/dataset_167.tfrecord in bucket thebattle.\n",
      "Blob w2v_ds/dataset_17.tfrecord in bucket thebattle moved to blob w2v_ds/val/dataset_17.tfrecord in bucket thebattle.\n",
      "Blob w2v_ds/dataset_162.tfrecord in bucket thebattle moved to blob w2v_ds/val/dataset_162.tfrecord in bucket thebattle.\n",
      "Blob w2v_ds/dataset_74.tfrecord in bucket thebattle moved to blob w2v_ds/val/dataset_74.tfrecord in bucket thebattle.\n",
      "Blob w2v_ds/dataset_48.tfrecord in bucket thebattle moved to blob w2v_ds/val/dataset_48.tfrecord in bucket thebattle.\n",
      "Blob w2v_ds/dataset_221.tfrecord in bucket thebattle moved to blob w2v_ds/val/dataset_221.tfrecord in bucket thebattle.\n",
      "Blob w2v_ds/dataset_129.tfrecord in bucket thebattle moved to blob w2v_ds/val/dataset_129.tfrecord in bucket thebattle.\n",
      "Blob w2v_ds/dataset_102.tfrecord in bucket thebattle moved to blob w2v_ds/val/dataset_102.tfrecord in bucket thebattle.\n",
      "Blob w2v_ds/dataset_20.tfrecord in bucket thebattle moved to blob w2v_ds/val/dataset_20.tfrecord in bucket thebattle.\n",
      "Blob w2v_ds/dataset_22.tfrecord in bucket thebattle moved to blob w2v_ds/val/dataset_22.tfrecord in bucket thebattle.\n",
      "Blob w2v_ds/dataset_121.tfrecord in bucket thebattle moved to blob w2v_ds/val/dataset_121.tfrecord in bucket thebattle.\n",
      "Blob w2v_ds/dataset_165.tfrecord in bucket thebattle moved to blob w2v_ds/val/dataset_165.tfrecord in bucket thebattle.\n",
      "Blob w2v_ds/dataset_3.tfrecord in bucket thebattle moved to blob w2v_ds/val/dataset_3.tfrecord in bucket thebattle.\n",
      "Blob w2v_ds/dataset_111.tfrecord in bucket thebattle moved to blob w2v_ds/val/dataset_111.tfrecord in bucket thebattle.\n",
      "Blob w2v_ds/dataset_135.tfrecord in bucket thebattle moved to blob w2v_ds/val/dataset_135.tfrecord in bucket thebattle.\n",
      "Blob w2v_ds/dataset_69.tfrecord in bucket thebattle moved to blob w2v_ds/val/dataset_69.tfrecord in bucket thebattle.\n",
      "Blob w2v_ds/dataset_144.tfrecord in bucket thebattle moved to blob w2v_ds/val/dataset_144.tfrecord in bucket thebattle.\n",
      "Blob w2v_ds/dataset_59.tfrecord in bucket thebattle moved to blob w2v_ds/val/dataset_59.tfrecord in bucket thebattle.\n",
      "Blob w2v_ds/dataset_176.tfrecord in bucket thebattle moved to blob w2v_ds/val/dataset_176.tfrecord in bucket thebattle.\n",
      "Blob w2v_ds/dataset_220.tfrecord in bucket thebattle moved to blob w2v_ds/val/dataset_220.tfrecord in bucket thebattle.\n",
      "Blob w2v_ds/dataset_99.tfrecord in bucket thebattle moved to blob w2v_ds/val/dataset_99.tfrecord in bucket thebattle.\n",
      "Blob w2v_ds/dataset_237.tfrecord in bucket thebattle moved to blob w2v_ds/val/dataset_237.tfrecord in bucket thebattle.\n",
      "Blob w2v_ds/dataset_19.tfrecord in bucket thebattle moved to blob w2v_ds/val/dataset_19.tfrecord in bucket thebattle.\n",
      "Blob w2v_ds/dataset_71.tfrecord in bucket thebattle moved to blob w2v_ds/val/dataset_71.tfrecord in bucket thebattle.\n",
      "Blob w2v_ds/dataset_212.tfrecord in bucket thebattle moved to blob w2v_ds/val/dataset_212.tfrecord in bucket thebattle.\n",
      "Blob w2v_ds/dataset_190.tfrecord in bucket thebattle moved to blob w2v_ds/val/dataset_190.tfrecord in bucket thebattle.\n",
      "Blob w2v_ds/dataset_25.tfrecord in bucket thebattle moved to blob w2v_ds/val/dataset_25.tfrecord in bucket thebattle.\n",
      "Blob w2v_ds/dataset_262.tfrecord in bucket thebattle moved to blob w2v_ds/val/dataset_262.tfrecord in bucket thebattle.\n",
      "Blob w2v_ds/dataset_169.tfrecord in bucket thebattle moved to blob w2v_ds/val/dataset_169.tfrecord in bucket thebattle.\n",
      "Blob w2v_ds/dataset_139.tfrecord in bucket thebattle moved to blob w2v_ds/val/dataset_139.tfrecord in bucket thebattle.\n",
      "Blob w2v_ds/dataset_124.tfrecord in bucket thebattle moved to blob w2v_ds/val/dataset_124.tfrecord in bucket thebattle.\n",
      "Blob w2v_ds/dataset_116.tfrecord in bucket thebattle moved to blob w2v_ds/val/dataset_116.tfrecord in bucket thebattle.\n"
     ]
    },
    {
     "name": "stdout",
     "output_type": "stream",
     "text": [
      "Blob w2v_ds/dataset_118.tfrecord in bucket thebattle moved to blob w2v_ds/val/dataset_118.tfrecord in bucket thebattle.\n",
      "Blob w2v_ds/dataset_193.tfrecord in bucket thebattle moved to blob w2v_ds/val/dataset_193.tfrecord in bucket thebattle.\n",
      "Blob w2v_ds/dataset_42.tfrecord in bucket thebattle moved to blob w2v_ds/val/dataset_42.tfrecord in bucket thebattle.\n",
      "Blob w2v_ds/dataset_140.tfrecord in bucket thebattle moved to blob w2v_ds/val/dataset_140.tfrecord in bucket thebattle.\n",
      "Blob w2v_ds/dataset_104.tfrecord in bucket thebattle moved to blob w2v_ds/val/dataset_104.tfrecord in bucket thebattle.\n",
      "Blob w2v_ds/dataset_182.tfrecord in bucket thebattle moved to blob w2v_ds/val/dataset_182.tfrecord in bucket thebattle.\n",
      "Blob w2v_ds/dataset_276.tfrecord in bucket thebattle moved to blob w2v_ds/val/dataset_276.tfrecord in bucket thebattle.\n",
      "Blob w2v_ds/dataset_160.tfrecord in bucket thebattle moved to blob w2v_ds/val/dataset_160.tfrecord in bucket thebattle.\n",
      "Blob w2v_ds/dataset_286.tfrecord in bucket thebattle moved to blob w2v_ds/val/dataset_286.tfrecord in bucket thebattle.\n",
      "Blob w2v_ds/dataset_218.tfrecord in bucket thebattle moved to blob w2v_ds/val/dataset_218.tfrecord in bucket thebattle.\n",
      "Blob w2v_ds/dataset_52.tfrecord in bucket thebattle moved to blob w2v_ds/val/dataset_52.tfrecord in bucket thebattle.\n",
      "Blob w2v_ds/dataset_125.tfrecord in bucket thebattle moved to blob w2v_ds/val/dataset_125.tfrecord in bucket thebattle.\n",
      "Blob w2v_ds/dataset_24.tfrecord in bucket thebattle moved to blob w2v_ds/val/dataset_24.tfrecord in bucket thebattle.\n",
      "Blob w2v_ds/dataset_282.tfrecord in bucket thebattle moved to blob w2v_ds/val/dataset_282.tfrecord in bucket thebattle.\n",
      "Blob w2v_ds/dataset_61.tfrecord in bucket thebattle moved to blob w2v_ds/val/dataset_61.tfrecord in bucket thebattle.\n",
      "Blob w2v_ds/dataset_89.tfrecord in bucket thebattle moved to blob w2v_ds/val/dataset_89.tfrecord in bucket thebattle.\n",
      "Blob w2v_ds/dataset_168.tfrecord in bucket thebattle moved to blob w2v_ds/val/dataset_168.tfrecord in bucket thebattle.\n",
      "Blob w2v_ds/dataset_32.tfrecord in bucket thebattle moved to blob w2v_ds/val/dataset_32.tfrecord in bucket thebattle.\n",
      "Blob w2v_ds/dataset_172.tfrecord in bucket thebattle moved to blob w2v_ds/val/dataset_172.tfrecord in bucket thebattle.\n",
      "Blob w2v_ds/dataset_115.tfrecord in bucket thebattle moved to blob w2v_ds/val/dataset_115.tfrecord in bucket thebattle.\n",
      "Blob w2v_ds/dataset_113.tfrecord in bucket thebattle moved to blob w2v_ds/val/dataset_113.tfrecord in bucket thebattle.\n",
      "Blob w2v_ds/dataset_187.tfrecord in bucket thebattle moved to blob w2v_ds/val/dataset_187.tfrecord in bucket thebattle.\n",
      "Blob w2v_ds/dataset_4.tfrecord in bucket thebattle moved to blob w2v_ds/val/dataset_4.tfrecord in bucket thebattle.\n",
      "Blob w2v_ds/dataset_9.tfrecord in bucket thebattle moved to blob w2v_ds/val/dataset_9.tfrecord in bucket thebattle.\n",
      "Blob w2v_ds/dataset_192.tfrecord in bucket thebattle moved to blob w2v_ds/val/dataset_192.tfrecord in bucket thebattle.\n",
      "Blob w2v_ds/dataset_277.tfrecord in bucket thebattle moved to blob w2v_ds/val/dataset_277.tfrecord in bucket thebattle.\n"
     ]
    }
   ],
   "source": [
    "for blob,bn in zip([train_blobs,test_blobs,val_blobs],['train','test','val']):\n",
    "    for b in blob:\n",
    "        try:\n",
    "            sourceblob = '/'.join(b.split('/')[-2:])\n",
    "            destblob = b.split('/')[-2]+'/'+bn+'/'+b.split('/')[-1]\n",
    "            move_blob('thebattle',sourceblob,'thebattle',destblob)\n",
    "        except:\n",
    "            'oups'"
   ]
  },
  {
   "cell_type": "code",
   "execution_count": 23,
   "id": "5564dbee",
   "metadata": {},
   "outputs": [],
   "source": [
    "raw_train = tf.data.TFRecordDataset(train_blobs)\n",
    "raw_val = tf.data.TFRecordDataset(val_blobs)\n",
    "raw_test = tf.data.TFRecordDataset(test_blobs)"
   ]
  },
  {
   "cell_type": "code",
   "execution_count": 127,
   "id": "7945da4a",
   "metadata": {},
   "outputs": [],
   "source": [
    "feature_description = {\n",
    "    'id': tf.io.FixedLenFeature([], tf.int64, default_value=0),\n",
    "    'text': tf.io.FixedLenFeature([], tf.string, default_value=''),\n",
    "    'vect': tf.io.FixedLenFeature([], tf.string, default_value=''),\n",
    "    'nsentences': tf.io.FixedLenFeature([], tf.int64, default_value=0),\n",
    "    'mean_w_p_s': tf.io.FixedLenFeature([], tf.float32, default_value=0.0),\n",
    "    'var_w_p_s': tf.io.FixedLenFeature([], tf.float32, default_value=0.0),\n",
    "    'label': tf.io.FixedLenFeature([], tf.int64, default_value=0),\n",
    "\n",
    "}\n",
    "\n",
    "def _parse_function(example_proto):\n",
    "  # Parse the input `tf.train.Example` proto using the dictionary above.\n",
    "    parsed_ex = tf.io.parse_single_example(example_proto, feature_description)\n",
    "    label = parsed_ex.pop('label')\n",
    "    vect = parsed_ex.pop('vect')\n",
    "    parsed_ex['vect'] = tf.io.parse_tensor(vect,tf.double)\n",
    "    return parsed_ex,label"
   ]
  },
  {
   "cell_type": "code",
   "execution_count": 128,
   "id": "769397a5",
   "metadata": {},
   "outputs": [
    {
     "data": {
      "text/plain": [
       "({'id': <tf.Tensor: shape=(), dtype=int64, numpy=7603261>,\n",
       "  'mean_w_p_s': <tf.Tensor: shape=(), dtype=float32, numpy=17.428572>,\n",
       "  'nsentences': <tf.Tensor: shape=(), dtype=int64, numpy=7>,\n",
       "  'text': <tf.Tensor: shape=(), dtype=string, numpy=b'Autocourse is a series of annuals covering the automotive industry, published by the British magazine Autocar.\\n\\nThe Autocourse series was first published in 1949 as a supplement to Autocar magazine. The name of the series derives from the fact that it is a cyclical publication, with new issues appearing each year in January. The first volume covered the automotive industry in 1948 and subsequent volumes have covered different aspects of the automotive industry each year.\\n\\nThe Autocourse series is a valuable resource for historians of the automotive industry, as it contains detailed information on new car launches, production figures, and company profiles. It is also used as a guide to buyers of new cars, as it contains comparative reviews of different models.'>,\n",
       "  'var_w_p_s': <tf.Tensor: shape=(), dtype=float32, numpy=8.174126>,\n",
       "  'vect': <tf.Tensor: shape=(256, 100), dtype=float64, numpy=\n",
       "  array([[-0.031087  ,  0.22155   ,  0.44494   , ..., -0.67097002,\n",
       "           0.24698   , -0.62001002],\n",
       "         [ 0.13482   ,  0.40224001, -0.42265999, ..., -0.27989   ,\n",
       "           0.28937   ,  0.043783  ],\n",
       "         [-0.26065999, -0.02226   ,  0.022228  , ..., -1.27559996,\n",
       "          -0.14122   , -0.022719  ],\n",
       "         ...,\n",
       "         [-0.52605999, -0.066991  , -0.17351   , ..., -0.79123002,\n",
       "           0.047581  ,  0.084428  ],\n",
       "         [-0.27085999,  0.044006  , -0.02026   , ..., -0.4923    ,\n",
       "           0.63687003,  0.23642001],\n",
       "         [-1.01400006,  0.078819  ,  0.47789001, ..., -0.21606   ,\n",
       "           0.81186998, -0.88524002]])>},\n",
       " <tf.Tensor: shape=(), dtype=int64, numpy=1>)"
      ]
     },
     "execution_count": 128,
     "metadata": {},
     "output_type": "execute_result"
    }
   ],
   "source": [
    "next(iter(raw_test.map(_parse_function).take(1)))"
   ]
  },
  {
   "cell_type": "code",
   "execution_count": null,
   "id": "17e51281",
   "metadata": {},
   "outputs": [],
   "source": []
  }
 ],
 "metadata": {
  "kernelspec": {
   "display_name": "Python 3 (ipykernel)",
   "language": "python",
   "name": "python3"
  },
  "language_info": {
   "codemirror_mode": {
    "name": "ipython",
    "version": 3
   },
   "file_extension": ".py",
   "mimetype": "text/x-python",
   "name": "python",
   "nbconvert_exporter": "python",
   "pygments_lexer": "ipython3",
   "version": "3.10.6"
  },
  "toc": {
   "base_numbering": 1,
   "nav_menu": {},
   "number_sections": true,
   "sideBar": true,
   "skip_h1_title": false,
   "title_cell": "Table of Contents",
   "title_sidebar": "Contents",
   "toc_cell": false,
   "toc_position": {},
   "toc_section_display": true,
   "toc_window_display": false
  }
 },
 "nbformat": 4,
 "nbformat_minor": 5
}

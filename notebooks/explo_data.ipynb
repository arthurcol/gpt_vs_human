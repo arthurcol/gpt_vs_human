{
 "cells": [
  {
   "cell_type": "code",
   "execution_count": 43,
   "id": "eec4886c",
   "metadata": {},
   "outputs": [],
   "source": [
    "import os\n",
    "import pandas as pd\n",
    "import numpy as np\n",
    "import tensorflow as tf\n",
    "import requests\n",
    "\n",
    "from sklearn.model_selection import train_test_split\n",
    "from sklearn.feature_extraction.text import TfidfVectorizer\n",
    "from sklearn.naive_bayes import MultinomialNB\n",
    "from sklearn.metrics import classification_report"
   ]
  },
  {
   "cell_type": "code",
   "execution_count": 2,
   "id": "69781ce8",
   "metadata": {},
   "outputs": [
    {
     "data": {
      "text/plain": [
       "'2.9.0'"
      ]
     },
     "execution_count": 2,
     "metadata": {},
     "output_type": "execute_result"
    }
   ],
   "source": [
    "tf.__version__"
   ]
  },
  {
   "cell_type": "code",
   "execution_count": 3,
   "id": "a489b92b",
   "metadata": {},
   "outputs": [
    {
     "data": {
      "text/plain": [
       "[PhysicalDevice(name='/physical_device:GPU:0', device_type='GPU')]"
      ]
     },
     "execution_count": 3,
     "metadata": {},
     "output_type": "execute_result"
    }
   ],
   "source": [
    "tf.config.list_physical_devices('GPU')"
   ]
  },
  {
   "cell_type": "code",
   "execution_count": 4,
   "id": "49ef6657",
   "metadata": {},
   "outputs": [
    {
     "name": "stdout",
     "output_type": "stream",
     "text": [
      "WARNING:tensorflow:From /var/folders/7h/57x0t00j7j3g4_fsvzsjtryc0000gn/T/ipykernel_93433/337460670.py:1: is_gpu_available (from tensorflow.python.framework.test_util) is deprecated and will be removed in a future version.\n",
      "Instructions for updating:\n",
      "Use `tf.config.list_physical_devices('GPU')` instead.\n",
      "Metal device set to: Apple M1 Pro\n"
     ]
    },
    {
     "name": "stderr",
     "output_type": "stream",
     "text": [
      "2023-02-22 12:54:09.843550: I tensorflow/core/common_runtime/pluggable_device/pluggable_device_factory.cc:305] Could not identify NUMA node of platform GPU ID 0, defaulting to 0. Your kernel may not have been built with NUMA support.\n",
      "2023-02-22 12:54:09.843867: I tensorflow/core/common_runtime/pluggable_device/pluggable_device_factory.cc:271] Created TensorFlow device (/device:GPU:0 with 0 MB memory) -> physical PluggableDevice (device: 0, name: METAL, pci bus id: <undefined>)\n"
     ]
    },
    {
     "data": {
      "text/plain": [
       "True"
      ]
     },
     "execution_count": 4,
     "metadata": {},
     "output_type": "execute_result"
    }
   ],
   "source": [
    "tf.test.is_gpu_available()"
   ]
  },
  {
   "cell_type": "markdown",
   "id": "300de621",
   "metadata": {},
   "source": [
    "# get data"
   ]
  },
  {
   "cell_type": "code",
   "execution_count": 5,
   "id": "7ba805dd",
   "metadata": {},
   "outputs": [],
   "source": [
    "def get_ds():\n",
    "    url = \"https://datasets-server.huggingface.co/parquet?dataset=aadityaubhat%2FGPT-wiki-intro\"\n",
    "    response = requests.get(url)\n",
    "    if response.status_code !=200:\n",
    "        return f\"error during dataset request: {response.status_code}\"\n",
    "    \n",
    "    url_parquet = [files['url'] for files in response.json()['parquet_files']]\n",
    "    \n",
    "    \n",
    "    df = [pd.read_parquet(url_) for url_ in url_parquet]\n",
    "    \n",
    "    return pd.concat(df)"
   ]
  },
  {
   "cell_type": "code",
   "execution_count": 6,
   "id": "e7ac858f",
   "metadata": {},
   "outputs": [],
   "source": [
    "df = get_ds()\n",
    "df.set_index('id',inplace=True)"
   ]
  },
  {
   "cell_type": "code",
   "execution_count": 7,
   "id": "e45eb2ce",
   "metadata": {},
   "outputs": [],
   "source": [
    "df['random']=np.random.random(len(df))"
   ]
  },
  {
   "cell_type": "code",
   "execution_count": 8,
   "id": "dd9b7dd8",
   "metadata": {},
   "outputs": [],
   "source": [
    "# reorganize ds and randomize samples wiki/generated\n",
    "df.loc[df['random']<.5,'text']=df['generated_intro']\n",
    "df.loc[df['random']<.5,'label']='generated'\n",
    "df.loc[df['random']>=.5,'text']=df['wiki_intro']\n",
    "df.loc[df['random']>=.5,'label']='wiki'"
   ]
  },
  {
   "cell_type": "code",
   "execution_count": 9,
   "id": "1a298d1e",
   "metadata": {},
   "outputs": [
    {
     "data": {
      "text/plain": [
       "wiki         75039\n",
       "generated    74961\n",
       "Name: label, dtype: int64"
      ]
     },
     "execution_count": 9,
     "metadata": {},
     "output_type": "execute_result"
    }
   ],
   "source": [
    "df.label.value_counts()"
   ]
  },
  {
   "cell_type": "code",
   "execution_count": 10,
   "id": "864b45bb",
   "metadata": {},
   "outputs": [],
   "source": [
    "#check distribution is similar accross classes"
   ]
  },
  {
   "cell_type": "code",
   "execution_count": 11,
   "id": "3c9f560c",
   "metadata": {},
   "outputs": [
    {
     "data": {
      "text/html": [
       "<div>\n",
       "<style scoped>\n",
       "    .dataframe tbody tr th:only-of-type {\n",
       "        vertical-align: middle;\n",
       "    }\n",
       "\n",
       "    .dataframe tbody tr th {\n",
       "        vertical-align: top;\n",
       "    }\n",
       "\n",
       "    .dataframe thead th {\n",
       "        text-align: right;\n",
       "    }\n",
       "</style>\n",
       "<table border=\"1\" class=\"dataframe\">\n",
       "  <thead>\n",
       "    <tr style=\"text-align: right;\">\n",
       "      <th></th>\n",
       "      <th>title_len</th>\n",
       "      <th>wiki_intro_len</th>\n",
       "      <th>generated_intro_len</th>\n",
       "      <th>prompt_tokens</th>\n",
       "      <th>generated_text_tokens</th>\n",
       "      <th>random</th>\n",
       "    </tr>\n",
       "  </thead>\n",
       "  <tbody>\n",
       "    <tr>\n",
       "      <th>count</th>\n",
       "      <td>74961.000000</td>\n",
       "      <td>74961.000000</td>\n",
       "      <td>74961.000000</td>\n",
       "      <td>74961.000000</td>\n",
       "      <td>74961.000000</td>\n",
       "      <td>74961.000000</td>\n",
       "    </tr>\n",
       "    <tr>\n",
       "      <th>mean</th>\n",
       "      <td>2.215472</td>\n",
       "      <td>196.005389</td>\n",
       "      <td>129.293739</td>\n",
       "      <td>28.956297</td>\n",
       "      <td>165.494964</td>\n",
       "      <td>0.250315</td>\n",
       "    </tr>\n",
       "    <tr>\n",
       "      <th>std</th>\n",
       "      <td>0.630953</td>\n",
       "      <td>41.422459</td>\n",
       "      <td>56.985389</td>\n",
       "      <td>5.026033</td>\n",
       "      <td>77.129319</td>\n",
       "      <td>0.144519</td>\n",
       "    </tr>\n",
       "    <tr>\n",
       "      <th>min</th>\n",
       "      <td>1.000000</td>\n",
       "      <td>150.000000</td>\n",
       "      <td>7.000000</td>\n",
       "      <td>21.000000</td>\n",
       "      <td>1.000000</td>\n",
       "      <td>0.000010</td>\n",
       "    </tr>\n",
       "    <tr>\n",
       "      <th>25%</th>\n",
       "      <td>2.000000</td>\n",
       "      <td>164.000000</td>\n",
       "      <td>86.000000</td>\n",
       "      <td>26.000000</td>\n",
       "      <td>106.000000</td>\n",
       "      <td>0.125203</td>\n",
       "    </tr>\n",
       "    <tr>\n",
       "      <th>50%</th>\n",
       "      <td>2.000000</td>\n",
       "      <td>184.000000</td>\n",
       "      <td>122.000000</td>\n",
       "      <td>28.000000</td>\n",
       "      <td>154.000000</td>\n",
       "      <td>0.250413</td>\n",
       "    </tr>\n",
       "    <tr>\n",
       "      <th>75%</th>\n",
       "      <td>3.000000</td>\n",
       "      <td>216.000000</td>\n",
       "      <td>170.000000</td>\n",
       "      <td>31.000000</td>\n",
       "      <td>220.000000</td>\n",
       "      <td>0.375184</td>\n",
       "    </tr>\n",
       "    <tr>\n",
       "      <th>max</th>\n",
       "      <td>3.000000</td>\n",
       "      <td>350.000000</td>\n",
       "      <td>278.000000</td>\n",
       "      <td>148.000000</td>\n",
       "      <td>300.000000</td>\n",
       "      <td>0.499988</td>\n",
       "    </tr>\n",
       "  </tbody>\n",
       "</table>\n",
       "</div>"
      ],
      "text/plain": [
       "          title_len  wiki_intro_len  generated_intro_len  prompt_tokens  \\\n",
       "count  74961.000000    74961.000000         74961.000000   74961.000000   \n",
       "mean       2.215472      196.005389           129.293739      28.956297   \n",
       "std        0.630953       41.422459            56.985389       5.026033   \n",
       "min        1.000000      150.000000             7.000000      21.000000   \n",
       "25%        2.000000      164.000000            86.000000      26.000000   \n",
       "50%        2.000000      184.000000           122.000000      28.000000   \n",
       "75%        3.000000      216.000000           170.000000      31.000000   \n",
       "max        3.000000      350.000000           278.000000     148.000000   \n",
       "\n",
       "       generated_text_tokens        random  \n",
       "count           74961.000000  74961.000000  \n",
       "mean              165.494964      0.250315  \n",
       "std                77.129319      0.144519  \n",
       "min                 1.000000      0.000010  \n",
       "25%               106.000000      0.125203  \n",
       "50%               154.000000      0.250413  \n",
       "75%               220.000000      0.375184  \n",
       "max               300.000000      0.499988  "
      ]
     },
     "execution_count": 11,
     "metadata": {},
     "output_type": "execute_result"
    }
   ],
   "source": [
    "df[df['label']=='generated'].describe()"
   ]
  },
  {
   "cell_type": "code",
   "execution_count": 12,
   "id": "8b250b1f",
   "metadata": {},
   "outputs": [
    {
     "data": {
      "text/html": [
       "<div>\n",
       "<style scoped>\n",
       "    .dataframe tbody tr th:only-of-type {\n",
       "        vertical-align: middle;\n",
       "    }\n",
       "\n",
       "    .dataframe tbody tr th {\n",
       "        vertical-align: top;\n",
       "    }\n",
       "\n",
       "    .dataframe thead th {\n",
       "        text-align: right;\n",
       "    }\n",
       "</style>\n",
       "<table border=\"1\" class=\"dataframe\">\n",
       "  <thead>\n",
       "    <tr style=\"text-align: right;\">\n",
       "      <th></th>\n",
       "      <th>title_len</th>\n",
       "      <th>wiki_intro_len</th>\n",
       "      <th>generated_intro_len</th>\n",
       "      <th>prompt_tokens</th>\n",
       "      <th>generated_text_tokens</th>\n",
       "      <th>random</th>\n",
       "    </tr>\n",
       "  </thead>\n",
       "  <tbody>\n",
       "    <tr>\n",
       "      <th>count</th>\n",
       "      <td>75039.000000</td>\n",
       "      <td>75039.000000</td>\n",
       "      <td>75039.000000</td>\n",
       "      <td>75039.000000</td>\n",
       "      <td>75039.000000</td>\n",
       "      <td>75039.000000</td>\n",
       "    </tr>\n",
       "    <tr>\n",
       "      <th>mean</th>\n",
       "      <td>2.215288</td>\n",
       "      <td>196.004837</td>\n",
       "      <td>129.644372</td>\n",
       "      <td>28.959221</td>\n",
       "      <td>165.986287</td>\n",
       "      <td>0.749148</td>\n",
       "    </tr>\n",
       "    <tr>\n",
       "      <th>std</th>\n",
       "      <td>0.628077</td>\n",
       "      <td>41.466319</td>\n",
       "      <td>57.095142</td>\n",
       "      <td>5.063986</td>\n",
       "      <td>77.312752</td>\n",
       "      <td>0.144812</td>\n",
       "    </tr>\n",
       "    <tr>\n",
       "      <th>min</th>\n",
       "      <td>1.000000</td>\n",
       "      <td>150.000000</td>\n",
       "      <td>7.000000</td>\n",
       "      <td>21.000000</td>\n",
       "      <td>2.000000</td>\n",
       "      <td>0.500002</td>\n",
       "    </tr>\n",
       "    <tr>\n",
       "      <th>25%</th>\n",
       "      <td>2.000000</td>\n",
       "      <td>164.000000</td>\n",
       "      <td>86.000000</td>\n",
       "      <td>26.000000</td>\n",
       "      <td>107.000000</td>\n",
       "      <td>0.623386</td>\n",
       "    </tr>\n",
       "    <tr>\n",
       "      <th>50%</th>\n",
       "      <td>2.000000</td>\n",
       "      <td>184.000000</td>\n",
       "      <td>122.000000</td>\n",
       "      <td>28.000000</td>\n",
       "      <td>155.000000</td>\n",
       "      <td>0.748501</td>\n",
       "    </tr>\n",
       "    <tr>\n",
       "      <th>75%</th>\n",
       "      <td>3.000000</td>\n",
       "      <td>216.000000</td>\n",
       "      <td>171.000000</td>\n",
       "      <td>31.000000</td>\n",
       "      <td>221.000000</td>\n",
       "      <td>0.874417</td>\n",
       "    </tr>\n",
       "    <tr>\n",
       "      <th>max</th>\n",
       "      <td>3.000000</td>\n",
       "      <td>350.000000</td>\n",
       "      <td>274.000000</td>\n",
       "      <td>141.000000</td>\n",
       "      <td>300.000000</td>\n",
       "      <td>0.999998</td>\n",
       "    </tr>\n",
       "  </tbody>\n",
       "</table>\n",
       "</div>"
      ],
      "text/plain": [
       "          title_len  wiki_intro_len  generated_intro_len  prompt_tokens  \\\n",
       "count  75039.000000    75039.000000         75039.000000   75039.000000   \n",
       "mean       2.215288      196.004837           129.644372      28.959221   \n",
       "std        0.628077       41.466319            57.095142       5.063986   \n",
       "min        1.000000      150.000000             7.000000      21.000000   \n",
       "25%        2.000000      164.000000            86.000000      26.000000   \n",
       "50%        2.000000      184.000000           122.000000      28.000000   \n",
       "75%        3.000000      216.000000           171.000000      31.000000   \n",
       "max        3.000000      350.000000           274.000000     141.000000   \n",
       "\n",
       "       generated_text_tokens        random  \n",
       "count           75039.000000  75039.000000  \n",
       "mean              165.986287      0.749148  \n",
       "std                77.312752      0.144812  \n",
       "min                 2.000000      0.500002  \n",
       "25%               107.000000      0.623386  \n",
       "50%               155.000000      0.748501  \n",
       "75%               221.000000      0.874417  \n",
       "max               300.000000      0.999998  "
      ]
     },
     "execution_count": 12,
     "metadata": {},
     "output_type": "execute_result"
    }
   ],
   "source": [
    "df[df['label']=='wiki'].describe()"
   ]
  },
  {
   "cell_type": "code",
   "execution_count": 13,
   "id": "cce15201",
   "metadata": {},
   "outputs": [],
   "source": [
    "X_train,X_test,y_train,y_test = train_test_split(df['text'],df['label'],test_size=.2)"
   ]
  },
  {
   "cell_type": "code",
   "execution_count": 14,
   "id": "7c4739d6",
   "metadata": {},
   "outputs": [
    {
     "data": {
      "text/plain": [
       "id\n",
       "22367823         wiki\n",
       "67428769    generated\n",
       "68402160    generated\n",
       "2642042     generated\n",
       "4341348     generated\n",
       "              ...    \n",
       "58444157    generated\n",
       "12569126         wiki\n",
       "16694673    generated\n",
       "1291347     generated\n",
       "5080244          wiki\n",
       "Name: label, Length: 120000, dtype: object"
      ]
     },
     "execution_count": 14,
     "metadata": {},
     "output_type": "execute_result"
    }
   ],
   "source": [
    "y_train"
   ]
  },
  {
   "cell_type": "markdown",
   "id": "c9e43d57",
   "metadata": {},
   "source": [
    "# Baseline"
   ]
  },
  {
   "cell_type": "code",
   "execution_count": 15,
   "id": "b4a4eff6",
   "metadata": {},
   "outputs": [],
   "source": [
    "# vectorize text ; using tfidf\n",
    "vectorize = TfidfVectorizer(ngram_range=(1,1),max_df=.95,min_df=.05)\n",
    "\n",
    "#transform\n",
    "X_train_vect = vectorize.fit_transform(X_train)\n",
    "X_test_vect = vectorize.transform(X_test)"
   ]
  },
  {
   "cell_type": "code",
   "execution_count": 16,
   "id": "0736160a",
   "metadata": {},
   "outputs": [
    {
     "data": {
      "text/plain": [
       "(120000, 213)"
      ]
     },
     "execution_count": 16,
     "metadata": {},
     "output_type": "execute_result"
    }
   ],
   "source": [
    "X_train_vect.shape"
   ]
  },
  {
   "cell_type": "code",
   "execution_count": 17,
   "id": "fe480c2b",
   "metadata": {},
   "outputs": [
    {
     "data": {
      "text/html": [
       "<style>#sk-container-id-1 {color: black;background-color: white;}#sk-container-id-1 pre{padding: 0;}#sk-container-id-1 div.sk-toggleable {background-color: white;}#sk-container-id-1 label.sk-toggleable__label {cursor: pointer;display: block;width: 100%;margin-bottom: 0;padding: 0.3em;box-sizing: border-box;text-align: center;}#sk-container-id-1 label.sk-toggleable__label-arrow:before {content: \"▸\";float: left;margin-right: 0.25em;color: #696969;}#sk-container-id-1 label.sk-toggleable__label-arrow:hover:before {color: black;}#sk-container-id-1 div.sk-estimator:hover label.sk-toggleable__label-arrow:before {color: black;}#sk-container-id-1 div.sk-toggleable__content {max-height: 0;max-width: 0;overflow: hidden;text-align: left;background-color: #f0f8ff;}#sk-container-id-1 div.sk-toggleable__content pre {margin: 0.2em;color: black;border-radius: 0.25em;background-color: #f0f8ff;}#sk-container-id-1 input.sk-toggleable__control:checked~div.sk-toggleable__content {max-height: 200px;max-width: 100%;overflow: auto;}#sk-container-id-1 input.sk-toggleable__control:checked~label.sk-toggleable__label-arrow:before {content: \"▾\";}#sk-container-id-1 div.sk-estimator input.sk-toggleable__control:checked~label.sk-toggleable__label {background-color: #d4ebff;}#sk-container-id-1 div.sk-label input.sk-toggleable__control:checked~label.sk-toggleable__label {background-color: #d4ebff;}#sk-container-id-1 input.sk-hidden--visually {border: 0;clip: rect(1px 1px 1px 1px);clip: rect(1px, 1px, 1px, 1px);height: 1px;margin: -1px;overflow: hidden;padding: 0;position: absolute;width: 1px;}#sk-container-id-1 div.sk-estimator {font-family: monospace;background-color: #f0f8ff;border: 1px dotted black;border-radius: 0.25em;box-sizing: border-box;margin-bottom: 0.5em;}#sk-container-id-1 div.sk-estimator:hover {background-color: #d4ebff;}#sk-container-id-1 div.sk-parallel-item::after {content: \"\";width: 100%;border-bottom: 1px solid gray;flex-grow: 1;}#sk-container-id-1 div.sk-label:hover label.sk-toggleable__label {background-color: #d4ebff;}#sk-container-id-1 div.sk-serial::before {content: \"\";position: absolute;border-left: 1px solid gray;box-sizing: border-box;top: 0;bottom: 0;left: 50%;z-index: 0;}#sk-container-id-1 div.sk-serial {display: flex;flex-direction: column;align-items: center;background-color: white;padding-right: 0.2em;padding-left: 0.2em;position: relative;}#sk-container-id-1 div.sk-item {position: relative;z-index: 1;}#sk-container-id-1 div.sk-parallel {display: flex;align-items: stretch;justify-content: center;background-color: white;position: relative;}#sk-container-id-1 div.sk-item::before, #sk-container-id-1 div.sk-parallel-item::before {content: \"\";position: absolute;border-left: 1px solid gray;box-sizing: border-box;top: 0;bottom: 0;left: 50%;z-index: -1;}#sk-container-id-1 div.sk-parallel-item {display: flex;flex-direction: column;z-index: 1;position: relative;background-color: white;}#sk-container-id-1 div.sk-parallel-item:first-child::after {align-self: flex-end;width: 50%;}#sk-container-id-1 div.sk-parallel-item:last-child::after {align-self: flex-start;width: 50%;}#sk-container-id-1 div.sk-parallel-item:only-child::after {width: 0;}#sk-container-id-1 div.sk-dashed-wrapped {border: 1px dashed gray;margin: 0 0.4em 0.5em 0.4em;box-sizing: border-box;padding-bottom: 0.4em;background-color: white;}#sk-container-id-1 div.sk-label label {font-family: monospace;font-weight: bold;display: inline-block;line-height: 1.2em;}#sk-container-id-1 div.sk-label-container {text-align: center;}#sk-container-id-1 div.sk-container {/* jupyter's `normalize.less` sets `[hidden] { display: none; }` but bootstrap.min.css set `[hidden] { display: none !important; }` so we also need the `!important` here to be able to override the default hidden behavior on the sphinx rendered scikit-learn.org. See: https://github.com/scikit-learn/scikit-learn/issues/21755 */display: inline-block !important;position: relative;}#sk-container-id-1 div.sk-text-repr-fallback {display: none;}</style><div id=\"sk-container-id-1\" class=\"sk-top-container\"><div class=\"sk-text-repr-fallback\"><pre>MultinomialNB()</pre><b>In a Jupyter environment, please rerun this cell to show the HTML representation or trust the notebook. <br />On GitHub, the HTML representation is unable to render, please try loading this page with nbviewer.org.</b></div><div class=\"sk-container\" hidden><div class=\"sk-item\"><div class=\"sk-estimator sk-toggleable\"><input class=\"sk-toggleable__control sk-hidden--visually\" id=\"sk-estimator-id-1\" type=\"checkbox\" checked><label for=\"sk-estimator-id-1\" class=\"sk-toggleable__label sk-toggleable__label-arrow\">MultinomialNB</label><div class=\"sk-toggleable__content\"><pre>MultinomialNB()</pre></div></div></div></div></div>"
      ],
      "text/plain": [
       "MultinomialNB()"
      ]
     },
     "execution_count": 17,
     "metadata": {},
     "output_type": "execute_result"
    }
   ],
   "source": [
    "#NB\n",
    "model = MultinomialNB()\n",
    "model.fit(X_train_vect,y_train)"
   ]
  },
  {
   "cell_type": "code",
   "execution_count": 18,
   "id": "b87d80f8",
   "metadata": {},
   "outputs": [
    {
     "data": {
      "text/plain": [
       "0.7497"
      ]
     },
     "execution_count": 18,
     "metadata": {},
     "output_type": "execute_result"
    }
   ],
   "source": [
    "# accuracy of NB model\n",
    "model.score(X_test_vect,y_test)"
   ]
  },
  {
   "cell_type": "code",
   "execution_count": 19,
   "id": "7693e3d1",
   "metadata": {},
   "outputs": [
    {
     "name": "stdout",
     "output_type": "stream",
     "text": [
      "              precision    recall  f1-score   support\n",
      "\n",
      "   generated       0.73      0.77      0.75     14354\n",
      "        wiki       0.77      0.73      0.75     15646\n",
      "\n",
      "    accuracy                           0.75     30000\n",
      "   macro avg       0.75      0.75      0.75     30000\n",
      "weighted avg       0.75      0.75      0.75     30000\n",
      "\n"
     ]
    }
   ],
   "source": [
    "# classification report \n",
    "y_pred = model.predict(X_test_vect)\n",
    "print(classification_report(y_pred,y_test))"
   ]
  },
  {
   "cell_type": "markdown",
   "id": "fbca7034",
   "metadata": {},
   "source": [
    "# Features engineering"
   ]
  },
  {
   "cell_type": "code",
   "execution_count": 20,
   "id": "7ecefc37",
   "metadata": {},
   "outputs": [],
   "source": [
    "#WIP"
   ]
  },
  {
   "cell_type": "markdown",
   "id": "2252084d",
   "metadata": {},
   "source": [
    "# Models"
   ]
  },
  {
   "cell_type": "markdown",
   "id": "abff7f7b",
   "metadata": {},
   "source": [
    "## Simple LSTM"
   ]
  },
  {
   "cell_type": "code",
   "execution_count": 21,
   "id": "7ead2c08",
   "metadata": {},
   "outputs": [],
   "source": [
    "try:\n",
    "    X_train_vect = X_train_vect.toarray()\n",
    "    X_test_vect = X_test_vect.toarray()\n",
    "except AttributeError:\n",
    "    pass\n",
    "\n",
    "if len(X_train_vect.shape)<3:\n",
    "    X_train_vect = np.expand_dims(X_train_vect,-1)\n",
    "    X_test_vect = np.expand_dims(X_test_vect,-1)\n",
    "\n",
    "y_train = np.where(y_train=='generated',1,0)\n",
    "y_test = np.where(y_test=='generated',1,0)"
   ]
  },
  {
   "cell_type": "code",
   "execution_count": 42,
   "id": "20d701e5",
   "metadata": {},
   "outputs": [],
   "source": [
    "def lstm_model():\n",
    "    inputs = tf.keras.layers.Input(shape=(X_train_vect[0].shape))\n",
    "#     inputs = tf.keras.layers.Input(shape=(200,1))\n",
    "#     x = tf.keras.layers.LSTM(128,return_sequences=True,activation='tanh')(inputs)\n",
    "    x = tf.keras.layers.LSTM(32,return_sequences=False,activation='tanh')(inputs)\n",
    "    x = tf.keras.layers.Dense(16,activation='relu')(x)\n",
    "    outputs = tf.keras.layers.Dense(1,activation='sigmoid')(x)\n",
    "    \n",
    "    return tf.keras.Model(inputs=inputs,outputs=outputs)"
   ]
  },
  {
   "cell_type": "code",
   "execution_count": 55,
   "id": "811f5e5d",
   "metadata": {
    "scrolled": true
   },
   "outputs": [],
   "source": [
    "#compile\n",
    "lstm = lstm_model()\n",
    "lstm.compile(loss='binary_crossentropy',optimizer='adam',metrics='accuracy')"
   ]
  },
  {
   "cell_type": "code",
   "execution_count": 62,
   "id": "bccd1035",
   "metadata": {},
   "outputs": [],
   "source": [
    "#callbacks\n",
    "\n",
    "#early stopping\n",
    "es = tf.keras.callbacks.EarlyStopping(monitor='val_accuracy',patience=4,restore_best_weights=True)\n",
    "\n",
    "#tensorboard\n",
    "log_dir = os.path.join(os.path.abspath(os.path.pardir),'logs','simple_lstm')\n",
    "tb = tf.keras.callbacks.TensorBoard(log_dir=log_dir,write_graph=False,)\n",
    "\n",
    "#learning rate\n",
    "lr = tf.keras.callbacks.ReduceLROnPlateau(monitor='val_loss',factor=.5,patience=3,verbose=1)"
   ]
  },
  {
   "cell_type": "code",
   "execution_count": null,
   "id": "1b7b3519",
   "metadata": {},
   "outputs": [
    {
     "name": "stdout",
     "output_type": "stream",
     "text": [
      "Epoch 1/50\n",
      "3000/3000 [==============================] - 167s 56ms/step - loss: 0.5606 - accuracy: 0.7086 - val_loss: 0.5541 - val_accuracy: 0.7103 - lr: 5.0000e-04\n",
      "Epoch 2/50\n",
      "3000/3000 [==============================] - 168s 56ms/step - loss: 0.5544 - accuracy: 0.7125 - val_loss: 0.5461 - val_accuracy: 0.7162 - lr: 5.0000e-04\n",
      "Epoch 3/50\n",
      "3000/3000 [==============================] - 168s 56ms/step - loss: 0.5470 - accuracy: 0.7179 - val_loss: 0.5421 - val_accuracy: 0.7186 - lr: 5.0000e-04\n",
      "Epoch 4/50\n",
      "3000/3000 [==============================] - 168s 56ms/step - loss: 0.5436 - accuracy: 0.7224 - val_loss: 0.5391 - val_accuracy: 0.7205 - lr: 5.0000e-04\n",
      "Epoch 5/50\n",
      "3000/3000 [==============================] - 169s 56ms/step - loss: 0.5373 - accuracy: 0.7265 - val_loss: 0.5257 - val_accuracy: 0.7348 - lr: 5.0000e-04\n",
      "Epoch 6/50\n",
      "3000/3000 [==============================] - 171s 57ms/step - loss: 0.5345 - accuracy: 0.7293 - val_loss: 0.5228 - val_accuracy: 0.7350 - lr: 5.0000e-04\n",
      "Epoch 7/50\n",
      "3000/3000 [==============================] - 172s 57ms/step - loss: 0.5285 - accuracy: 0.7342 - val_loss: 0.5238 - val_accuracy: 0.7363 - lr: 5.0000e-04\n",
      "Epoch 8/50\n",
      "3000/3000 [==============================] - 172s 57ms/step - loss: 0.5244 - accuracy: 0.7389 - val_loss: 0.5249 - val_accuracy: 0.7445 - lr: 5.0000e-04\n",
      "Epoch 9/50\n",
      "3000/3000 [==============================] - 171s 57ms/step - loss: 0.5192 - accuracy: 0.7417 - val_loss: 0.5075 - val_accuracy: 0.7471 - lr: 5.0000e-04\n",
      "Epoch 10/50\n",
      "3000/3000 [==============================] - 171s 57ms/step - loss: 0.5142 - accuracy: 0.7472 - val_loss: 0.5043 - val_accuracy: 0.7477 - lr: 5.0000e-04\n",
      "Epoch 11/50\n",
      "3000/3000 [==============================] - 178s 59ms/step - loss: 0.5089 - accuracy: 0.7527 - val_loss: 0.5039 - val_accuracy: 0.7508 - lr: 5.0000e-04\n",
      "Epoch 12/50\n",
      "3000/3000 [==============================] - 174s 58ms/step - loss: 0.5029 - accuracy: 0.7555 - val_loss: 0.4917 - val_accuracy: 0.7595 - lr: 5.0000e-04\n",
      "Epoch 13/50\n",
      "3000/3000 [==============================] - 173s 58ms/step - loss: 0.4978 - accuracy: 0.7607 - val_loss: 0.4929 - val_accuracy: 0.7607 - lr: 5.0000e-04\n",
      "Epoch 14/50\n",
      "3000/3000 [==============================] - 172s 57ms/step - loss: 0.4931 - accuracy: 0.7646 - val_loss: 0.4795 - val_accuracy: 0.7676 - lr: 5.0000e-04\n",
      "Epoch 15/50\n",
      "3000/3000 [==============================] - 171s 57ms/step - loss: 0.4872 - accuracy: 0.7671 - val_loss: 0.5004 - val_accuracy: 0.7572 - lr: 5.0000e-04\n",
      "Epoch 16/50\n",
      "3000/3000 [==============================] - 172s 57ms/step - loss: 0.4827 - accuracy: 0.7711 - val_loss: 0.4739 - val_accuracy: 0.7782 - lr: 5.0000e-04\n",
      "Epoch 17/50\n",
      "3000/3000 [==============================] - 176s 59ms/step - loss: 0.4787 - accuracy: 0.7727 - val_loss: 0.4685 - val_accuracy: 0.7752 - lr: 5.0000e-04\n",
      "Epoch 18/50\n",
      "3000/3000 [==============================] - 178s 59ms/step - loss: 0.4753 - accuracy: 0.7754 - val_loss: 0.4632 - val_accuracy: 0.7811 - lr: 5.0000e-04\n",
      "Epoch 19/50\n",
      "3000/3000 [==============================] - 178s 59ms/step - loss: 0.4707 - accuracy: 0.7787 - val_loss: 0.4806 - val_accuracy: 0.7765 - lr: 5.0000e-04\n",
      "Epoch 20/50\n",
      "3000/3000 [==============================] - 176s 59ms/step - loss: 0.4678 - accuracy: 0.7797 - val_loss: 0.4591 - val_accuracy: 0.7816 - lr: 5.0000e-04\n",
      "Epoch 21/50\n",
      "3000/3000 [==============================] - 175s 58ms/step - loss: 0.4645 - accuracy: 0.7828 - val_loss: 0.4661 - val_accuracy: 0.7812 - lr: 5.0000e-04\n",
      "Epoch 22/50\n",
      "3000/3000 [==============================] - 176s 59ms/step - loss: 0.4622 - accuracy: 0.7847 - val_loss: 0.4586 - val_accuracy: 0.7822 - lr: 5.0000e-04\n",
      "Epoch 23/50\n",
      "1298/3000 [===========>..................] - ETA: 1:27 - loss: 0.4588 - accuracy: 0.7870"
     ]
    }
   ],
   "source": [
    "history = lstm.fit(x=X_train_vect,\n",
    "                   y=np.expand_dims(y_train,-1),\n",
    "                   validation_split=.2,\n",
    "                   callbacks=[es,tb,lr],\n",
    "                   batch_size=32,\n",
    "                   epochs=50,)"
   ]
  },
  {
   "cell_type": "code",
   "execution_count": 64,
   "id": "68ec7d5b",
   "metadata": {
    "scrolled": true
   },
   "outputs": [
    {
     "name": "stderr",
     "output_type": "stream",
     "text": [
      "WARNING:absl:Found untraced functions such as lstm_cell_8_layer_call_fn, lstm_cell_8_layer_call_and_return_conditional_losses while saving (showing 2 of 2). These functions will not be directly callable after loading.\n"
     ]
    },
    {
     "name": "stdout",
     "output_type": "stream",
     "text": [
      "INFO:tensorflow:Assets written to: /Users/arthurcollard/code/arthurcol/gpt_vs_human/models/simple_lstm/assets\n"
     ]
    },
    {
     "name": "stderr",
     "output_type": "stream",
     "text": [
      "INFO:tensorflow:Assets written to: /Users/arthurcollard/code/arthurcol/gpt_vs_human/models/simple_lstm/assets\n"
     ]
    }
   ],
   "source": [
    "lstm.save(os.path.join(os.path.abspath(os.path.pardir),'models','simple_lstm'))"
   ]
  },
  {
   "cell_type": "markdown",
   "id": "5d0e14dc",
   "metadata": {},
   "source": [
    "## Using Bidirectional LSTM"
   ]
  },
  {
   "cell_type": "code",
   "execution_count": 65,
   "id": "cf04fabe",
   "metadata": {},
   "outputs": [],
   "source": [
    "def bilstm_model():\n",
    "    inputs = tf.keras.layers.Input(shape=(X_train_vect[0].shape))\n",
    "#     inputs = tf.keras.layers.Input(shape=(200,1))\n",
    "#     x = tf.keras.layers.LSTM(128,return_sequences=True,activation='tanh')(inputs)\n",
    "    x = tf.keras.layers.Bidirectional(tf.keras.layers.LSTM(32,return_sequences=False,activation='tanh'))(inputs)\n",
    "    x = tf.keras.layers.Dense(16,activation='relu')(x)\n",
    "    outputs = tf.keras.layers.Dense(1,activation='sigmoid')(x)\n",
    "    \n",
    "    return tf.keras.Model(inputs=inputs,outputs=outputs)"
   ]
  },
  {
   "cell_type": "code",
   "execution_count": 69,
   "id": "0188afa8",
   "metadata": {},
   "outputs": [],
   "source": [
    "#compile\n",
    "bilstm = bilstm_model()\n",
    "bilstm.compile(loss='binary_crossentropy',optimizer='adam',metrics='accuracy')"
   ]
  },
  {
   "cell_type": "code",
   "execution_count": 70,
   "id": "245efcff",
   "metadata": {},
   "outputs": [],
   "source": [
    "#callbacks\n",
    "\n",
    "#early stopping\n",
    "es = tf.keras.callbacks.EarlyStopping(monitor='val_accuracy',patience=4,restore_best_weights=True)\n",
    "\n",
    "#tensorboard\n",
    "log_dir = os.path.join(os.path.abspath(os.path.pardir),'logs','bi_lstm')\n",
    "tb = tf.keras.callbacks.TensorBoard(log_dir=log_dir,write_graph=False,)\n",
    "\n",
    "#learning rate\n",
    "lr = tf.keras.callbacks.ReduceLROnPlateau(monitor='val_loss',factor=.5,patience=3,verbose=1)"
   ]
  },
  {
   "cell_type": "code",
   "execution_count": null,
   "id": "6c9a1761",
   "metadata": {},
   "outputs": [
    {
     "name": "stdout",
     "output_type": "stream",
     "text": [
      "Epoch 1/50\n"
     ]
    },
    {
     "name": "stderr",
     "output_type": "stream",
     "text": [
      "2023-02-22 15:13:06.858445: I tensorflow/core/grappler/optimizers/custom_graph_optimizer_registry.cc:113] Plugin optimizer for device_type GPU is enabled.\n",
      "2023-02-22 15:13:07.012362: I tensorflow/core/grappler/optimizers/custom_graph_optimizer_registry.cc:113] Plugin optimizer for device_type GPU is enabled.\n",
      "2023-02-22 15:13:07.012416: I tensorflow/core/grappler/optimizers/custom_graph_optimizer_registry.cc:113] Plugin optimizer for device_type GPU is enabled.\n",
      "2023-02-22 15:13:07.604241: I tensorflow/core/grappler/optimizers/custom_graph_optimizer_registry.cc:113] Plugin optimizer for device_type GPU is enabled.\n",
      "2023-02-22 15:13:07.618011: I tensorflow/core/grappler/optimizers/custom_graph_optimizer_registry.cc:113] Plugin optimizer for device_type GPU is enabled.\n"
     ]
    },
    {
     "name": "stdout",
     "output_type": "stream",
     "text": [
      "3000/3000 [==============================] - ETA: 0s - loss: 0.6707 - accuracy: 0.5787"
     ]
    },
    {
     "name": "stderr",
     "output_type": "stream",
     "text": [
      "2023-02-22 15:17:53.699522: I tensorflow/core/grappler/optimizers/custom_graph_optimizer_registry.cc:113] Plugin optimizer for device_type GPU is enabled.\n",
      "2023-02-22 15:17:53.764278: I tensorflow/core/grappler/optimizers/custom_graph_optimizer_registry.cc:113] Plugin optimizer for device_type GPU is enabled.\n",
      "2023-02-22 15:17:53.764332: I tensorflow/core/grappler/optimizers/custom_graph_optimizer_registry.cc:113] Plugin optimizer for device_type GPU is enabled.\n"
     ]
    },
    {
     "name": "stdout",
     "output_type": "stream",
     "text": [
      "3000/3000 [==============================] - 331s 110ms/step - loss: 0.6707 - accuracy: 0.5787 - val_loss: 0.6152 - val_accuracy: 0.6658 - lr: 0.0010\n",
      "Epoch 2/50\n",
      "3000/3000 [==============================] - 326s 109ms/step - loss: 0.6138 - accuracy: 0.6689 - val_loss: 0.5840 - val_accuracy: 0.6930 - lr: 0.0010\n",
      "Epoch 3/50\n",
      "3000/3000 [==============================] - 331s 110ms/step - loss: 0.5833 - accuracy: 0.6964 - val_loss: 0.5585 - val_accuracy: 0.7130 - lr: 0.0010\n",
      "Epoch 4/50\n",
      "3000/3000 [==============================] - 334s 111ms/step - loss: 0.5705 - accuracy: 0.7060 - val_loss: 0.5519 - val_accuracy: 0.7225 - lr: 0.0010\n",
      "Epoch 5/50\n",
      "3000/3000 [==============================] - 329s 110ms/step - loss: 0.5597 - accuracy: 0.7134 - val_loss: 0.5473 - val_accuracy: 0.7209 - lr: 0.0010\n",
      "Epoch 6/50\n",
      "3000/3000 [==============================] - 332s 111ms/step - loss: 0.5495 - accuracy: 0.7224 - val_loss: 0.5292 - val_accuracy: 0.7365 - lr: 0.0010\n",
      "Epoch 7/50\n",
      "3000/3000 [==============================] - 336s 112ms/step - loss: 0.5359 - accuracy: 0.7328 - val_loss: 0.5179 - val_accuracy: 0.7435 - lr: 0.0010\n",
      "Epoch 8/50\n",
      "3000/3000 [==============================] - 334s 111ms/step - loss: 0.5358 - accuracy: 0.7316 - val_loss: 0.5112 - val_accuracy: 0.7502 - lr: 0.0010\n",
      "Epoch 9/50\n",
      "3000/3000 [==============================] - 342s 114ms/step - loss: 0.5168 - accuracy: 0.7455 - val_loss: 0.5073 - val_accuracy: 0.7492 - lr: 0.0010\n",
      "Epoch 10/50\n",
      " 204/3000 [=>............................] - ETA: 4:38 - loss: 0.5084 - accuracy: 0.7518"
     ]
    }
   ],
   "source": [
    "history = bilstm.fit(x=X_train_vect,\n",
    "                   y=np.expand_dims(y_train,-1),\n",
    "                   validation_split=.2,\n",
    "                   callbacks=[es,tb,lr],\n",
    "                   batch_size=32,\n",
    "                   epochs=50,)"
   ]
  },
  {
   "cell_type": "markdown",
   "id": "b3746fe3",
   "metadata": {},
   "source": [
    "## Unleash the power of attention models"
   ]
  },
  {
   "cell_type": "code",
   "execution_count": null,
   "id": "e58a1463",
   "metadata": {},
   "outputs": [],
   "source": []
  }
 ],
 "metadata": {
  "kernelspec": {
   "display_name": "Python 3 (ipykernel)",
   "language": "python",
   "name": "python3"
  },
  "language_info": {
   "codemirror_mode": {
    "name": "ipython",
    "version": 3
   },
   "file_extension": ".py",
   "mimetype": "text/x-python",
   "name": "python",
   "nbconvert_exporter": "python",
   "pygments_lexer": "ipython3",
   "version": "3.10.6"
  },
  "toc": {
   "base_numbering": 1,
   "nav_menu": {},
   "number_sections": true,
   "sideBar": true,
   "skip_h1_title": false,
   "title_cell": "Table of Contents",
   "title_sidebar": "Contents",
   "toc_cell": false,
   "toc_position": {},
   "toc_section_display": true,
   "toc_window_display": false
  }
 },
 "nbformat": 4,
 "nbformat_minor": 5
}

{
 "cells": [
  {
   "cell_type": "code",
   "execution_count": 22,
   "id": "eec4886c",
   "metadata": {},
   "outputs": [],
   "source": [
    "import os\n",
    "import pandas as pd\n",
    "import numpy as np\n",
    "import tensorflow as tf\n",
    "import requests\n",
    "\n",
    "import matplotlib.pyplot as plt\n",
    "import seaborn as sns\n",
    "\n",
    "from gensim.models import Word2Vec\n",
    "\n",
    "from sklearn.model_selection import train_test_split\n",
    "from sklearn.feature_extraction.text import TfidfVectorizer\n",
    "from sklearn.naive_bayes import MultinomialNB\n",
    "from sklearn.metrics import classification_report\n",
    "\n"
   ]
  },
  {
   "cell_type": "code",
   "execution_count": 2,
   "id": "69781ce8",
   "metadata": {},
   "outputs": [
    {
     "data": {
      "text/plain": [
       "'2.9.0'"
      ]
     },
     "execution_count": 2,
     "metadata": {},
     "output_type": "execute_result"
    }
   ],
   "source": [
    "tf.__version__"
   ]
  },
  {
   "cell_type": "code",
   "execution_count": 4,
   "id": "49ef6657",
   "metadata": {},
   "outputs": [
    {
     "name": "stdout",
     "output_type": "stream",
     "text": [
      "WARNING:tensorflow:From /var/folders/7h/57x0t00j7j3g4_fsvzsjtryc0000gn/T/ipykernel_38820/337460670.py:1: is_gpu_available (from tensorflow.python.framework.test_util) is deprecated and will be removed in a future version.\n",
      "Instructions for updating:\n",
      "Use `tf.config.list_physical_devices('GPU')` instead.\n",
      "Metal device set to: Apple M1 Pro\n"
     ]
    },
    {
     "name": "stderr",
     "output_type": "stream",
     "text": [
      "2023-02-24 11:37:53.863998: I tensorflow/core/common_runtime/pluggable_device/pluggable_device_factory.cc:305] Could not identify NUMA node of platform GPU ID 0, defaulting to 0. Your kernel may not have been built with NUMA support.\n",
      "2023-02-24 11:37:53.864357: I tensorflow/core/common_runtime/pluggable_device/pluggable_device_factory.cc:271] Created TensorFlow device (/device:GPU:0 with 0 MB memory) -> physical PluggableDevice (device: 0, name: METAL, pci bus id: <undefined>)\n"
     ]
    },
    {
     "data": {
      "text/plain": [
       "True"
      ]
     },
     "execution_count": 4,
     "metadata": {},
     "output_type": "execute_result"
    }
   ],
   "source": [
    "tf.test.is_gpu_available()"
   ]
  },
  {
   "cell_type": "markdown",
   "id": "300de621",
   "metadata": {},
   "source": [
    "# get data"
   ]
  },
  {
   "cell_type": "code",
   "execution_count": 6,
   "id": "7ba805dd",
   "metadata": {},
   "outputs": [],
   "source": [
    "def get_ds():\n",
    "    url = \"https://datasets-server.huggingface.co/parquet?dataset=aadityaubhat%2FGPT-wiki-intro\"\n",
    "    response = requests.get(url)\n",
    "    if response.status_code !=200:\n",
    "        return f\"error during dataset request: {response.status_code}\"\n",
    "    \n",
    "    url_parquet = [files['url'] for files in response.json()['parquet_files']]\n",
    "    \n",
    "    \n",
    "    df = [pd.read_parquet(url_) for url_ in url_parquet]\n",
    "    \n",
    "    return pd.concat(df)"
   ]
  },
  {
   "cell_type": "code",
   "execution_count": 15,
   "id": "e7ac858f",
   "metadata": {},
   "outputs": [],
   "source": [
    "def load_data_in_memory():\n",
    "    path_data = os.path.join(os.path.dirname(os.path.abspath(os.path.curdir)),'raw_data')\n",
    "    if 'data.csv' in os.listdir(path_data):\n",
    "        print('loading local')\n",
    "        df = pd.read_csv(path_data+'/data.csv',index_col='id')\n",
    "    else:\n",
    "        df = get_ds()\n",
    "        df.set_index('id',inplace=True)\n",
    "        df['random']=np.random.random(len(df))\n",
    "\n",
    "        # reorganize ds and randomize samples wiki/generated\n",
    "        df.loc[df['random']<.5,'text']=df['generated_intro']\n",
    "        df.loc[df['random']<.5,'label']='generated'\n",
    "        df.loc[df['random']>=.5,'text']=df['wiki_intro']\n",
    "        df.loc[df['random']>=.5,'label']='wiki'\n",
    "        df.to_csv('../raw_data/data.csv')\n",
    "        \n",
    "    df['label']=df['label'].replace({'generated':1,'wiki':0})\n",
    "\n",
    "    return df"
   ]
  },
  {
   "cell_type": "code",
   "execution_count": 16,
   "id": "07503c1f",
   "metadata": {},
   "outputs": [
    {
     "name": "stdout",
     "output_type": "stream",
     "text": [
      "loading local\n"
     ]
    }
   ],
   "source": [
    "df = load_data_in_memory()"
   ]
  },
  {
   "cell_type": "code",
   "execution_count": 7,
   "id": "864b45bb",
   "metadata": {},
   "outputs": [],
   "source": [
    "#check distribution is similar accross classes"
   ]
  },
  {
   "cell_type": "code",
   "execution_count": 8,
   "id": "3c9f560c",
   "metadata": {},
   "outputs": [
    {
     "data": {
      "text/html": [
       "<div>\n",
       "<style scoped>\n",
       "    .dataframe tbody tr th:only-of-type {\n",
       "        vertical-align: middle;\n",
       "    }\n",
       "\n",
       "    .dataframe tbody tr th {\n",
       "        vertical-align: top;\n",
       "    }\n",
       "\n",
       "    .dataframe thead th {\n",
       "        text-align: right;\n",
       "    }\n",
       "</style>\n",
       "<table border=\"1\" class=\"dataframe\">\n",
       "  <thead>\n",
       "    <tr style=\"text-align: right;\">\n",
       "      <th></th>\n",
       "      <th>title_len</th>\n",
       "      <th>wiki_intro_len</th>\n",
       "      <th>generated_intro_len</th>\n",
       "      <th>prompt_tokens</th>\n",
       "      <th>generated_text_tokens</th>\n",
       "      <th>random</th>\n",
       "    </tr>\n",
       "  </thead>\n",
       "  <tbody>\n",
       "    <tr>\n",
       "      <th>count</th>\n",
       "      <td>74978.000000</td>\n",
       "      <td>74978.000000</td>\n",
       "      <td>74978.000000</td>\n",
       "      <td>74978.000000</td>\n",
       "      <td>74978.000000</td>\n",
       "      <td>74978.000000</td>\n",
       "    </tr>\n",
       "    <tr>\n",
       "      <th>mean</th>\n",
       "      <td>2.213689</td>\n",
       "      <td>196.078716</td>\n",
       "      <td>129.492865</td>\n",
       "      <td>28.938182</td>\n",
       "      <td>165.734816</td>\n",
       "      <td>0.251266</td>\n",
       "    </tr>\n",
       "    <tr>\n",
       "      <th>std</th>\n",
       "      <td>0.627942</td>\n",
       "      <td>41.496280</td>\n",
       "      <td>57.087880</td>\n",
       "      <td>5.056070</td>\n",
       "      <td>77.239233</td>\n",
       "      <td>0.144518</td>\n",
       "    </tr>\n",
       "    <tr>\n",
       "      <th>min</th>\n",
       "      <td>1.000000</td>\n",
       "      <td>150.000000</td>\n",
       "      <td>7.000000</td>\n",
       "      <td>21.000000</td>\n",
       "      <td>2.000000</td>\n",
       "      <td>0.000007</td>\n",
       "    </tr>\n",
       "    <tr>\n",
       "      <th>25%</th>\n",
       "      <td>2.000000</td>\n",
       "      <td>164.000000</td>\n",
       "      <td>86.000000</td>\n",
       "      <td>26.000000</td>\n",
       "      <td>107.000000</td>\n",
       "      <td>0.125750</td>\n",
       "    </tr>\n",
       "    <tr>\n",
       "      <th>50%</th>\n",
       "      <td>2.000000</td>\n",
       "      <td>184.000000</td>\n",
       "      <td>122.000000</td>\n",
       "      <td>28.000000</td>\n",
       "      <td>155.000000</td>\n",
       "      <td>0.251661</td>\n",
       "    </tr>\n",
       "    <tr>\n",
       "      <th>75%</th>\n",
       "      <td>3.000000</td>\n",
       "      <td>216.000000</td>\n",
       "      <td>170.000000</td>\n",
       "      <td>31.000000</td>\n",
       "      <td>220.000000</td>\n",
       "      <td>0.376973</td>\n",
       "    </tr>\n",
       "    <tr>\n",
       "      <th>max</th>\n",
       "      <td>3.000000</td>\n",
       "      <td>350.000000</td>\n",
       "      <td>278.000000</td>\n",
       "      <td>148.000000</td>\n",
       "      <td>300.000000</td>\n",
       "      <td>0.499997</td>\n",
       "    </tr>\n",
       "  </tbody>\n",
       "</table>\n",
       "</div>"
      ],
      "text/plain": [
       "          title_len  wiki_intro_len  generated_intro_len  prompt_tokens  \\\n",
       "count  74978.000000    74978.000000         74978.000000   74978.000000   \n",
       "mean       2.213689      196.078716           129.492865      28.938182   \n",
       "std        0.627942       41.496280            57.087880       5.056070   \n",
       "min        1.000000      150.000000             7.000000      21.000000   \n",
       "25%        2.000000      164.000000            86.000000      26.000000   \n",
       "50%        2.000000      184.000000           122.000000      28.000000   \n",
       "75%        3.000000      216.000000           170.000000      31.000000   \n",
       "max        3.000000      350.000000           278.000000     148.000000   \n",
       "\n",
       "       generated_text_tokens        random  \n",
       "count           74978.000000  74978.000000  \n",
       "mean              165.734816      0.251266  \n",
       "std                77.239233      0.144518  \n",
       "min                 2.000000      0.000007  \n",
       "25%               107.000000      0.125750  \n",
       "50%               155.000000      0.251661  \n",
       "75%               220.000000      0.376973  \n",
       "max               300.000000      0.499997  "
      ]
     },
     "execution_count": 8,
     "metadata": {},
     "output_type": "execute_result"
    }
   ],
   "source": [
    "df[df['label']=='generated'].describe()"
   ]
  },
  {
   "cell_type": "code",
   "execution_count": 9,
   "id": "8b250b1f",
   "metadata": {},
   "outputs": [
    {
     "data": {
      "text/html": [
       "<div>\n",
       "<style scoped>\n",
       "    .dataframe tbody tr th:only-of-type {\n",
       "        vertical-align: middle;\n",
       "    }\n",
       "\n",
       "    .dataframe tbody tr th {\n",
       "        vertical-align: top;\n",
       "    }\n",
       "\n",
       "    .dataframe thead th {\n",
       "        text-align: right;\n",
       "    }\n",
       "</style>\n",
       "<table border=\"1\" class=\"dataframe\">\n",
       "  <thead>\n",
       "    <tr style=\"text-align: right;\">\n",
       "      <th></th>\n",
       "      <th>title_len</th>\n",
       "      <th>wiki_intro_len</th>\n",
       "      <th>generated_intro_len</th>\n",
       "      <th>prompt_tokens</th>\n",
       "      <th>generated_text_tokens</th>\n",
       "      <th>random</th>\n",
       "    </tr>\n",
       "  </thead>\n",
       "  <tbody>\n",
       "    <tr>\n",
       "      <th>count</th>\n",
       "      <td>75022.00000</td>\n",
       "      <td>75022.000000</td>\n",
       "      <td>75022.000000</td>\n",
       "      <td>75022.000000</td>\n",
       "      <td>75022.000000</td>\n",
       "      <td>75022.000000</td>\n",
       "    </tr>\n",
       "    <tr>\n",
       "      <th>mean</th>\n",
       "      <td>2.21707</td>\n",
       "      <td>195.931553</td>\n",
       "      <td>129.445443</td>\n",
       "      <td>28.977327</td>\n",
       "      <td>165.746688</td>\n",
       "      <td>0.749451</td>\n",
       "    </tr>\n",
       "    <tr>\n",
       "      <th>std</th>\n",
       "      <td>0.63108</td>\n",
       "      <td>41.392367</td>\n",
       "      <td>56.993277</td>\n",
       "      <td>5.033946</td>\n",
       "      <td>77.203830</td>\n",
       "      <td>0.144789</td>\n",
       "    </tr>\n",
       "    <tr>\n",
       "      <th>min</th>\n",
       "      <td>1.00000</td>\n",
       "      <td>150.000000</td>\n",
       "      <td>7.000000</td>\n",
       "      <td>21.000000</td>\n",
       "      <td>1.000000</td>\n",
       "      <td>0.500001</td>\n",
       "    </tr>\n",
       "    <tr>\n",
       "      <th>25%</th>\n",
       "      <td>2.00000</td>\n",
       "      <td>164.000000</td>\n",
       "      <td>86.000000</td>\n",
       "      <td>26.000000</td>\n",
       "      <td>107.000000</td>\n",
       "      <td>0.624155</td>\n",
       "    </tr>\n",
       "    <tr>\n",
       "      <th>50%</th>\n",
       "      <td>2.00000</td>\n",
       "      <td>184.000000</td>\n",
       "      <td>122.000000</td>\n",
       "      <td>28.000000</td>\n",
       "      <td>155.000000</td>\n",
       "      <td>0.749220</td>\n",
       "    </tr>\n",
       "    <tr>\n",
       "      <th>75%</th>\n",
       "      <td>3.00000</td>\n",
       "      <td>216.000000</td>\n",
       "      <td>170.000000</td>\n",
       "      <td>31.000000</td>\n",
       "      <td>220.000000</td>\n",
       "      <td>0.875147</td>\n",
       "    </tr>\n",
       "    <tr>\n",
       "      <th>max</th>\n",
       "      <td>3.00000</td>\n",
       "      <td>350.000000</td>\n",
       "      <td>276.000000</td>\n",
       "      <td>116.000000</td>\n",
       "      <td>300.000000</td>\n",
       "      <td>0.999985</td>\n",
       "    </tr>\n",
       "  </tbody>\n",
       "</table>\n",
       "</div>"
      ],
      "text/plain": [
       "         title_len  wiki_intro_len  generated_intro_len  prompt_tokens  \\\n",
       "count  75022.00000    75022.000000         75022.000000   75022.000000   \n",
       "mean       2.21707      195.931553           129.445443      28.977327   \n",
       "std        0.63108       41.392367            56.993277       5.033946   \n",
       "min        1.00000      150.000000             7.000000      21.000000   \n",
       "25%        2.00000      164.000000            86.000000      26.000000   \n",
       "50%        2.00000      184.000000           122.000000      28.000000   \n",
       "75%        3.00000      216.000000           170.000000      31.000000   \n",
       "max        3.00000      350.000000           276.000000     116.000000   \n",
       "\n",
       "       generated_text_tokens        random  \n",
       "count           75022.000000  75022.000000  \n",
       "mean              165.746688      0.749451  \n",
       "std                77.203830      0.144789  \n",
       "min                 1.000000      0.500001  \n",
       "25%               107.000000      0.624155  \n",
       "50%               155.000000      0.749220  \n",
       "75%               220.000000      0.875147  \n",
       "max               300.000000      0.999985  "
      ]
     },
     "execution_count": 9,
     "metadata": {},
     "output_type": "execute_result"
    }
   ],
   "source": [
    "df[df['label']=='wiki'].describe()"
   ]
  },
  {
   "cell_type": "code",
   "execution_count": 10,
   "id": "cce15201",
   "metadata": {},
   "outputs": [],
   "source": [
    "X_train,X_test,y_train,y_test = train_test_split(df['text'],df['label'],test_size=.2)"
   ]
  },
  {
   "cell_type": "code",
   "execution_count": 11,
   "id": "7c4739d6",
   "metadata": {},
   "outputs": [
    {
     "data": {
      "text/plain": [
       "id\n",
       "794688           wiki\n",
       "14687790         wiki\n",
       "5980344     generated\n",
       "5539448          wiki\n",
       "6869216          wiki\n",
       "              ...    \n",
       "534977      generated\n",
       "24432024         wiki\n",
       "59705       generated\n",
       "38190265         wiki\n",
       "49111416         wiki\n",
       "Name: label, Length: 120000, dtype: object"
      ]
     },
     "execution_count": 11,
     "metadata": {},
     "output_type": "execute_result"
    }
   ],
   "source": [
    "y_train"
   ]
  },
  {
   "cell_type": "markdown",
   "id": "c9e43d57",
   "metadata": {},
   "source": [
    "# Baseline"
   ]
  },
  {
   "cell_type": "code",
   "execution_count": 38,
   "id": "b4a4eff6",
   "metadata": {},
   "outputs": [],
   "source": [
    "# vectorize text ; using tfidf\n",
    "vectorize = TfidfVectorizer(ngram_range=(1,1),max_df=.95,min_df=.05)\n",
    "\n",
    "#transform\n",
    "X_train_vect = vectorize.fit_transform(X_train)\n",
    "X_test_vect = vectorize.transform(X_test)"
   ]
  },
  {
   "cell_type": "code",
   "execution_count": 39,
   "id": "0736160a",
   "metadata": {},
   "outputs": [
    {
     "data": {
      "text/plain": [
       "(120000, 213)"
      ]
     },
     "execution_count": 39,
     "metadata": {},
     "output_type": "execute_result"
    }
   ],
   "source": [
    "X_train_vect.shape"
   ]
  },
  {
   "cell_type": "code",
   "execution_count": 40,
   "id": "fe480c2b",
   "metadata": {},
   "outputs": [
    {
     "data": {
      "text/html": [
       "<style>#sk-container-id-1 {color: black;background-color: white;}#sk-container-id-1 pre{padding: 0;}#sk-container-id-1 div.sk-toggleable {background-color: white;}#sk-container-id-1 label.sk-toggleable__label {cursor: pointer;display: block;width: 100%;margin-bottom: 0;padding: 0.3em;box-sizing: border-box;text-align: center;}#sk-container-id-1 label.sk-toggleable__label-arrow:before {content: \"▸\";float: left;margin-right: 0.25em;color: #696969;}#sk-container-id-1 label.sk-toggleable__label-arrow:hover:before {color: black;}#sk-container-id-1 div.sk-estimator:hover label.sk-toggleable__label-arrow:before {color: black;}#sk-container-id-1 div.sk-toggleable__content {max-height: 0;max-width: 0;overflow: hidden;text-align: left;background-color: #f0f8ff;}#sk-container-id-1 div.sk-toggleable__content pre {margin: 0.2em;color: black;border-radius: 0.25em;background-color: #f0f8ff;}#sk-container-id-1 input.sk-toggleable__control:checked~div.sk-toggleable__content {max-height: 200px;max-width: 100%;overflow: auto;}#sk-container-id-1 input.sk-toggleable__control:checked~label.sk-toggleable__label-arrow:before {content: \"▾\";}#sk-container-id-1 div.sk-estimator input.sk-toggleable__control:checked~label.sk-toggleable__label {background-color: #d4ebff;}#sk-container-id-1 div.sk-label input.sk-toggleable__control:checked~label.sk-toggleable__label {background-color: #d4ebff;}#sk-container-id-1 input.sk-hidden--visually {border: 0;clip: rect(1px 1px 1px 1px);clip: rect(1px, 1px, 1px, 1px);height: 1px;margin: -1px;overflow: hidden;padding: 0;position: absolute;width: 1px;}#sk-container-id-1 div.sk-estimator {font-family: monospace;background-color: #f0f8ff;border: 1px dotted black;border-radius: 0.25em;box-sizing: border-box;margin-bottom: 0.5em;}#sk-container-id-1 div.sk-estimator:hover {background-color: #d4ebff;}#sk-container-id-1 div.sk-parallel-item::after {content: \"\";width: 100%;border-bottom: 1px solid gray;flex-grow: 1;}#sk-container-id-1 div.sk-label:hover label.sk-toggleable__label {background-color: #d4ebff;}#sk-container-id-1 div.sk-serial::before {content: \"\";position: absolute;border-left: 1px solid gray;box-sizing: border-box;top: 0;bottom: 0;left: 50%;z-index: 0;}#sk-container-id-1 div.sk-serial {display: flex;flex-direction: column;align-items: center;background-color: white;padding-right: 0.2em;padding-left: 0.2em;position: relative;}#sk-container-id-1 div.sk-item {position: relative;z-index: 1;}#sk-container-id-1 div.sk-parallel {display: flex;align-items: stretch;justify-content: center;background-color: white;position: relative;}#sk-container-id-1 div.sk-item::before, #sk-container-id-1 div.sk-parallel-item::before {content: \"\";position: absolute;border-left: 1px solid gray;box-sizing: border-box;top: 0;bottom: 0;left: 50%;z-index: -1;}#sk-container-id-1 div.sk-parallel-item {display: flex;flex-direction: column;z-index: 1;position: relative;background-color: white;}#sk-container-id-1 div.sk-parallel-item:first-child::after {align-self: flex-end;width: 50%;}#sk-container-id-1 div.sk-parallel-item:last-child::after {align-self: flex-start;width: 50%;}#sk-container-id-1 div.sk-parallel-item:only-child::after {width: 0;}#sk-container-id-1 div.sk-dashed-wrapped {border: 1px dashed gray;margin: 0 0.4em 0.5em 0.4em;box-sizing: border-box;padding-bottom: 0.4em;background-color: white;}#sk-container-id-1 div.sk-label label {font-family: monospace;font-weight: bold;display: inline-block;line-height: 1.2em;}#sk-container-id-1 div.sk-label-container {text-align: center;}#sk-container-id-1 div.sk-container {/* jupyter's `normalize.less` sets `[hidden] { display: none; }` but bootstrap.min.css set `[hidden] { display: none !important; }` so we also need the `!important` here to be able to override the default hidden behavior on the sphinx rendered scikit-learn.org. See: https://github.com/scikit-learn/scikit-learn/issues/21755 */display: inline-block !important;position: relative;}#sk-container-id-1 div.sk-text-repr-fallback {display: none;}</style><div id=\"sk-container-id-1\" class=\"sk-top-container\"><div class=\"sk-text-repr-fallback\"><pre>MultinomialNB()</pre><b>In a Jupyter environment, please rerun this cell to show the HTML representation or trust the notebook. <br />On GitHub, the HTML representation is unable to render, please try loading this page with nbviewer.org.</b></div><div class=\"sk-container\" hidden><div class=\"sk-item\"><div class=\"sk-estimator sk-toggleable\"><input class=\"sk-toggleable__control sk-hidden--visually\" id=\"sk-estimator-id-1\" type=\"checkbox\" checked><label for=\"sk-estimator-id-1\" class=\"sk-toggleable__label sk-toggleable__label-arrow\">MultinomialNB</label><div class=\"sk-toggleable__content\"><pre>MultinomialNB()</pre></div></div></div></div></div>"
      ],
      "text/plain": [
       "MultinomialNB()"
      ]
     },
     "execution_count": 40,
     "metadata": {},
     "output_type": "execute_result"
    }
   ],
   "source": [
    "#NB\n",
    "model = MultinomialNB()\n",
    "model.fit(X_train_vect,y_train)"
   ]
  },
  {
   "cell_type": "code",
   "execution_count": 41,
   "id": "b87d80f8",
   "metadata": {},
   "outputs": [
    {
     "data": {
      "text/plain": [
       "0.7454"
      ]
     },
     "execution_count": 41,
     "metadata": {},
     "output_type": "execute_result"
    }
   ],
   "source": [
    "# accuracy of NB model\n",
    "model.score(X_test_vect,y_test)"
   ]
  },
  {
   "cell_type": "code",
   "execution_count": 42,
   "id": "7693e3d1",
   "metadata": {},
   "outputs": [
    {
     "name": "stdout",
     "output_type": "stream",
     "text": [
      "              precision    recall  f1-score   support\n",
      "\n",
      "   generated       0.72      0.76      0.74     14389\n",
      "        wiki       0.77      0.73      0.75     15611\n",
      "\n",
      "    accuracy                           0.75     30000\n",
      "   macro avg       0.75      0.75      0.75     30000\n",
      "weighted avg       0.75      0.75      0.75     30000\n",
      "\n"
     ]
    }
   ],
   "source": [
    "# classification report \n",
    "y_pred = model.predict(X_test_vect)\n",
    "print(classification_report(y_pred,y_test))"
   ]
  },
  {
   "cell_type": "code",
   "execution_count": 12,
   "id": "7ead2c08",
   "metadata": {},
   "outputs": [
    {
     "ename": "NameError",
     "evalue": "name 'X_train_vect' is not defined",
     "output_type": "error",
     "traceback": [
      "\u001b[0;31m---------------------------------------------------------------------------\u001b[0m",
      "\u001b[0;31mNameError\u001b[0m                                 Traceback (most recent call last)",
      "Cell \u001b[0;32mIn[12], line 2\u001b[0m\n\u001b[1;32m      1\u001b[0m \u001b[38;5;28;01mtry\u001b[39;00m:\n\u001b[0;32m----> 2\u001b[0m     X_train_vect \u001b[38;5;241m=\u001b[39m \u001b[43mX_train_vect\u001b[49m\u001b[38;5;241m.\u001b[39mtoarray()\n\u001b[1;32m      3\u001b[0m     X_test_vect \u001b[38;5;241m=\u001b[39m X_test_vect\u001b[38;5;241m.\u001b[39mtoarray()\n\u001b[1;32m      4\u001b[0m \u001b[38;5;28;01mexcept\u001b[39;00m \u001b[38;5;167;01mAttributeError\u001b[39;00m:\n",
      "\u001b[0;31mNameError\u001b[0m: name 'X_train_vect' is not defined"
     ]
    }
   ],
   "source": [
    "try:\n",
    "    X_train_vect = X_train_vect.toarray()\n",
    "    X_test_vect = X_test_vect.toarray()\n",
    "except AttributeError:\n",
    "    pass\n",
    "\n",
    "if len(X_train_vect.shape)<3:\n",
    "    X_train_vect = np.expand_dims(X_train_vect,-1)\n",
    "    X_test_vect = np.expand_dims(X_test_vect,-1)"
   ]
  },
  {
   "cell_type": "markdown",
   "id": "2252084d",
   "metadata": {},
   "source": [
    "# Models"
   ]
  },
  {
   "cell_type": "markdown",
   "id": "abff7f7b",
   "metadata": {},
   "source": [
    "## Simple LSTM"
   ]
  },
  {
   "cell_type": "code",
   "execution_count": 42,
   "id": "20d701e5",
   "metadata": {},
   "outputs": [],
   "source": [
    "def lstm_model():\n",
    "    inputs = tf.keras.layers.Input(shape=(X_train_vect[0].shape))\n",
    "#     inputs = tf.keras.layers.Input(shape=(200,1))\n",
    "#     x = tf.keras.layers.LSTM(128,return_sequences=True,activation='tanh')(inputs)\n",
    "    x = tf.keras.layers.LSTM(32,return_sequences=False,activation='tanh')(inputs)\n",
    "    x = tf.keras.layers.Dense(16,activation='relu')(x)\n",
    "    outputs = tf.keras.layers.Dense(1,activation='sigmoid')(x)\n",
    "    \n",
    "    return tf.keras.Model(inputs=inputs,outputs=outputs)"
   ]
  },
  {
   "cell_type": "code",
   "execution_count": 55,
   "id": "811f5e5d",
   "metadata": {
    "scrolled": true
   },
   "outputs": [],
   "source": [
    "#compile\n",
    "lstm = lstm_model()\n",
    "lstm.compile(loss='binary_crossentropy',optimizer='adam',metrics='accuracy')"
   ]
  },
  {
   "cell_type": "code",
   "execution_count": 62,
   "id": "bccd1035",
   "metadata": {},
   "outputs": [],
   "source": [
    "#callbacks\n",
    "\n",
    "#early stopping\n",
    "es = tf.keras.callbacks.EarlyStopping(monitor='val_accuracy',patience=4,restore_best_weights=True)\n",
    "\n",
    "#tensorboard\n",
    "log_dir = os.path.join(os.path.abspath(os.path.pardir),'logs','simple_lstm')\n",
    "tb = tf.keras.callbacks.TensorBoard(log_dir=log_dir,write_graph=False,)\n",
    "\n",
    "#learning rate\n",
    "lr = tf.keras.callbacks.ReduceLROnPlateau(monitor='val_loss',factor=.5,patience=3,verbose=1)"
   ]
  },
  {
   "cell_type": "code",
   "execution_count": null,
   "id": "1b7b3519",
   "metadata": {},
   "outputs": [
    {
     "name": "stdout",
     "output_type": "stream",
     "text": [
      "Epoch 1/50\n",
      "3000/3000 [==============================] - 167s 56ms/step - loss: 0.5606 - accuracy: 0.7086 - val_loss: 0.5541 - val_accuracy: 0.7103 - lr: 5.0000e-04\n",
      "Epoch 2/50\n",
      "3000/3000 [==============================] - 168s 56ms/step - loss: 0.5544 - accuracy: 0.7125 - val_loss: 0.5461 - val_accuracy: 0.7162 - lr: 5.0000e-04\n",
      "Epoch 3/50\n",
      "3000/3000 [==============================] - 168s 56ms/step - loss: 0.5470 - accuracy: 0.7179 - val_loss: 0.5421 - val_accuracy: 0.7186 - lr: 5.0000e-04\n",
      "Epoch 4/50\n",
      "3000/3000 [==============================] - 168s 56ms/step - loss: 0.5436 - accuracy: 0.7224 - val_loss: 0.5391 - val_accuracy: 0.7205 - lr: 5.0000e-04\n",
      "Epoch 5/50\n",
      "3000/3000 [==============================] - 169s 56ms/step - loss: 0.5373 - accuracy: 0.7265 - val_loss: 0.5257 - val_accuracy: 0.7348 - lr: 5.0000e-04\n",
      "Epoch 6/50\n",
      "3000/3000 [==============================] - 171s 57ms/step - loss: 0.5345 - accuracy: 0.7293 - val_loss: 0.5228 - val_accuracy: 0.7350 - lr: 5.0000e-04\n",
      "Epoch 7/50\n",
      "3000/3000 [==============================] - 172s 57ms/step - loss: 0.5285 - accuracy: 0.7342 - val_loss: 0.5238 - val_accuracy: 0.7363 - lr: 5.0000e-04\n",
      "Epoch 8/50\n",
      "3000/3000 [==============================] - 172s 57ms/step - loss: 0.5244 - accuracy: 0.7389 - val_loss: 0.5249 - val_accuracy: 0.7445 - lr: 5.0000e-04\n",
      "Epoch 9/50\n",
      "3000/3000 [==============================] - 171s 57ms/step - loss: 0.5192 - accuracy: 0.7417 - val_loss: 0.5075 - val_accuracy: 0.7471 - lr: 5.0000e-04\n",
      "Epoch 10/50\n",
      "3000/3000 [==============================] - 171s 57ms/step - loss: 0.5142 - accuracy: 0.7472 - val_loss: 0.5043 - val_accuracy: 0.7477 - lr: 5.0000e-04\n",
      "Epoch 11/50\n",
      "3000/3000 [==============================] - 178s 59ms/step - loss: 0.5089 - accuracy: 0.7527 - val_loss: 0.5039 - val_accuracy: 0.7508 - lr: 5.0000e-04\n",
      "Epoch 12/50\n",
      "3000/3000 [==============================] - 174s 58ms/step - loss: 0.5029 - accuracy: 0.7555 - val_loss: 0.4917 - val_accuracy: 0.7595 - lr: 5.0000e-04\n",
      "Epoch 13/50\n",
      "3000/3000 [==============================] - 173s 58ms/step - loss: 0.4978 - accuracy: 0.7607 - val_loss: 0.4929 - val_accuracy: 0.7607 - lr: 5.0000e-04\n",
      "Epoch 14/50\n",
      "3000/3000 [==============================] - 172s 57ms/step - loss: 0.4931 - accuracy: 0.7646 - val_loss: 0.4795 - val_accuracy: 0.7676 - lr: 5.0000e-04\n",
      "Epoch 15/50\n",
      "3000/3000 [==============================] - 171s 57ms/step - loss: 0.4872 - accuracy: 0.7671 - val_loss: 0.5004 - val_accuracy: 0.7572 - lr: 5.0000e-04\n",
      "Epoch 16/50\n",
      "3000/3000 [==============================] - 172s 57ms/step - loss: 0.4827 - accuracy: 0.7711 - val_loss: 0.4739 - val_accuracy: 0.7782 - lr: 5.0000e-04\n",
      "Epoch 17/50\n",
      "3000/3000 [==============================] - 176s 59ms/step - loss: 0.4787 - accuracy: 0.7727 - val_loss: 0.4685 - val_accuracy: 0.7752 - lr: 5.0000e-04\n",
      "Epoch 18/50\n",
      "3000/3000 [==============================] - 178s 59ms/step - loss: 0.4753 - accuracy: 0.7754 - val_loss: 0.4632 - val_accuracy: 0.7811 - lr: 5.0000e-04\n",
      "Epoch 19/50\n",
      "3000/3000 [==============================] - 178s 59ms/step - loss: 0.4707 - accuracy: 0.7787 - val_loss: 0.4806 - val_accuracy: 0.7765 - lr: 5.0000e-04\n",
      "Epoch 20/50\n",
      "3000/3000 [==============================] - 176s 59ms/step - loss: 0.4678 - accuracy: 0.7797 - val_loss: 0.4591 - val_accuracy: 0.7816 - lr: 5.0000e-04\n",
      "Epoch 21/50\n",
      "3000/3000 [==============================] - 175s 58ms/step - loss: 0.4645 - accuracy: 0.7828 - val_loss: 0.4661 - val_accuracy: 0.7812 - lr: 5.0000e-04\n",
      "Epoch 22/50\n",
      "3000/3000 [==============================] - 176s 59ms/step - loss: 0.4622 - accuracy: 0.7847 - val_loss: 0.4586 - val_accuracy: 0.7822 - lr: 5.0000e-04\n",
      "Epoch 23/50\n",
      "1298/3000 [===========>..................] - ETA: 1:27 - loss: 0.4588 - accuracy: 0.7870"
     ]
    }
   ],
   "source": [
    "history = lstm.fit(x=X_train_vect,\n",
    "                   y=np.expand_dims(y_train,-1),\n",
    "                   validation_split=.2,\n",
    "                   callbacks=[es,tb,lr],\n",
    "                   batch_size=32,\n",
    "                   epochs=50,)"
   ]
  },
  {
   "cell_type": "code",
   "execution_count": 64,
   "id": "68ec7d5b",
   "metadata": {
    "scrolled": true
   },
   "outputs": [
    {
     "name": "stderr",
     "output_type": "stream",
     "text": [
      "WARNING:absl:Found untraced functions such as lstm_cell_8_layer_call_fn, lstm_cell_8_layer_call_and_return_conditional_losses while saving (showing 2 of 2). These functions will not be directly callable after loading.\n"
     ]
    },
    {
     "name": "stdout",
     "output_type": "stream",
     "text": [
      "INFO:tensorflow:Assets written to: /Users/arthurcollard/code/arthurcol/gpt_vs_human/models/simple_lstm/assets\n"
     ]
    },
    {
     "name": "stderr",
     "output_type": "stream",
     "text": [
      "INFO:tensorflow:Assets written to: /Users/arthurcollard/code/arthurcol/gpt_vs_human/models/simple_lstm/assets\n"
     ]
    }
   ],
   "source": [
    "lstm.save(os.path.join(os.path.abspath(os.path.pardir),'models','simple_lstm'))"
   ]
  },
  {
   "cell_type": "markdown",
   "id": "5d0e14dc",
   "metadata": {
    "heading_collapsed": true
   },
   "source": [
    "## Using Bidirectional LSTM"
   ]
  },
  {
   "cell_type": "code",
   "execution_count": null,
   "id": "d99c1f0d",
   "metadata": {
    "hidden": true
   },
   "outputs": [],
   "source": [
    "def bilstm_model():\n",
    "    inputs = tf.keras.layers.Input(shape=(X_train_vect[0].shape))\n",
    "#     inputs = tf.keras.layers.Input(shape=(200,1))\n",
    "#     x = tf.keras.layers.LSTM(128,return_sequences=True,activation='tanh')(inputs)\n",
    "    x = tf.keras.layers.Bidirectional(tf.keras.layers.LSTM(32,return_sequences=False,activation='tanh'))(inputs)\n",
    "    x = tf.keras.layers.Dense(16,activation='relu')(x)\n",
    "    outputs = tf.keras.layers.Dense(1,activation='sigmoid')(x)\n",
    "    \n",
    "    return tf.keras.Model(inputs=inputs,outputs=outputs)"
   ]
  },
  {
   "cell_type": "code",
   "execution_count": null,
   "id": "4a686a0d",
   "metadata": {
    "hidden": true
   },
   "outputs": [],
   "source": [
    "#compile\n",
    "bilstm = bilstm_model()\n",
    "bilstm.compile(loss='binary_crossentropy',optimizer='adam',metrics='accuracy')"
   ]
  },
  {
   "cell_type": "code",
   "execution_count": null,
   "id": "b00ef11c",
   "metadata": {
    "hidden": true
   },
   "outputs": [],
   "source": [
    "#callbacks\n",
    "\n",
    "model_name='bi_lstm_2'\n",
    "\n",
    "#early stopping\n",
    "es = tf.keras.callbacks.EarlyStopping(monitor='val_accuracy',patience=3,restore_best_weights=True)\n",
    "\n",
    "#tensorboard\n",
    "log_dir = os.path.join(os.path.abspath(os.path.pardir),'logs',model_name)\n",
    "tb = tf.keras.callbacks.TensorBoard(log_dir=log_dir,write_graph=False,)\n",
    "\n",
    "#learning rate\n",
    "lr = tf.keras.callbacks.ReduceLROnPlateau(monitor='val_loss',factor=.5,patience=2,verbose=1)\n",
    "\n",
    "#model checkpoint\n",
    "model_path = os.path.join(os.path.abspath(os.path.pardir),'models',model_name)\n",
    "mc = tf.keras.callbacks.ModelCheckpoint(filepath=model_path,\n",
    "                                        monitor='val_accuracy',\n",
    "                                        verbose=1,\n",
    "                                        save_best_only=True,\n",
    "                                        save_weights_only=True)"
   ]
  },
  {
   "cell_type": "code",
   "execution_count": null,
   "id": "9771b69c",
   "metadata": {
    "hidden": true,
    "scrolled": false
   },
   "outputs": [],
   "source": [
    "history = bilstm.fit(x=X_train_vect,\n",
    "                   y=np.expand_dims(y_train,-1),\n",
    "                   validation_split=.2,\n",
    "                   callbacks=[es,tb,lr],\n",
    "                   batch_size=64,\n",
    "                   epochs=50,)"
   ]
  },
  {
   "cell_type": "code",
   "execution_count": 72,
   "id": "c86d6638",
   "metadata": {
    "hidden": true
   },
   "outputs": [],
   "source": []
  },
  {
   "cell_type": "markdown",
   "id": "19808d78",
   "metadata": {},
   "source": [
    "## Better embedding with W2V"
   ]
  },
  {
   "cell_type": "code",
   "execution_count": 14,
   "id": "f19c391c",
   "metadata": {},
   "outputs": [],
   "source": [
    "from gensim.models import Word2Vec"
   ]
  },
  {
   "cell_type": "code",
   "execution_count": 15,
   "id": "df6a9f34",
   "metadata": {},
   "outputs": [],
   "source": [
    "X_train_tokenized = [x.split() for x in X_train]\n",
    "wv = Word2Vec(sentences=X_train_tokenized,vector_size=50)"
   ]
  },
  {
   "cell_type": "code",
   "execution_count": 16,
   "id": "04e8c461",
   "metadata": {},
   "outputs": [],
   "source": [
    "def embed_sentence(word2vec, sentence):\n",
    "    embedded_sentence = []\n",
    "    for word in sentence:\n",
    "        if word in word2vec.wv:\n",
    "            embedded_sentence.append(word2vec.wv[word])\n",
    "        \n",
    "    return np.array(embedded_sentence)"
   ]
  },
  {
   "cell_type": "code",
   "execution_count": 17,
   "id": "ad6e50e3",
   "metadata": {},
   "outputs": [],
   "source": [
    "X_train_vect = [embed_sentence(wv,x) for x in X_train_tokenized]\n"
   ]
  },
  {
   "cell_type": "code",
   "execution_count": 19,
   "id": "890dbb84",
   "metadata": {},
   "outputs": [],
   "source": [
    "\n",
    "X_train_pad = tf.keras.utils.pad_sequences(X_train_vect,maxlen=256,truncating='post',padding='post')"
   ]
  },
  {
   "cell_type": "code",
   "execution_count": 20,
   "id": "638f84ce",
   "metadata": {},
   "outputs": [],
   "source": [
    "def bilstm_model_wv():\n",
    "    inputs = tf.keras.layers.Input(shape=(X_train_pad[0].shape))\n",
    "#     inputs = tf.keras.layers.Input(shape=(200,1))\n",
    "#     x = tf.keras.layers.LSTM(128,return_sequences=True,activation='tanh')(inputs)\n",
    "    x = tf.keras.layers.Bidirectional(tf.keras.layers.LSTM(32,return_sequences=False,activation='tanh'))(inputs)\n",
    "    x = tf.keras.layers.Dense(16,activation='relu')(x)\n",
    "    outputs = tf.keras.layers.Dense(1,activation='sigmoid')(x)\n",
    "    \n",
    "    return tf.keras.Model(inputs=inputs,outputs=outputs)"
   ]
  },
  {
   "cell_type": "code",
   "execution_count": 21,
   "id": "0788b89e",
   "metadata": {},
   "outputs": [
    {
     "name": "stderr",
     "output_type": "stream",
     "text": [
      "2023-02-23 23:00:52.878804: I tensorflow/core/common_runtime/pluggable_device/pluggable_device_factory.cc:305] Could not identify NUMA node of platform GPU ID 0, defaulting to 0. Your kernel may not have been built with NUMA support.\n",
      "2023-02-23 23:00:52.878862: I tensorflow/core/common_runtime/pluggable_device/pluggable_device_factory.cc:271] Created TensorFlow device (/job:localhost/replica:0/task:0/device:GPU:0 with 0 MB memory) -> physical PluggableDevice (device: 0, name: METAL, pci bus id: <undefined>)\n"
     ]
    }
   ],
   "source": [
    "#compile\n",
    "bilstm_wv = bilstm_model_wv()\n",
    "bilstm_wv.compile(loss='binary_crossentropy',optimizer='adam',metrics='accuracy')"
   ]
  },
  {
   "cell_type": "code",
   "execution_count": 22,
   "id": "2a7b47cd",
   "metadata": {},
   "outputs": [],
   "source": [
    "#callbacks\n",
    "\n",
    "model_name='bi_lstm_wv_bis'\n",
    "\n",
    "#early stopping\n",
    "es = tf.keras.callbacks.EarlyStopping(monitor='val_accuracy',patience=3,restore_best_weights=True)\n",
    "\n",
    "#tensorboard\n",
    "log_dir = os.path.join(os.path.abspath(os.path.pardir),'logs',model_name)\n",
    "tb = tf.keras.callbacks.TensorBoard(log_dir=log_dir,write_graph=False,)\n",
    "\n",
    "#learning rate\n",
    "lr = tf.keras.callbacks.ReduceLROnPlateau(monitor='val_loss',factor=.5,patience=2,verbose=1)\n",
    "\n",
    "#model checkpoint\n",
    "model_path = os.path.join(os.path.abspath(os.path.pardir),'models',model_name)\n",
    "mc = tf.keras.callbacks.ModelCheckpoint(filepath=model_path,\n",
    "                                        monitor='val_accuracy',\n",
    "                                        verbose=1,\n",
    "                                        save_best_only=True,\n",
    "                                        save_weights_only=True)"
   ]
  },
  {
   "cell_type": "code",
   "execution_count": 23,
   "id": "b5a2f55c",
   "metadata": {
    "scrolled": true
   },
   "outputs": [
    {
     "name": "stdout",
     "output_type": "stream",
     "text": [
      "Epoch 1/50\n"
     ]
    },
    {
     "name": "stderr",
     "output_type": "stream",
     "text": [
      "2023-02-23 23:00:53.289359: W tensorflow/core/platform/profile_utils/cpu_utils.cc:128] Failed to get CPU frequency: 0 Hz\n",
      "2023-02-23 23:00:55.162587: I tensorflow/core/grappler/optimizers/custom_graph_optimizer_registry.cc:113] Plugin optimizer for device_type GPU is enabled.\n",
      "2023-02-23 23:00:55.340745: I tensorflow/core/grappler/optimizers/custom_graph_optimizer_registry.cc:113] Plugin optimizer for device_type GPU is enabled.\n",
      "2023-02-23 23:00:55.359072: I tensorflow/core/grappler/optimizers/custom_graph_optimizer_registry.cc:113] Plugin optimizer for device_type GPU is enabled.\n",
      "2023-02-23 23:00:56.162052: I tensorflow/core/grappler/optimizers/custom_graph_optimizer_registry.cc:113] Plugin optimizer for device_type GPU is enabled.\n",
      "2023-02-23 23:00:56.175713: I tensorflow/core/grappler/optimizers/custom_graph_optimizer_registry.cc:113] Plugin optimizer for device_type GPU is enabled.\n"
     ]
    },
    {
     "name": "stdout",
     "output_type": "stream",
     "text": [
      "1500/1500 [==============================] - ETA: 0s - loss: 0.3076 - accuracy: 0.8618"
     ]
    },
    {
     "name": "stderr",
     "output_type": "stream",
     "text": [
      "2023-02-23 23:03:40.885430: I tensorflow/core/grappler/optimizers/custom_graph_optimizer_registry.cc:113] Plugin optimizer for device_type GPU is enabled.\n",
      "2023-02-23 23:03:40.962113: I tensorflow/core/grappler/optimizers/custom_graph_optimizer_registry.cc:113] Plugin optimizer for device_type GPU is enabled.\n",
      "2023-02-23 23:03:40.969424: I tensorflow/core/grappler/optimizers/custom_graph_optimizer_registry.cc:113] Plugin optimizer for device_type GPU is enabled.\n"
     ]
    },
    {
     "name": "stdout",
     "output_type": "stream",
     "text": [
      "\n",
      "Epoch 1: val_accuracy improved from -inf to 0.94233, saving model to /Users/arthurcollard/code/arthurcol/gpt_vs_human/models/bi_lstm_wv_bis\n",
      "1500/1500 [==============================] - 193s 126ms/step - loss: 0.3076 - accuracy: 0.8618 - val_loss: 0.1570 - val_accuracy: 0.9423 - lr: 0.0010\n",
      "Epoch 2/50\n",
      "1500/1500 [==============================] - ETA: 0s - loss: 0.1392 - accuracy: 0.9485\n",
      "Epoch 2: val_accuracy improved from 0.94233 to 0.95871, saving model to /Users/arthurcollard/code/arthurcol/gpt_vs_human/models/bi_lstm_wv_bis\n",
      "1500/1500 [==============================] - 191s 128ms/step - loss: 0.1392 - accuracy: 0.9485 - val_loss: 0.1130 - val_accuracy: 0.9587 - lr: 0.0010\n",
      "Epoch 3/50\n",
      "1500/1500 [==============================] - ETA: 0s - loss: 0.1023 - accuracy: 0.9628\n",
      "Epoch 3: val_accuracy improved from 0.95871 to 0.96504, saving model to /Users/arthurcollard/code/arthurcol/gpt_vs_human/models/bi_lstm_wv_bis\n",
      "1500/1500 [==============================] - 192s 128ms/step - loss: 0.1023 - accuracy: 0.9628 - val_loss: 0.0946 - val_accuracy: 0.9650 - lr: 0.0010\n",
      "Epoch 4/50\n",
      "1500/1500 [==============================] - ETA: 0s - loss: 0.0828 - accuracy: 0.9699\n",
      "Epoch 4: val_accuracy improved from 0.96504 to 0.96779, saving model to /Users/arthurcollard/code/arthurcol/gpt_vs_human/models/bi_lstm_wv_bis\n",
      "1500/1500 [==============================] - 190s 127ms/step - loss: 0.0828 - accuracy: 0.9699 - val_loss: 0.0883 - val_accuracy: 0.9678 - lr: 0.0010\n",
      "Epoch 5/50\n",
      "1500/1500 [==============================] - ETA: 0s - loss: 0.0692 - accuracy: 0.9747\n",
      "Epoch 5: val_accuracy did not improve from 0.96779\n",
      "1500/1500 [==============================] - 191s 127ms/step - loss: 0.0692 - accuracy: 0.9747 - val_loss: 0.1004 - val_accuracy: 0.9655 - lr: 0.0010\n",
      "Epoch 6/50\n",
      "1500/1500 [==============================] - ETA: 0s - loss: 0.0619 - accuracy: 0.9775\n",
      "Epoch 6: val_accuracy improved from 0.96779 to 0.97117, saving model to /Users/arthurcollard/code/arthurcol/gpt_vs_human/models/bi_lstm_wv_bis\n",
      "1500/1500 [==============================] - 190s 127ms/step - loss: 0.0619 - accuracy: 0.9775 - val_loss: 0.0793 - val_accuracy: 0.9712 - lr: 0.0010\n",
      "Epoch 7/50\n",
      "1500/1500 [==============================] - ETA: 0s - loss: 0.0544 - accuracy: 0.9803\n",
      "Epoch 7: val_accuracy improved from 0.97117 to 0.97525, saving model to /Users/arthurcollard/code/arthurcol/gpt_vs_human/models/bi_lstm_wv_bis\n",
      "1500/1500 [==============================] - 194s 129ms/step - loss: 0.0544 - accuracy: 0.9803 - val_loss: 0.0677 - val_accuracy: 0.9753 - lr: 0.0010\n",
      "Epoch 8/50\n",
      "1500/1500 [==============================] - ETA: 0s - loss: 0.0477 - accuracy: 0.9824\n",
      "Epoch 8: val_accuracy improved from 0.97525 to 0.97654, saving model to /Users/arthurcollard/code/arthurcol/gpt_vs_human/models/bi_lstm_wv_bis\n",
      "1500/1500 [==============================] - 193s 128ms/step - loss: 0.0477 - accuracy: 0.9824 - val_loss: 0.0691 - val_accuracy: 0.9765 - lr: 0.0010\n",
      "Epoch 9/50\n",
      "1500/1500 [==============================] - ETA: 0s - loss: 0.0423 - accuracy: 0.9846\n",
      "Epoch 9: ReduceLROnPlateau reducing learning rate to 0.0005000000237487257.\n",
      "\n",
      "Epoch 9: val_accuracy did not improve from 0.97654\n",
      "1500/1500 [==============================] - 193s 129ms/step - loss: 0.0423 - accuracy: 0.9846 - val_loss: 0.0964 - val_accuracy: 0.9684 - lr: 0.0010\n",
      "Epoch 10/50\n",
      "1500/1500 [==============================] - ETA: 0s - loss: 0.0299 - accuracy: 0.9899\n",
      "Epoch 10: val_accuracy improved from 0.97654 to 0.97833, saving model to /Users/arthurcollard/code/arthurcol/gpt_vs_human/models/bi_lstm_wv_bis\n",
      "1500/1500 [==============================] - 194s 129ms/step - loss: 0.0299 - accuracy: 0.9899 - val_loss: 0.0692 - val_accuracy: 0.9783 - lr: 5.0000e-04\n",
      "Epoch 11/50\n",
      "1500/1500 [==============================] - ETA: 0s - loss: 0.0263 - accuracy: 0.9906\n",
      "Epoch 11: ReduceLROnPlateau reducing learning rate to 0.0002500000118743628.\n",
      "\n",
      "Epoch 11: val_accuracy did not improve from 0.97833\n",
      "1500/1500 [==============================] - 191s 127ms/step - loss: 0.0263 - accuracy: 0.9906 - val_loss: 0.0701 - val_accuracy: 0.9775 - lr: 5.0000e-04\n",
      "Epoch 12/50\n",
      "1500/1500 [==============================] - ETA: 0s - loss: 0.0190 - accuracy: 0.9935\n",
      "Epoch 12: val_accuracy improved from 0.97833 to 0.97846, saving model to /Users/arthurcollard/code/arthurcol/gpt_vs_human/models/bi_lstm_wv_bis\n",
      "1500/1500 [==============================] - 190s 127ms/step - loss: 0.0190 - accuracy: 0.9935 - val_loss: 0.0753 - val_accuracy: 0.9785 - lr: 2.5000e-04\n",
      "Epoch 13/50\n",
      "1500/1500 [==============================] - ETA: 0s - loss: 0.0170 - accuracy: 0.9946\n",
      "Epoch 13: ReduceLROnPlateau reducing learning rate to 0.0001250000059371814.\n",
      "\n",
      "Epoch 13: val_accuracy did not improve from 0.97846\n",
      "1500/1500 [==============================] - 196s 130ms/step - loss: 0.0170 - accuracy: 0.9946 - val_loss: 0.0742 - val_accuracy: 0.9782 - lr: 2.5000e-04\n",
      "Epoch 14/50\n",
      "1500/1500 [==============================] - ETA: 0s - loss: 0.0130 - accuracy: 0.9962\n",
      "Epoch 14: val_accuracy improved from 0.97846 to 0.97871, saving model to /Users/arthurcollard/code/arthurcol/gpt_vs_human/models/bi_lstm_wv_bis\n",
      "1500/1500 [==============================] - 196s 130ms/step - loss: 0.0130 - accuracy: 0.9962 - val_loss: 0.0798 - val_accuracy: 0.9787 - lr: 1.2500e-04\n",
      "Epoch 15/50\n",
      "1500/1500 [==============================] - ETA: 0s - loss: 0.0119 - accuracy: 0.9964\n",
      "Epoch 15: ReduceLROnPlateau reducing learning rate to 6.25000029685907e-05.\n",
      "\n",
      "Epoch 15: val_accuracy improved from 0.97871 to 0.97962, saving model to /Users/arthurcollard/code/arthurcol/gpt_vs_human/models/bi_lstm_wv_bis\n",
      "1500/1500 [==============================] - 193s 129ms/step - loss: 0.0119 - accuracy: 0.9964 - val_loss: 0.0844 - val_accuracy: 0.9796 - lr: 1.2500e-04\n",
      "Epoch 16/50\n",
      "1500/1500 [==============================] - ETA: 0s - loss: 0.0100 - accuracy: 0.9975\n",
      "Epoch 16: val_accuracy did not improve from 0.97962\n",
      "1500/1500 [==============================] - 193s 129ms/step - loss: 0.0100 - accuracy: 0.9975 - val_loss: 0.0878 - val_accuracy: 0.9779 - lr: 6.2500e-05\n",
      "Epoch 17/50\n",
      "1500/1500 [==============================] - ETA: 0s - loss: 0.0093 - accuracy: 0.9975\n",
      "Epoch 17: ReduceLROnPlateau reducing learning rate to 3.125000148429535e-05.\n",
      "\n",
      "Epoch 17: val_accuracy did not improve from 0.97962\n",
      "1500/1500 [==============================] - 194s 129ms/step - loss: 0.0093 - accuracy: 0.9975 - val_loss: 0.0887 - val_accuracy: 0.9790 - lr: 6.2500e-05\n",
      "Epoch 18/50\n",
      "1500/1500 [==============================] - ETA: 0s - loss: 0.0084 - accuracy: 0.9980\n",
      "Epoch 18: val_accuracy did not improve from 0.97962\n",
      "1500/1500 [==============================] - 197s 131ms/step - loss: 0.0084 - accuracy: 0.9980 - val_loss: 0.0903 - val_accuracy: 0.9786 - lr: 3.1250e-05\n"
     ]
    }
   ],
   "source": [
    "history = bilstm_wv.fit(x=X_train_pad,\n",
    "                   y=np.expand_dims(y_train,-1),\n",
    "                   validation_split=.2,\n",
    "                   callbacks=[es,tb,lr,mc],\n",
    "                   batch_size=64,\n",
    "                   epochs=50,)"
   ]
  },
  {
   "cell_type": "code",
   "execution_count": 25,
   "id": "f2a55aed",
   "metadata": {},
   "outputs": [],
   "source": [
    "X_test_tokenized = [x.split() for x in X_test]\n",
    "X_test_vect = [embed_sentence(wv,x) for x in X_test_tokenized]\n",
    "X_test_pad = tf.keras.utils.pad_sequences(X_test_vect,maxlen=256,truncating='post',padding='post')"
   ]
  },
  {
   "cell_type": "code",
   "execution_count": 29,
   "id": "a300e42f",
   "metadata": {},
   "outputs": [
    {
     "name": "stderr",
     "output_type": "stream",
     "text": [
      "2023-02-24 00:05:40.184983: I tensorflow/core/grappler/optimizers/custom_graph_optimizer_registry.cc:113] Plugin optimizer for device_type GPU is enabled.\n",
      "2023-02-24 00:05:40.398647: I tensorflow/core/grappler/optimizers/custom_graph_optimizer_registry.cc:113] Plugin optimizer for device_type GPU is enabled.\n",
      "2023-02-24 00:05:40.409173: I tensorflow/core/grappler/optimizers/custom_graph_optimizer_registry.cc:113] Plugin optimizer for device_type GPU is enabled.\n"
     ]
    },
    {
     "name": "stdout",
     "output_type": "stream",
     "text": [
      "938/938 [==============================] - 70s 73ms/step - loss: 0.0927 - accuracy: 0.9775\n"
     ]
    },
    {
     "data": {
      "text/plain": [
       "[0.09268120676279068, 0.9775453209877014]"
      ]
     },
     "execution_count": 29,
     "metadata": {},
     "output_type": "execute_result"
    }
   ],
   "source": [
    "bilstm_wv.evaluate(X_test_pad,y_test)"
   ]
  },
  {
   "cell_type": "markdown",
   "id": "b3746fe3",
   "metadata": {
    "heading_collapsed": true
   },
   "source": [
    "## Unleash the power of attention models"
   ]
  },
  {
   "cell_type": "code",
   "execution_count": 5,
   "id": "e58a1463",
   "metadata": {
    "hidden": true
   },
   "outputs": [
    {
     "name": "stderr",
     "output_type": "stream",
     "text": [
      "/Users/arthurcollard/Library/Caches/pypoetry/virtualenvs/gpt-vs-human-7LNN4CJ4-py3.10/lib/python3.10/site-packages/tqdm/auto.py:22: TqdmWarning: IProgress not found. Please update jupyter and ipywidgets. See https://ipywidgets.readthedocs.io/en/stable/user_install.html\n",
      "  from .autonotebook import tqdm as notebook_tqdm\n"
     ]
    }
   ],
   "source": [
    "from transformers import TFBertModel, BertTokenizerFast"
   ]
  },
  {
   "cell_type": "code",
   "execution_count": 6,
   "id": "61a875bb",
   "metadata": {
    "hidden": true
   },
   "outputs": [
    {
     "name": "stderr",
     "output_type": "stream",
     "text": [
      "2023-02-23 18:10:44.311637: I tensorflow/core/common_runtime/pluggable_device/pluggable_device_factory.cc:305] Could not identify NUMA node of platform GPU ID 0, defaulting to 0. Your kernel may not have been built with NUMA support.\n",
      "2023-02-23 18:10:44.311739: I tensorflow/core/common_runtime/pluggable_device/pluggable_device_factory.cc:271] Created TensorFlow device (/job:localhost/replica:0/task:0/device:GPU:0 with 0 MB memory) -> physical PluggableDevice (device: 0, name: METAL, pci bus id: <undefined>)\n",
      "Some layers from the model checkpoint at bert-base-uncased were not used when initializing TFBertModel: ['mlm___cls', 'nsp___cls']\n",
      "- This IS expected if you are initializing TFBertModel from the checkpoint of a model trained on another task or with another architecture (e.g. initializing a BertForSequenceClassification model from a BertForPreTraining model).\n",
      "- This IS NOT expected if you are initializing TFBertModel from the checkpoint of a model that you expect to be exactly identical (initializing a BertForSequenceClassification model from a BertForSequenceClassification model).\n",
      "All the layers of TFBertModel were initialized from the model checkpoint at bert-base-uncased.\n",
      "If your task is similar to the task the model of the checkpoint was trained on, you can already use TFBertModel for predictions without further training.\n"
     ]
    }
   ],
   "source": [
    "bert = TFBertModel.from_pretrained('bert-base-uncased')"
   ]
  },
  {
   "cell_type": "code",
   "execution_count": 7,
   "id": "21162c27",
   "metadata": {
    "hidden": true
   },
   "outputs": [],
   "source": [
    "tokenizer = BertTokenizerFast.from_pretrained('bert-base-uncased')"
   ]
  },
  {
   "cell_type": "code",
   "execution_count": 8,
   "id": "86d14bdf",
   "metadata": {
    "hidden": true
   },
   "outputs": [
    {
     "ename": "NameError",
     "evalue": "name 'X_train' is not defined",
     "output_type": "error",
     "traceback": [
      "\u001b[0;31m---------------------------------------------------------------------------\u001b[0m",
      "\u001b[0;31mNameError\u001b[0m                                 Traceback (most recent call last)",
      "File \u001b[0;32m<timed exec>:1\u001b[0m\n",
      "\u001b[0;31mNameError\u001b[0m: name 'X_train' is not defined"
     ]
    }
   ],
   "source": [
    "%%time\n",
    "lengths = [len(x.split()) for x in X_train]\n",
    "tokens_raw = tokenizer(list(X_train))"
   ]
  },
  {
   "cell_type": "code",
   "execution_count": 114,
   "id": "7f98c9b9",
   "metadata": {
    "hidden": true
   },
   "outputs": [
    {
     "data": {
      "text/plain": [
       "<matplotlib.collections.LineCollection at 0x5b8fdd750>"
      ]
     },
     "execution_count": 114,
     "metadata": {},
     "output_type": "execute_result"
    },
    {
     "data": {
      "image/png": "[encoded data removed]",
      "text/plain": [
       "<Figure size 640x480 with 1 Axes>"
      ]
     },
     "metadata": {},
     "output_type": "display_data"
    }
   ],
   "source": [
    "#get lengths\n",
    "lengths = [len(x) for x in tokens_raw.input_ids]\n",
    "#check distribution of lengths of tokens\n",
    "plt.hist(lengths,bins=30);\n",
    "plt.vlines(x=256,ymin=0,ymax=30000,color='r')"
   ]
  },
  {
   "cell_type": "code",
   "execution_count": 129,
   "id": "67d6c790",
   "metadata": {
    "hidden": true
   },
   "outputs": [
    {
     "name": "stdout",
     "output_type": "stream",
     "text": [
      "69.93% of texts contains less than 256 tokens (not words!)\n"
     ]
    }
   ],
   "source": [
    "## check proportion\n",
    "_ = sum(len(el) <= 256 for el in tokens_raw.input_ids)/len(tokens_raw.input_ids)*100\n",
    "\n",
    "print(f'{_:.2f}% of texts contains less than 256 tokens (not words!)')"
   ]
  },
  {
   "cell_type": "code",
   "execution_count": 18,
   "id": "19b9a04a",
   "metadata": {
    "hidden": true
   },
   "outputs": [],
   "source": [
    "# tokens with truncation and padding \n",
    "tokens_train = tokenizer(list(X_train),padding='max_length',max_length=256,truncation=True)\n",
    "tokens_test = tokenizer(list(X_test),padding='max_length',max_length=256,truncation=True)"
   ]
  },
  {
   "cell_type": "code",
   "execution_count": 19,
   "id": "f0b7198a",
   "metadata": {
    "hidden": true
   },
   "outputs": [
    {
     "data": {
      "text/plain": [
       "120000"
      ]
     },
     "execution_count": 19,
     "metadata": {},
     "output_type": "execute_result"
    }
   ],
   "source": [
    "len(tokens_train.input_ids)"
   ]
  },
  {
   "cell_type": "code",
   "execution_count": 22,
   "id": "3123d153",
   "metadata": {
    "hidden": true
   },
   "outputs": [],
   "source": [
    "tempt_ids = tf.constant(tokens_train.input_ids[:64])\n",
    "tempt_am = tf.constant(tokens_train.attention_mask[:64])"
   ]
  },
  {
   "cell_type": "code",
   "execution_count": 29,
   "id": "f8906ab6",
   "metadata": {
    "hidden": true
   },
   "outputs": [
    {
     "name": "stderr",
     "output_type": "stream",
     "text": [
      "2023-02-23 18:15:28.799335: W tensorflow/core/platform/profile_utils/cpu_utils.cc:128] Failed to get CPU frequency: 0 Hz\n",
      "2023-02-23 18:15:31.526755: I tensorflow/core/grappler/optimizers/custom_graph_optimizer_registry.cc:113] Plugin optimizer for device_type GPU is enabled.\n"
     ]
    },
    {
     "name": "stdout",
     "output_type": "stream",
     "text": [
      "2/2 [==============================] - 4s 386ms/step\n"
     ]
    },
    {
     "data": {
      "text/plain": [
       "TFBaseModelOutputWithPoolingAndCrossAttentions(last_hidden_state=array([[[-0.7801033 , -0.599067  ,  0.90572685, ..., -0.56920236,\n",
       "          0.5780623 ,  0.69011897],\n",
       "        [-0.739975  , -0.43374944,  0.2817332 , ...,  0.41889942,\n",
       "          0.7393465 ,  0.65147936],\n",
       "        [-0.55861485, -0.6715711 ,  0.50482196, ...,  0.2738414 ,\n",
       "         -0.6503402 , -0.05797983],\n",
       "        ...,\n",
       "        [ 0.07825153, -0.42142808, -0.01634572, ..., -0.6980226 ,\n",
       "          0.49637657,  0.17151695],\n",
       "        [-1.1665457 , -0.8525289 ,  0.57744056, ...,  0.00438103,\n",
       "          0.778707  ,  0.07372924],\n",
       "        [-0.48957533, -0.25351495,  1.5333028 , ..., -0.06921382,\n",
       "         -0.28163144,  0.25580975]],\n",
       "\n",
       "       [[-0.23227404, -0.43168655, -0.2812827 , ...,  0.10740367,\n",
       "          0.349595  ,  0.6542146 ],\n",
       "        [-0.18368039, -0.18365273,  0.21180208, ...,  0.32206875,\n",
       "          1.4130634 ,  0.74174243],\n",
       "        [-0.855635  ,  0.19952285,  0.7871872 , ..., -0.22929859,\n",
       "         -0.15159139, -0.51795864],\n",
       "        ...,\n",
       "        [-0.47424835, -0.33778608,  0.16722772, ...,  0.13675146,\n",
       "         -0.07634469, -0.44399393],\n",
       "        [-0.54254127, -0.12250122,  0.518492  , ...,  0.10813479,\n",
       "         -0.11557187, -0.32829309],\n",
       "        [-0.13714507, -0.05356514,  0.32386506, ...,  0.00367429,\n",
       "         -0.08639107, -0.72726554]],\n",
       "\n",
       "       [[-0.37205812, -0.632864  , -1.2604815 , ...,  0.5554713 ,\n",
       "          0.5837508 ,  0.37431276],\n",
       "        [-0.41887075, -0.2441386 ,  0.33556843, ...,  0.28463906,\n",
       "          0.7381172 ,  1.0096284 ],\n",
       "        [-0.36217007, -0.14210184, -0.5851086 , ...,  1.1207608 ,\n",
       "          0.32103384, -0.17418729],\n",
       "        ...,\n",
       "        [-0.8770848 ,  0.05701872,  0.02057275, ...,  0.6753377 ,\n",
       "          0.23032537, -0.46776706],\n",
       "        [-0.6110301 ,  0.33788773,  0.16499625, ...,  0.44043085,\n",
       "          0.24990994, -0.1286026 ],\n",
       "        [-0.392956  ,  0.15960503, -0.12752664, ...,  0.16138086,\n",
       "          0.21782587, -0.25979477]],\n",
       "\n",
       "       ...,\n",
       "\n",
       "       [[-0.35129136, -0.48932976, -0.60320693, ...,  0.5115103 ,\n",
       "          0.14701834,  1.0561657 ],\n",
       "        [-0.6609173 ,  0.5222261 , -1.0190053 , ..., -0.26855943,\n",
       "          0.4417432 ,  0.5614163 ],\n",
       "        [ 0.9475745 ,  0.25767046, -0.5772079 , ..., -0.33620453,\n",
       "          0.4424044 , -0.04072884],\n",
       "        ...,\n",
       "        [ 0.82536346, -0.21739168,  0.3714271 , ..., -0.4978111 ,\n",
       "         -0.0023906 ,  0.42740712],\n",
       "        [-0.54379   , -0.7802991 , -0.8774749 , ...,  0.22299653,\n",
       "          0.32791615,  0.63278943],\n",
       "        [-0.42401782,  0.17453206,  0.04950932, ...,  0.7523804 ,\n",
       "         -0.22649688, -0.08869147]],\n",
       "\n",
       "       [[-0.02310811, -0.590542  , -0.8212079 , ...,  0.9373801 ,\n",
       "          0.71197736,  0.6140136 ],\n",
       "        [-0.35378322,  0.318021  , -0.54906195, ...,  0.43832618,\n",
       "          0.6721728 , -0.5141843 ],\n",
       "        [ 0.26570204,  0.00363288,  0.1188764 , ...,  0.5661894 ,\n",
       "          0.22678898,  0.3298693 ],\n",
       "        ...,\n",
       "        [-0.10678163,  0.11491511, -0.03932304, ...,  0.07106753,\n",
       "         -0.17010492,  0.42034388],\n",
       "        [ 0.05794092, -0.44959256,  0.30366784, ..., -0.02699549,\n",
       "          0.29872236, -0.15291777],\n",
       "        [-0.39049968, -0.5974405 , -0.04045046, ...,  0.2680767 ,\n",
       "          0.5635971 , -0.09330548]],\n",
       "\n",
       "       [[-0.85718936, -0.98499286, -1.3114098 , ...,  0.15139785,\n",
       "          1.0509859 ,  0.26058653],\n",
       "        [-0.03669866,  0.15045173,  0.6438987 , ...,  0.7001284 ,\n",
       "          0.9774215 , -0.3335255 ],\n",
       "        [-0.993924  , -1.2730435 ,  0.46598372, ...,  0.4918005 ,\n",
       "          0.9527708 ,  0.18667111],\n",
       "        ...,\n",
       "        [-0.9135658 , -0.69790167, -0.8320118 , ..., -0.5212729 ,\n",
       "          0.26347238, -0.18024424],\n",
       "        [-1.149474  ,  0.3118625 ,  0.12339568, ..., -0.51154983,\n",
       "          0.25717816, -1.2957379 ],\n",
       "        [-0.6614549 , -0.18219106,  0.03022326, ...,  0.23161103,\n",
       "         -0.18010668, -0.3312804 ]]], dtype=float32), pooler_output=array([[-0.24477014, -0.16316329, -0.9390794 , ..., -0.9409138 ,\n",
       "         0.01966202,  0.04126617],\n",
       "       [-0.32758018, -0.5384505 , -0.9964632 , ..., -0.94124156,\n",
       "        -0.27947563,  0.48144534],\n",
       "       [-0.55594146, -0.34645796, -0.99166304, ..., -0.9874405 ,\n",
       "        -0.3808763 ,  0.08049089],\n",
       "       ...,\n",
       "       [-0.6219212 , -0.42615053, -0.98571604, ..., -0.9891749 ,\n",
       "        -0.50593907,  0.09204461],\n",
       "       [-0.18351153,  0.4928126 ,  0.90153646, ...,  0.83025825,\n",
       "         0.4823899 , -0.18145283],\n",
       "       [-0.07936332, -0.2460984 , -0.8911687 , ..., -0.9418553 ,\n",
       "        -0.03125422, -0.05762795]], dtype=float32), past_key_values=None, hidden_states=None, attentions=None, cross_attentions=None)"
      ]
     },
     "execution_count": 29,
     "metadata": {},
     "output_type": "execute_result"
    }
   ],
   "source": [
    "bert.predict((tempt_ids,tempt_am))#['pooler_output']"
   ]
  },
  {
   "cell_type": "code",
   "execution_count": 43,
   "id": "a96ad1a7",
   "metadata": {
    "hidden": true
   },
   "outputs": [],
   "source": [
    "def init_bertmodel():\n",
    "    input_ids = tf.keras.layers.Input(shape=(256),dtype=tf.int32,name='input_ids')\n",
    "    attention_mask = tf.keras.layers.Input(shape=(256),dtype=tf.int32,name='attention_mask')\n",
    "    \n",
    "    backbone = TFBertModel.from_pretrained('bert-base-uncased',)\n",
    "    backbone.trainable = False\n",
    "    pooler_output = backbone(input_ids,attention_mask)['pooler_output']\n",
    "    \n",
    "    \n",
    "    x = tf.keras.layers.Dense(128,activation='relu')(pooler_output)\n",
    "    output = tf.keras.layers.Dense(1,activation='sigmoid')(x)\n",
    "    \n",
    "    model = tf.keras.Model(inputs=(input_ids,attention_mask),outputs=output)\n",
    "    \n",
    "    return model"
   ]
  },
  {
   "cell_type": "code",
   "execution_count": 44,
   "id": "006eec5a",
   "metadata": {
    "hidden": true
   },
   "outputs": [
    {
     "name": "stderr",
     "output_type": "stream",
     "text": [
      "Some layers from the model checkpoint at bert-base-uncased were not used when initializing TFBertModel: ['mlm___cls', 'nsp___cls']\n",
      "- This IS expected if you are initializing TFBertModel from the checkpoint of a model trained on another task or with another architecture (e.g. initializing a BertForSequenceClassification model from a BertForPreTraining model).\n",
      "- This IS NOT expected if you are initializing TFBertModel from the checkpoint of a model that you expect to be exactly identical (initializing a BertForSequenceClassification model from a BertForSequenceClassification model).\n",
      "All the layers of TFBertModel were initialized from the model checkpoint at bert-base-uncased.\n",
      "If your task is similar to the task the model of the checkpoint was trained on, you can already use TFBertModel for predictions without further training.\n"
     ]
    }
   ],
   "source": [
    "#compile\n",
    "bertmodel = init_bertmodel()\n",
    "bertmodel.compile(loss='binary_crossentropy',optimizer='adam',metrics='accuracy')"
   ]
  },
  {
   "cell_type": "code",
   "execution_count": 45,
   "id": "eb4661b0",
   "metadata": {
    "hidden": true
   },
   "outputs": [],
   "source": [
    "#callbacks\n",
    "\n",
    "model_name='bertmodel'\n",
    "\n",
    "#early stopping\n",
    "es = tf.keras.callbacks.EarlyStopping(monitor='val_accuracy',patience=3,restore_best_weights=True)\n",
    "\n",
    "#tensorboard\n",
    "log_dir = os.path.join(os.path.abspath(os.path.pardir),'logs',model_name)\n",
    "tb = tf.keras.callbacks.TensorBoard(log_dir=log_dir,write_graph=False,)\n",
    "\n",
    "#learning rate\n",
    "lr = tf.keras.callbacks.ReduceLROnPlateau(monitor='val_loss',factor=.5,patience=2,verbose=1)\n",
    "\n",
    "#model checkpoint\n",
    "model_path = os.path.join(os.path.abspath(os.path.pardir),'models',model_name)\n",
    "mc = tf.keras.callbacks.ModelCheckpoint(filepath=model_path,\n",
    "                                        monitor='val_accuracy',\n",
    "                                        verbose=1,\n",
    "                                        save_best_only=True,\n",
    "                                        save_weights_only=True)"
   ]
  },
  {
   "cell_type": "code",
   "execution_count": null,
   "id": "6c9a9de7",
   "metadata": {
    "hidden": true
   },
   "outputs": [],
   "source": [
    "history = bertmodel.fit(x=ds_b,\n",
    "#                    y=np.expand_dims(y_train,-1),\n",
    "#                    validation_split=.2,\n",
    "                   callbacks=[es,tb,lr],\n",
    "                   batch_size=64,\n",
    "                   epochs=50,)"
   ]
  },
  {
   "cell_type": "code",
   "execution_count": null,
   "id": "e5925e4c",
   "metadata": {
    "hidden": true
   },
   "outputs": [],
   "source": []
  },
  {
   "cell_type": "markdown",
   "id": "57efac41",
   "metadata": {},
   "source": [
    "# Features engineering"
   ]
  },
  {
   "cell_type": "markdown",
   "id": "dd002924",
   "metadata": {},
   "source": [
    "What kind of FE can we perform ? \n",
    "- look at the # of sentences ?\n",
    "- #words / #sentences\n",
    "- variance #words / sentences "
   ]
  },
  {
   "cell_type": "code",
   "execution_count": 18,
   "id": "4b762bda",
   "metadata": {},
   "outputs": [],
   "source": [
    "df['# sentences'] = df['text'].apply(lambda x : len(x.split('.')))"
   ]
  },
  {
   "cell_type": "code",
   "execution_count": 20,
   "id": "31c850e8",
   "metadata": {},
   "outputs": [],
   "source": [
    "def word_per_sentence(text):\n",
    "    sentences = text.split('.')\n",
    "    lengths = []\n",
    "    for s in sentences : \n",
    "        lengths.append(len(s.split()))\n",
    "    return [np.mean(np.array(lengths)),np.std(np.array(lengths))]"
   ]
  },
  {
   "cell_type": "code",
   "execution_count": 21,
   "id": "7ccfa71e",
   "metadata": {},
   "outputs": [],
   "source": [
    "df_e = pd.concat([\n",
    "    df,\n",
    "    df['text'].apply(word_per_sentence)\\\n",
    "                .apply(pd.Series)\\\n",
    "                .rename({0:'mean_w_p_s',1:'var_w_p_s'},axis=1)]\n",
    "                 ,axis=1)"
   ]
  },
  {
   "cell_type": "code",
   "execution_count": 58,
   "id": "9b938a70",
   "metadata": {},
   "outputs": [
    {
     "data": {
      "image/png": "[encoded data removed]",
      "text/plain": [
       "<Figure size 1600x500 with 3 Axes>"
      ]
     },
     "metadata": {},
     "output_type": "display_data"
    }
   ],
   "source": [
    "## see if our intuition was good \n",
    "\n",
    "fig,axs = plt.subplots(1,3,figsize=(16,5),tight_layout=True)\n",
    "\n",
    "sns.boxplot(data=df_e,y='# sentences',x='label',ax=axs[0],showfliers=False)\n",
    "axs[0].set_title('# sentences')\n",
    "\n",
    "sns.boxplot(data=df_e,y='mean_w_p_s',x='label',ax=axs[1],showfliers=False)\n",
    "axs[1].set_title('mean_w_p_s')\n",
    "\n",
    "sns.boxplot(data=df_e,y='var_w_p_s',x='label',ax=axs[2],showfliers=False)\n",
    "axs[2].set_title('var_w_p_s');\n"
   ]
  },
  {
   "cell_type": "code",
   "execution_count": 59,
   "id": "e847bd4f",
   "metadata": {},
   "outputs": [],
   "source": [
    "X_train,X_test,y_train,y_test = train_test_split(df_e[['text','# sentences','mean_w_p_s','var_w_p_s']],df['label'])"
   ]
  },
  {
   "cell_type": "code",
   "execution_count": 61,
   "id": "b9276457",
   "metadata": {},
   "outputs": [
    {
     "data": {
      "text/html": [
       "<div>\n",
       "<style scoped>\n",
       "    .dataframe tbody tr th:only-of-type {\n",
       "        vertical-align: middle;\n",
       "    }\n",
       "\n",
       "    .dataframe tbody tr th {\n",
       "        vertical-align: top;\n",
       "    }\n",
       "\n",
       "    .dataframe thead th {\n",
       "        text-align: right;\n",
       "    }\n",
       "</style>\n",
       "<table border=\"1\" class=\"dataframe\">\n",
       "  <thead>\n",
       "    <tr style=\"text-align: right;\">\n",
       "      <th></th>\n",
       "      <th>text</th>\n",
       "      <th># sentences</th>\n",
       "      <th>mean_w_p_s</th>\n",
       "      <th>var_w_p_s</th>\n",
       "    </tr>\n",
       "    <tr>\n",
       "      <th>id</th>\n",
       "      <th></th>\n",
       "      <th></th>\n",
       "      <th></th>\n",
       "      <th></th>\n",
       "    </tr>\n",
       "  </thead>\n",
       "  <tbody>\n",
       "    <tr>\n",
       "      <th>2553604</th>\n",
       "      <td>Wilkie is a surname of Scottish origin, meanin...</td>\n",
       "      <td>7</td>\n",
       "      <td>10.000000</td>\n",
       "      <td>4.720775</td>\n",
       "    </tr>\n",
       "    <tr>\n",
       "      <th>3244286</th>\n",
       "      <td>Maramec Spring is located on the Meramec River...</td>\n",
       "      <td>12</td>\n",
       "      <td>12.583333</td>\n",
       "      <td>7.675267</td>\n",
       "    </tr>\n",
       "    <tr>\n",
       "      <th>10708388</th>\n",
       "      <td>José María Ramón Obando del Campo (August 22, ...</td>\n",
       "      <td>14</td>\n",
       "      <td>16.785714</td>\n",
       "      <td>4.753624</td>\n",
       "    </tr>\n",
       "    <tr>\n",
       "      <th>69894587</th>\n",
       "      <td>Pomaderris cocoparrana, commonly known as Coco...</td>\n",
       "      <td>7</td>\n",
       "      <td>14.285714</td>\n",
       "      <td>6.474440</td>\n",
       "    </tr>\n",
       "    <tr>\n",
       "      <th>784603</th>\n",
       "      <td>An \"I quit\" match is a type of professional wr...</td>\n",
       "      <td>3</td>\n",
       "      <td>20.333333</td>\n",
       "      <td>14.522014</td>\n",
       "    </tr>\n",
       "    <tr>\n",
       "      <th>...</th>\n",
       "      <td>...</td>\n",
       "      <td>...</td>\n",
       "      <td>...</td>\n",
       "      <td>...</td>\n",
       "    </tr>\n",
       "    <tr>\n",
       "      <th>10680343</th>\n",
       "      <td>Phantom Investigators is a 13-episode animated...</td>\n",
       "      <td>6</td>\n",
       "      <td>11.666667</td>\n",
       "      <td>7.203394</td>\n",
       "    </tr>\n",
       "    <tr>\n",
       "      <th>1071556</th>\n",
       "      <td>Broadmayne is a village in the English county ...</td>\n",
       "      <td>14</td>\n",
       "      <td>14.928571</td>\n",
       "      <td>8.770603</td>\n",
       "    </tr>\n",
       "    <tr>\n",
       "      <th>11336742</th>\n",
       "      <td>Ippolito Buzzi (or Buzio) (1562–1634) was an I...</td>\n",
       "      <td>6</td>\n",
       "      <td>11.833333</td>\n",
       "      <td>7.624886</td>\n",
       "    </tr>\n",
       "    <tr>\n",
       "      <th>6392017</th>\n",
       "      <td>Music from Van-Pires is the only studio album ...</td>\n",
       "      <td>11</td>\n",
       "      <td>20.727273</td>\n",
       "      <td>12.098767</td>\n",
       "    </tr>\n",
       "    <tr>\n",
       "      <th>23450129</th>\n",
       "      <td>Electrical measurements are the methods, devic...</td>\n",
       "      <td>7</td>\n",
       "      <td>35.285714</td>\n",
       "      <td>37.916127</td>\n",
       "    </tr>\n",
       "  </tbody>\n",
       "</table>\n",
       "<p>112500 rows × 4 columns</p>\n",
       "</div>"
      ],
      "text/plain": [
       "                                                       text  # sentences  \\\n",
       "id                                                                         \n",
       "2553604   Wilkie is a surname of Scottish origin, meanin...            7   \n",
       "3244286   Maramec Spring is located on the Meramec River...           12   \n",
       "10708388  José María Ramón Obando del Campo (August 22, ...           14   \n",
       "69894587  Pomaderris cocoparrana, commonly known as Coco...            7   \n",
       "784603    An \"I quit\" match is a type of professional wr...            3   \n",
       "...                                                     ...          ...   \n",
       "10680343  Phantom Investigators is a 13-episode animated...            6   \n",
       "1071556   Broadmayne is a village in the English county ...           14   \n",
       "11336742  Ippolito Buzzi (or Buzio) (1562–1634) was an I...            6   \n",
       "6392017   Music from Van-Pires is the only studio album ...           11   \n",
       "23450129  Electrical measurements are the methods, devic...            7   \n",
       "\n",
       "          mean_w_p_s  var_w_p_s  \n",
       "id                               \n",
       "2553604    10.000000   4.720775  \n",
       "3244286    12.583333   7.675267  \n",
       "10708388   16.785714   4.753624  \n",
       "69894587   14.285714   6.474440  \n",
       "784603     20.333333  14.522014  \n",
       "...              ...        ...  \n",
       "10680343   11.666667   7.203394  \n",
       "1071556    14.928571   8.770603  \n",
       "11336742   11.833333   7.624886  \n",
       "6392017    20.727273  12.098767  \n",
       "23450129   35.285714  37.916127  \n",
       "\n",
       "[112500 rows x 4 columns]"
      ]
     },
     "execution_count": 61,
     "metadata": {},
     "output_type": "execute_result"
    }
   ],
   "source": []
  },
  {
   "cell_type": "code",
   "execution_count": 63,
   "id": "2331b727",
   "metadata": {},
   "outputs": [],
   "source": []
  },
  {
   "cell_type": "code",
   "execution_count": 67,
   "id": "795556c0",
   "metadata": {},
   "outputs": [],
   "source": [
    "X_train_tokenized = [x.split() for x in X_train['text']]\n",
    "wv = Word2Vec(sentences=X_train_tokenized,vector_size=50)"
   ]
  },
  {
   "cell_type": "code",
   "execution_count": 68,
   "id": "afaaeb32",
   "metadata": {},
   "outputs": [],
   "source": [
    "def embed_sentence(word2vec, sentence):\n",
    "    embedded_sentence = []\n",
    "    for word in sentence:\n",
    "        if word in word2vec.wv:\n",
    "            embedded_sentence.append(word2vec.wv[word])\n",
    "        \n",
    "    return np.array(embedded_sentence)"
   ]
  },
  {
   "cell_type": "code",
   "execution_count": 69,
   "id": "dd1f2691",
   "metadata": {},
   "outputs": [],
   "source": [
    "X_train_vect = [embed_sentence(wv,x) for x in X_train_tokenized]\n",
    "X_train_pad = tf.keras.utils.pad_sequences(X_train_vect,maxlen=256,truncating='post',padding='post')"
   ]
  },
  {
   "cell_type": "code",
   "execution_count": 72,
   "id": "48d8678a",
   "metadata": {},
   "outputs": [],
   "source": [
    "from sklearn.preprocessing import RobustScaler\n",
    "scaler = RobustScaler()\n",
    "num_scaled_train = scaler.fit_transform(X_train.drop('text',axis=1))\n",
    "num_scaled_test = scaler.transform(X_test.drop('text',axis=1))"
   ]
  },
  {
   "cell_type": "code",
   "execution_count": 85,
   "id": "cd7c0824",
   "metadata": {},
   "outputs": [],
   "source": [
    "def multi_inputs_model():\n",
    "    text_inputs = tf.keras.layers.Input(shape=X_train_pad[0].shape,name='text_inputs')\n",
    "    num_inputs = tf.keras.layers.Input(shape=(3),name='num_inputs')\n",
    "    \n",
    "    x_text = tf.keras.layers.Bidirectional(\n",
    "        tf.keras.layers.LSTM(32,return_sequences=False,activation='tanh')\n",
    "    )(text_inputs)\n",
    "    out_text = tf.keras.layers.Dense(16,activation='relu')(x_text)\n",
    "    \n",
    "    x_num = tf.keras.layers.Dense(32,activation='relu')(num_inputs)\n",
    "    out_num = tf.keras.layers.Dense(4,activation='relu')(x_num)\n",
    "    \n",
    "    x = tf.keras.layers.Concatenate()([out_text,out_num])\n",
    "    output = tf.keras.layers.Dense(1,activation='sigmoid')(x)\n",
    "    \n",
    "    model = tf.keras.Model(inputs=[text_inputs,num_inputs],outputs=output)\n",
    "    \n",
    "    return model "
   ]
  },
  {
   "cell_type": "code",
   "execution_count": 91,
   "id": "a4ad6659",
   "metadata": {},
   "outputs": [],
   "source": [
    "multimodel = multi_inputs_model()\n",
    "multimodel.compile(loss='binary_crossentropy',optimizer='adam',metrics='accuracy')"
   ]
  },
  {
   "cell_type": "code",
   "execution_count": 92,
   "id": "a0930749",
   "metadata": {},
   "outputs": [
    {
     "data": {
      "image/png": "[encoded data removed]",
      "text/plain": [
       "<IPython.core.display.Image object>"
      ]
     },
     "execution_count": 92,
     "metadata": {},
     "output_type": "execute_result"
    }
   ],
   "source": [
    "tf.keras.utils.plot_model(multimodel,show_shapes=True)"
   ]
  },
  {
   "cell_type": "code",
   "execution_count": 93,
   "id": "cbf79bf4",
   "metadata": {},
   "outputs": [],
   "source": [
    "#callbacks\n",
    "\n",
    "model_name='multimodel'\n",
    "\n",
    "#early stopping\n",
    "es = tf.keras.callbacks.EarlyStopping(monitor='val_accuracy',patience=3,restore_best_weights=True)\n",
    "\n",
    "#tensorboard\n",
    "log_dir = os.path.join(os.path.abspath(os.path.pardir),'logs',model_name)\n",
    "tb = tf.keras.callbacks.TensorBoard(log_dir=log_dir,write_graph=False,)\n",
    "\n",
    "#learning rate\n",
    "lr = tf.keras.callbacks.ReduceLROnPlateau(monitor='val_loss',factor=.5,patience=2,verbose=1)\n",
    "\n",
    "#model checkpoint\n",
    "model_path = os.path.join(os.path.abspath(os.path.pardir),'models',model_name)\n",
    "mc = tf.keras.callbacks.ModelCheckpoint(filepath=model_path,\n",
    "                                        monitor='val_accuracy',\n",
    "                                        verbose=1,\n",
    "                                        save_best_only=True,\n",
    "                                        save_weights_only=True)"
   ]
  },
  {
   "cell_type": "code",
   "execution_count": 94,
   "id": "342bf89c",
   "metadata": {},
   "outputs": [
    {
     "name": "stdout",
     "output_type": "stream",
     "text": [
      "Epoch 1/50\n"
     ]
    },
    {
     "name": "stderr",
     "output_type": "stream",
     "text": [
      "2023-02-24 12:27:13.171599: W tensorflow/core/platform/profile_utils/cpu_utils.cc:128] Failed to get CPU frequency: 0 Hz\n",
      "2023-02-24 12:27:15.104578: I tensorflow/core/grappler/optimizers/custom_graph_optimizer_registry.cc:113] Plugin optimizer for device_type GPU is enabled.\n",
      "2023-02-24 12:27:15.422316: I tensorflow/core/grappler/optimizers/custom_graph_optimizer_registry.cc:113] Plugin optimizer for device_type GPU is enabled.\n",
      "2023-02-24 12:27:15.484130: I tensorflow/core/grappler/optimizers/custom_graph_optimizer_registry.cc:113] Plugin optimizer for device_type GPU is enabled.\n",
      "2023-02-24 12:27:16.481402: I tensorflow/core/grappler/optimizers/custom_graph_optimizer_registry.cc:113] Plugin optimizer for device_type GPU is enabled.\n",
      "2023-02-24 12:27:16.495790: I tensorflow/core/grappler/optimizers/custom_graph_optimizer_registry.cc:113] Plugin optimizer for device_type GPU is enabled.\n"
     ]
    },
    {
     "name": "stdout",
     "output_type": "stream",
     "text": [
      "1407/1407 [==============================] - ETA: 0s - loss: 0.2621 - accuracy: 0.8850"
     ]
    },
    {
     "name": "stderr",
     "output_type": "stream",
     "text": [
      "2023-02-24 12:30:01.877785: I tensorflow/core/grappler/optimizers/custom_graph_optimizer_registry.cc:113] Plugin optimizer for device_type GPU is enabled.\n",
      "2023-02-24 12:30:01.970729: I tensorflow/core/grappler/optimizers/custom_graph_optimizer_registry.cc:113] Plugin optimizer for device_type GPU is enabled.\n",
      "2023-02-24 12:30:01.978381: I tensorflow/core/grappler/optimizers/custom_graph_optimizer_registry.cc:113] Plugin optimizer for device_type GPU is enabled.\n"
     ]
    },
    {
     "name": "stdout",
     "output_type": "stream",
     "text": [
      "\n",
      "Epoch 1: val_accuracy improved from -inf to 0.93649, saving model to /Users/arthurcollard/code/arthurcol/gpt_vs_human/models/multimodel\n",
      "1407/1407 [==============================] - 195s 135ms/step - loss: 0.2621 - accuracy: 0.8850 - val_loss: 0.1598 - val_accuracy: 0.9365 - lr: 0.0010\n",
      "Epoch 2/50\n",
      "1407/1407 [==============================] - ETA: 0s - loss: 0.1407 - accuracy: 0.9455\n",
      "Epoch 2: val_accuracy improved from 0.93649 to 0.94773, saving model to /Users/arthurcollard/code/arthurcol/gpt_vs_human/models/multimodel\n",
      "1407/1407 [==============================] - 185s 132ms/step - loss: 0.1407 - accuracy: 0.9455 - val_loss: 0.1348 - val_accuracy: 0.9477 - lr: 0.0010\n",
      "Epoch 3/50\n",
      "1407/1407 [==============================] - ETA: 0s - loss: 0.1022 - accuracy: 0.9620\n",
      "Epoch 3: val_accuracy improved from 0.94773 to 0.96120, saving model to /Users/arthurcollard/code/arthurcol/gpt_vs_human/models/multimodel\n",
      "1407/1407 [==============================] - 187s 133ms/step - loss: 0.1022 - accuracy: 0.9620 - val_loss: 0.1021 - val_accuracy: 0.9612 - lr: 0.0010\n",
      "Epoch 4/50\n",
      "1407/1407 [==============================] - ETA: 0s - loss: 0.0824 - accuracy: 0.9703\n",
      "Epoch 4: val_accuracy improved from 0.96120 to 0.96804, saving model to /Users/arthurcollard/code/arthurcol/gpt_vs_human/models/multimodel\n",
      "1407/1407 [==============================] - 189s 134ms/step - loss: 0.0824 - accuracy: 0.9703 - val_loss: 0.0860 - val_accuracy: 0.9680 - lr: 0.0010\n",
      "Epoch 5/50\n",
      "1407/1407 [==============================] - ETA: 0s - loss: 0.0704 - accuracy: 0.9745\n",
      "Epoch 5: val_accuracy improved from 0.96804 to 0.97427, saving model to /Users/arthurcollard/code/arthurcol/gpt_vs_human/models/multimodel\n",
      "1407/1407 [==============================] - 188s 134ms/step - loss: 0.0704 - accuracy: 0.9745 - val_loss: 0.0698 - val_accuracy: 0.9743 - lr: 0.0010\n",
      "Epoch 6/50\n",
      "1407/1407 [==============================] - ETA: 0s - loss: 0.0613 - accuracy: 0.9779\n",
      "Epoch 6: val_accuracy did not improve from 0.97427\n",
      "1407/1407 [==============================] - 189s 134ms/step - loss: 0.0613 - accuracy: 0.9779 - val_loss: 0.0718 - val_accuracy: 0.9732 - lr: 0.0010\n",
      "Epoch 7/50\n",
      "1407/1407 [==============================] - ETA: 0s - loss: 0.0559 - accuracy: 0.9802\n",
      "Epoch 7: ReduceLROnPlateau reducing learning rate to 0.0005000000237487257.\n",
      "\n",
      "Epoch 7: val_accuracy did not improve from 0.97427\n",
      "1407/1407 [==============================] - 186s 132ms/step - loss: 0.0559 - accuracy: 0.9802 - val_loss: 0.0739 - val_accuracy: 0.9731 - lr: 0.0010\n",
      "Epoch 8/50\n",
      "1407/1407 [==============================] - ETA: 0s - loss: 0.0432 - accuracy: 0.9848\n",
      "Epoch 8: val_accuracy improved from 0.97427 to 0.97844, saving model to /Users/arthurcollard/code/arthurcol/gpt_vs_human/models/multimodel\n",
      "1407/1407 [==============================] - 184s 131ms/step - loss: 0.0432 - accuracy: 0.9848 - val_loss: 0.0612 - val_accuracy: 0.9784 - lr: 5.0000e-04\n",
      "Epoch 9/50\n",
      "1407/1407 [==============================] - ETA: 0s - loss: 0.0395 - accuracy: 0.9862\n",
      "Epoch 9: val_accuracy did not improve from 0.97844\n",
      "1407/1407 [==============================] - 187s 133ms/step - loss: 0.0395 - accuracy: 0.9862 - val_loss: 0.0631 - val_accuracy: 0.9776 - lr: 5.0000e-04\n",
      "Epoch 10/50\n",
      "1407/1407 [==============================] - ETA: 0s - loss: 0.0371 - accuracy: 0.9873\n",
      "Epoch 10: ReduceLROnPlateau reducing learning rate to 0.0002500000118743628.\n",
      "\n",
      "Epoch 10: val_accuracy did not improve from 0.97844\n",
      "1407/1407 [==============================] - 188s 133ms/step - loss: 0.0371 - accuracy: 0.9873 - val_loss: 0.0629 - val_accuracy: 0.9773 - lr: 5.0000e-04\n",
      "Epoch 11/50\n",
      "1407/1407 [==============================] - ETA: 0s - loss: 0.0303 - accuracy: 0.9902\n",
      "Epoch 11: val_accuracy improved from 0.97844 to 0.97871, saving model to /Users/arthurcollard/code/arthurcol/gpt_vs_human/models/multimodel\n",
      "1407/1407 [==============================] - 183s 130ms/step - loss: 0.0303 - accuracy: 0.9902 - val_loss: 0.0600 - val_accuracy: 0.9787 - lr: 2.5000e-04\n",
      "Epoch 12/50\n",
      "1407/1407 [==============================] - ETA: 0s - loss: 0.0282 - accuracy: 0.9911\n",
      "Epoch 12: val_accuracy improved from 0.97871 to 0.97902, saving model to /Users/arthurcollard/code/arthurcol/gpt_vs_human/models/multimodel\n",
      "1407/1407 [==============================] - 184s 131ms/step - loss: 0.0282 - accuracy: 0.9911 - val_loss: 0.0646 - val_accuracy: 0.9790 - lr: 2.5000e-04\n",
      "Epoch 13/50\n",
      "1407/1407 [==============================] - ETA: 0s - loss: 0.0265 - accuracy: 0.9912\n",
      "Epoch 13: ReduceLROnPlateau reducing learning rate to 0.0001250000059371814.\n",
      "\n",
      "Epoch 13: val_accuracy did not improve from 0.97902\n",
      "1407/1407 [==============================] - 187s 133ms/step - loss: 0.0265 - accuracy: 0.9912 - val_loss: 0.0675 - val_accuracy: 0.9782 - lr: 2.5000e-04\n",
      "Epoch 14/50\n",
      "1407/1407 [==============================] - ETA: 0s - loss: 0.0232 - accuracy: 0.9927\n",
      "Epoch 14: val_accuracy improved from 0.97902 to 0.98058, saving model to /Users/arthurcollard/code/arthurcol/gpt_vs_human/models/multimodel\n",
      "1407/1407 [==============================] - 188s 133ms/step - loss: 0.0232 - accuracy: 0.9927 - val_loss: 0.0632 - val_accuracy: 0.9806 - lr: 1.2500e-04\n",
      "Epoch 15/50\n",
      "1407/1407 [==============================] - ETA: 0s - loss: 0.0223 - accuracy: 0.9930\n",
      "Epoch 15: ReduceLROnPlateau reducing learning rate to 6.25000029685907e-05.\n",
      "\n",
      "Epoch 15: val_accuracy did not improve from 0.98058\n",
      "1407/1407 [==============================] - 189s 135ms/step - loss: 0.0223 - accuracy: 0.9930 - val_loss: 0.0645 - val_accuracy: 0.9798 - lr: 1.2500e-04\n",
      "Epoch 16/50\n",
      "1407/1407 [==============================] - ETA: 0s - loss: 0.0203 - accuracy: 0.9939\n",
      "Epoch 16: val_accuracy did not improve from 0.98058\n",
      "1407/1407 [==============================] - 186s 132ms/step - loss: 0.0203 - accuracy: 0.9939 - val_loss: 0.0665 - val_accuracy: 0.9797 - lr: 6.2500e-05\n",
      "Epoch 17/50\n",
      "1407/1407 [==============================] - ETA: 0s - loss: 0.0199 - accuracy: 0.9941\n",
      "Epoch 17: ReduceLROnPlateau reducing learning rate to 3.125000148429535e-05.\n",
      "\n",
      "Epoch 17: val_accuracy did not improve from 0.98058\n",
      "1407/1407 [==============================] - 186s 132ms/step - loss: 0.0199 - accuracy: 0.9941 - val_loss: 0.0672 - val_accuracy: 0.9796 - lr: 6.2500e-05\n"
     ]
    }
   ],
   "source": [
    "history = multimodel.fit(x={'text_inputs':X_train_pad,'num_inputs':num_scaled_train},\n",
    "                   y=np.expand_dims(y_train,-1),\n",
    "                   validation_split=.2,\n",
    "                   callbacks=[es,tb,lr,mc],\n",
    "                   batch_size=64,\n",
    "                   epochs=50,)"
   ]
  },
  {
   "cell_type": "code",
   "execution_count": null,
   "id": "ea21993c",
   "metadata": {},
   "outputs": [],
   "source": []
  }
 ],
 "metadata": {
  "kernelspec": {
   "display_name": "Python 3 (ipykernel)",
   "language": "python",
   "name": "python3"
  },
  "language_info": {
   "codemirror_mode": {
    "name": "ipython",
    "version": 3
   },
   "file_extension": ".py",
   "mimetype": "text/x-python",
   "name": "python",
   "nbconvert_exporter": "python",
   "pygments_lexer": "ipython3",
   "version": "3.10.6"
  },
  "toc": {
   "base_numbering": 1,
   "nav_menu": {},
   "number_sections": true,
   "sideBar": true,
   "skip_h1_title": false,
   "title_cell": "Table of Contents",
   "title_sidebar": "Contents",
   "toc_cell": false,
   "toc_position": {
    "height": "calc(100% - 180px)",
    "left": "10px",
    "top": "150px",
    "width": "166.391px"
   },
   "toc_section_display": true,
   "toc_window_display": true
  }
 },
 "nbformat": 4,
 "nbformat_minor": 5
}

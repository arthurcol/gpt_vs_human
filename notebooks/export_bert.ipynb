{
 "cells": [
  {
   "cell_type": "code",
   "execution_count": 1,
   "id": "e1535a6d",
   "metadata": {},
   "outputs": [],
   "source": [
    "import os\n",
    "\n",
    "import pandas as pd\n",
    "import numpy as np\n",
    "import tensorflow as tf\n",
    "\n",
    "# from transformers import BertTokenizerFast\n",
    "from sklearn.model_selection import train_test_split"
   ]
  },
  {
   "cell_type": "code",
   "execution_count": 2,
   "id": "e22fefb6",
   "metadata": {},
   "outputs": [],
   "source": [
    "def get_ds():\n",
    "    url = \"https://datasets-server.huggingface.co/parquet?dataset=aadityaubhat%2FGPT-wiki-intro\"\n",
    "    response = requests.get(url)\n",
    "    if response.status_code !=200:\n",
    "        return f\"error during dataset request: {response.status_code}\"\n",
    "    \n",
    "    url_parquet = [files['url'] for files in response.json()['parquet_files']]\n",
    "    \n",
    "    \n",
    "    df = [pd.read_parquet(url_) for url_ in url_parquet]\n",
    "    \n",
    "    return pd.concat(df)"
   ]
  },
  {
   "cell_type": "code",
   "execution_count": 3,
   "id": "19a6046a",
   "metadata": {},
   "outputs": [
    {
     "name": "stdout",
     "output_type": "stream",
     "text": [
      "loading local\n"
     ]
    },
    {
     "data": {
      "text/html": [
       "<div>\n",
       "<style scoped>\n",
       "    .dataframe tbody tr th:only-of-type {\n",
       "        vertical-align: middle;\n",
       "    }\n",
       "\n",
       "    .dataframe tbody tr th {\n",
       "        vertical-align: top;\n",
       "    }\n",
       "\n",
       "    .dataframe thead th {\n",
       "        text-align: right;\n",
       "    }\n",
       "</style>\n",
       "<table border=\"1\" class=\"dataframe\">\n",
       "  <thead>\n",
       "    <tr style=\"text-align: right;\">\n",
       "      <th></th>\n",
       "      <th>url</th>\n",
       "      <th>title</th>\n",
       "      <th>wiki_intro</th>\n",
       "      <th>generated_intro</th>\n",
       "      <th>title_len</th>\n",
       "      <th>wiki_intro_len</th>\n",
       "      <th>generated_intro_len</th>\n",
       "      <th>prompt</th>\n",
       "      <th>generated_text</th>\n",
       "      <th>prompt_tokens</th>\n",
       "      <th>generated_text_tokens</th>\n",
       "      <th>random</th>\n",
       "      <th>text</th>\n",
       "      <th>label</th>\n",
       "    </tr>\n",
       "    <tr>\n",
       "      <th>id</th>\n",
       "      <th></th>\n",
       "      <th></th>\n",
       "      <th></th>\n",
       "      <th></th>\n",
       "      <th></th>\n",
       "      <th></th>\n",
       "      <th></th>\n",
       "      <th></th>\n",
       "      <th></th>\n",
       "      <th></th>\n",
       "      <th></th>\n",
       "      <th></th>\n",
       "      <th></th>\n",
       "      <th></th>\n",
       "    </tr>\n",
       "  </thead>\n",
       "  <tbody>\n",
       "    <tr>\n",
       "      <th>63064638</th>\n",
       "      <td>https://en.wikipedia.org/wiki/Sexhow%20railway...</td>\n",
       "      <td>Sexhow railway station</td>\n",
       "      <td>Sexhow railway station was a railway station b...</td>\n",
       "      <td>Sexhow railway station was a railway station l...</td>\n",
       "      <td>3</td>\n",
       "      <td>174</td>\n",
       "      <td>78</td>\n",
       "      <td>200 word wikipedia style introduction on 'Sexh...</td>\n",
       "      <td>located in the town of Sexhow, on the Cumbria...</td>\n",
       "      <td>25</td>\n",
       "      <td>88</td>\n",
       "      <td>0.170068</td>\n",
       "      <td>Sexhow railway station was a railway station l...</td>\n",
       "      <td>generated</td>\n",
       "    </tr>\n",
       "    <tr>\n",
       "      <th>279621</th>\n",
       "      <td>https://en.wikipedia.org/wiki/Eti%C3%A4inen</td>\n",
       "      <td>Etiäinen</td>\n",
       "      <td>In Finnish folklore, all places and things, an...</td>\n",
       "      <td>In Finnish folklore, all places and things, an...</td>\n",
       "      <td>1</td>\n",
       "      <td>187</td>\n",
       "      <td>80</td>\n",
       "      <td>200 word wikipedia style introduction on 'Etiä...</td>\n",
       "      <td>animate or inanimate, have a spirit or \"etiäi...</td>\n",
       "      <td>26</td>\n",
       "      <td>101</td>\n",
       "      <td>0.839452</td>\n",
       "      <td>In Finnish folklore, all places and things, an...</td>\n",
       "      <td>wiki</td>\n",
       "    </tr>\n",
       "    <tr>\n",
       "      <th>287229</th>\n",
       "      <td>https://en.wikipedia.org/wiki/Inverse%20functi...</td>\n",
       "      <td>Inverse function theorem</td>\n",
       "      <td>In mathematics, specifically differential calc...</td>\n",
       "      <td>In mathematics, specifically differential calc...</td>\n",
       "      <td>3</td>\n",
       "      <td>170</td>\n",
       "      <td>59</td>\n",
       "      <td>200 word wikipedia style introduction on 'Inve...</td>\n",
       "      <td>function theorem states that for every real-v...</td>\n",
       "      <td>26</td>\n",
       "      <td>65</td>\n",
       "      <td>0.532203</td>\n",
       "      <td>In mathematics, specifically differential calc...</td>\n",
       "      <td>wiki</td>\n",
       "    </tr>\n",
       "    <tr>\n",
       "      <th>26712375</th>\n",
       "      <td>https://en.wikipedia.org/wiki/Stepping%20on%20...</td>\n",
       "      <td>Stepping on Roses</td>\n",
       "      <td>is a Japanese shōjo manga series written and i...</td>\n",
       "      <td>is a Japanese shōjo manga series written and i...</td>\n",
       "      <td>3</td>\n",
       "      <td>335</td>\n",
       "      <td>121</td>\n",
       "      <td>200 word wikipedia style introduction on 'Step...</td>\n",
       "      <td>and illustrated by Maki Fujii. The series fol...</td>\n",
       "      <td>26</td>\n",
       "      <td>150</td>\n",
       "      <td>0.715507</td>\n",
       "      <td>is a Japanese shōjo manga series written and i...</td>\n",
       "      <td>wiki</td>\n",
       "    </tr>\n",
       "    <tr>\n",
       "      <th>38894426</th>\n",
       "      <td>https://en.wikipedia.org/wiki/Rob%20Bradley</td>\n",
       "      <td>Rob Bradley</td>\n",
       "      <td>Robert Milner \"Rob\" Bradley, Jr. (born August ...</td>\n",
       "      <td>Robert Milner \"Rob\" Bradley, Jr. (born August ...</td>\n",
       "      <td>2</td>\n",
       "      <td>170</td>\n",
       "      <td>136</td>\n",
       "      <td>200 word wikipedia style introduction on 'Rob ...</td>\n",
       "      <td>29, 1973) is an American former professional ...</td>\n",
       "      <td>28</td>\n",
       "      <td>162</td>\n",
       "      <td>0.395063</td>\n",
       "      <td>Robert Milner \"Rob\" Bradley, Jr. (born August ...</td>\n",
       "      <td>generated</td>\n",
       "    </tr>\n",
       "  </tbody>\n",
       "</table>\n",
       "</div>"
      ],
      "text/plain": [
       "                                                        url  \\\n",
       "id                                                            \n",
       "63064638  https://en.wikipedia.org/wiki/Sexhow%20railway...   \n",
       "279621          https://en.wikipedia.org/wiki/Eti%C3%A4inen   \n",
       "287229    https://en.wikipedia.org/wiki/Inverse%20functi...   \n",
       "26712375  https://en.wikipedia.org/wiki/Stepping%20on%20...   \n",
       "38894426        https://en.wikipedia.org/wiki/Rob%20Bradley   \n",
       "\n",
       "                             title  \\\n",
       "id                                   \n",
       "63064638    Sexhow railway station   \n",
       "279621                    Etiäinen   \n",
       "287229    Inverse function theorem   \n",
       "26712375         Stepping on Roses   \n",
       "38894426               Rob Bradley   \n",
       "\n",
       "                                                 wiki_intro  \\\n",
       "id                                                            \n",
       "63064638  Sexhow railway station was a railway station b...   \n",
       "279621    In Finnish folklore, all places and things, an...   \n",
       "287229    In mathematics, specifically differential calc...   \n",
       "26712375  is a Japanese shōjo manga series written and i...   \n",
       "38894426  Robert Milner \"Rob\" Bradley, Jr. (born August ...   \n",
       "\n",
       "                                            generated_intro  title_len  \\\n",
       "id                                                                       \n",
       "63064638  Sexhow railway station was a railway station l...          3   \n",
       "279621    In Finnish folklore, all places and things, an...          1   \n",
       "287229    In mathematics, specifically differential calc...          3   \n",
       "26712375  is a Japanese shōjo manga series written and i...          3   \n",
       "38894426  Robert Milner \"Rob\" Bradley, Jr. (born August ...          2   \n",
       "\n",
       "          wiki_intro_len  generated_intro_len  \\\n",
       "id                                              \n",
       "63064638             174                   78   \n",
       "279621               187                   80   \n",
       "287229               170                   59   \n",
       "26712375             335                  121   \n",
       "38894426             170                  136   \n",
       "\n",
       "                                                     prompt  \\\n",
       "id                                                            \n",
       "63064638  200 word wikipedia style introduction on 'Sexh...   \n",
       "279621    200 word wikipedia style introduction on 'Etiä...   \n",
       "287229    200 word wikipedia style introduction on 'Inve...   \n",
       "26712375  200 word wikipedia style introduction on 'Step...   \n",
       "38894426  200 word wikipedia style introduction on 'Rob ...   \n",
       "\n",
       "                                             generated_text  prompt_tokens  \\\n",
       "id                                                                           \n",
       "63064638   located in the town of Sexhow, on the Cumbria...             25   \n",
       "279621     animate or inanimate, have a spirit or \"etiäi...             26   \n",
       "287229     function theorem states that for every real-v...             26   \n",
       "26712375   and illustrated by Maki Fujii. The series fol...             26   \n",
       "38894426   29, 1973) is an American former professional ...             28   \n",
       "\n",
       "          generated_text_tokens    random  \\\n",
       "id                                          \n",
       "63064638                     88  0.170068   \n",
       "279621                      101  0.839452   \n",
       "287229                       65  0.532203   \n",
       "26712375                    150  0.715507   \n",
       "38894426                    162  0.395063   \n",
       "\n",
       "                                                       text      label  \n",
       "id                                                                      \n",
       "63064638  Sexhow railway station was a railway station l...  generated  \n",
       "279621    In Finnish folklore, all places and things, an...       wiki  \n",
       "287229    In mathematics, specifically differential calc...       wiki  \n",
       "26712375  is a Japanese shōjo manga series written and i...       wiki  \n",
       "38894426  Robert Milner \"Rob\" Bradley, Jr. (born August ...  generated  "
      ]
     },
     "execution_count": 3,
     "metadata": {},
     "output_type": "execute_result"
    }
   ],
   "source": [
    "path_data = os.path.join(os.path.dirname(os.path.abspath(os.path.curdir)),'raw_data')\n",
    "if 'data.csv' in os.listdir(path_data):\n",
    "    print('loading local')\n",
    "    df = pd.read_csv(path_data+'/data.csv',index_col='id')\n",
    "else:\n",
    "    df = get_ds()\n",
    "    df.set_index('id',inplace=True)\n",
    "    df['random']=np.random.random(len(df))\n",
    "    \n",
    "    # reorganize ds and randomize samples wiki/generated\n",
    "    df.loc[df['random']<.5,'text']=df['generated_intro']\n",
    "    df.loc[df['random']<.5,'label']='generated'\n",
    "    df.loc[df['random']>=.5,'text']=df['wiki_intro']\n",
    "    df.loc[df['random']>=.5,'label']='wiki'\n",
    "    df.to_csv('../raw_data/data.csv')\n",
    "    \n",
    "df.head()"
   ]
  },
  {
   "cell_type": "code",
   "execution_count": 4,
   "id": "23056cc0",
   "metadata": {},
   "outputs": [],
   "source": [
    "# X_train,X_test,y_train,y_test = train_test_split(df['text'],df['label'],test_size=.2)\n",
    "# y_train = np.where(y_train=='generated',1,0)\n",
    "# y_test = np.where(y_test=='generated',1,0)"
   ]
  },
  {
   "cell_type": "code",
   "execution_count": 5,
   "id": "31f4c8b9",
   "metadata": {},
   "outputs": [],
   "source": [
    "df['# sentences'] = df['text'].apply(lambda x : len(x.split('.')))"
   ]
  },
  {
   "cell_type": "code",
   "execution_count": 6,
   "id": "97352f38",
   "metadata": {},
   "outputs": [],
   "source": [
    "def word_per_sentence(text):\n",
    "    sentences = text.split('.')\n",
    "    lengths = []\n",
    "    for s in sentences : \n",
    "        lengths.append(len(s.split()))\n",
    "    return [np.mean(np.array(lengths)),np.std(np.array(lengths))]"
   ]
  },
  {
   "cell_type": "code",
   "execution_count": 7,
   "id": "e877dbd2",
   "metadata": {
    "scrolled": true
   },
   "outputs": [],
   "source": [
    "df_e = pd.concat([df,df['text'].apply(word_per_sentence).apply(pd.Series).rename({0:'mean_w_p_s',1:'var_w_p_s'},axis=1)],axis=1)"
   ]
  },
  {
   "cell_type": "code",
   "execution_count": 21,
   "id": "03e33183",
   "metadata": {},
   "outputs": [],
   "source": [
    "import matplotlib.pyplot as plt"
   ]
  },
  {
   "cell_type": "code",
   "execution_count": 38,
   "id": "cd3781e6",
   "metadata": {},
   "outputs": [
    {
     "data": {
      "image/png": "[encoded data removed]",
      "text/plain": [
       "<Figure size 1000x1000 with 6 Axes>"
      ]
     },
     "metadata": {},
     "output_type": "display_data"
    }
   ],
   "source": [
    "fig,axs = plt.subplots(3,2,figsize=(10,10),sharey=True,tight_layout=True)\n",
    "axs[0,0].boxplot(df_e[df_e['label']=='generated']['# sentences'],showfliers=False)\n",
    "axs[0,1].boxplot(df_e[df_e['label']=='wiki']['# sentences'],showfliers=False)\n",
    "axs[0,0].set_title('# sentences - generated')\n",
    "axs[0,1].set_title('# sentences - wiki');\n",
    "axs[1,0].boxplot(df_e[df_e['label']=='generated']['mean_w_p_s'],showfliers=False)\n",
    "axs[1,1].boxplot(df_e[df_e['label']=='wiki']['mean_w_p_s'],showfliers=False)\n",
    "axs[1,0].set_title('mean_w_p_s - generated')\n",
    "axs[1,1].set_title('mean_w_p_s - wiki');\n",
    "axs[2,0].boxplot(df_e[df_e['label']=='generated']['var_w_p_s'],showfliers=False)\n",
    "axs[2,1].boxplot(df_e[df_e['label']=='wiki']['var_w_p_s'],showfliers=False)\n",
    "axs[2,0].set_title('var_w_p_s - generated')\n",
    "axs[2,1].set_title('var_w_p_s - wiki');"
   ]
  },
  {
   "cell_type": "code",
   "execution_count": 50,
   "id": "d4991db0",
   "metadata": {},
   "outputs": [],
   "source": [
    "from sklearn.ensemble import RandomForestClassifier"
   ]
  },
  {
   "cell_type": "code",
   "execution_count": 59,
   "id": "6621535a",
   "metadata": {},
   "outputs": [],
   "source": [
    "model = RandomForestClassifier(n_estimators=100,max_depth=5,min_samples_leaf=10)"
   ]
  },
  {
   "cell_type": "code",
   "execution_count": 60,
   "id": "8793d2ae",
   "metadata": {},
   "outputs": [],
   "source": [
    "X_train,X_test,y_train,y_test = train_test_split(df_e[['# sentences','mean_w_p_s','var_w_p_s']],df_e['label'],test_size=.2)\n",
    "y_train = np.where(y_train=='generated',1,0)\n",
    "y_test = np.where(y_test=='generated',1,0)"
   ]
  },
  {
   "cell_type": "code",
   "execution_count": 61,
   "id": "ef96545e",
   "metadata": {},
   "outputs": [
    {
     "data": {
      "text/html": [
       "<style>#sk-container-id-1 {color: black;background-color: white;}#sk-container-id-1 pre{padding: 0;}#sk-container-id-1 div.sk-toggleable {background-color: white;}#sk-container-id-1 label.sk-toggleable__label {cursor: pointer;display: block;width: 100%;margin-bottom: 0;padding: 0.3em;box-sizing: border-box;text-align: center;}#sk-container-id-1 label.sk-toggleable__label-arrow:before {content: \"▸\";float: left;margin-right: 0.25em;color: #696969;}#sk-container-id-1 label.sk-toggleable__label-arrow:hover:before {color: black;}#sk-container-id-1 div.sk-estimator:hover label.sk-toggleable__label-arrow:before {color: black;}#sk-container-id-1 div.sk-toggleable__content {max-height: 0;max-width: 0;overflow: hidden;text-align: left;background-color: #f0f8ff;}#sk-container-id-1 div.sk-toggleable__content pre {margin: 0.2em;color: black;border-radius: 0.25em;background-color: #f0f8ff;}#sk-container-id-1 input.sk-toggleable__control:checked~div.sk-toggleable__content {max-height: 200px;max-width: 100%;overflow: auto;}#sk-container-id-1 input.sk-toggleable__control:checked~label.sk-toggleable__label-arrow:before {content: \"▾\";}#sk-container-id-1 div.sk-estimator input.sk-toggleable__control:checked~label.sk-toggleable__label {background-color: #d4ebff;}#sk-container-id-1 div.sk-label input.sk-toggleable__control:checked~label.sk-toggleable__label {background-color: #d4ebff;}#sk-container-id-1 input.sk-hidden--visually {border: 0;clip: rect(1px 1px 1px 1px);clip: rect(1px, 1px, 1px, 1px);height: 1px;margin: -1px;overflow: hidden;padding: 0;position: absolute;width: 1px;}#sk-container-id-1 div.sk-estimator {font-family: monospace;background-color: #f0f8ff;border: 1px dotted black;border-radius: 0.25em;box-sizing: border-box;margin-bottom: 0.5em;}#sk-container-id-1 div.sk-estimator:hover {background-color: #d4ebff;}#sk-container-id-1 div.sk-parallel-item::after {content: \"\";width: 100%;border-bottom: 1px solid gray;flex-grow: 1;}#sk-container-id-1 div.sk-label:hover label.sk-toggleable__label {background-color: #d4ebff;}#sk-container-id-1 div.sk-serial::before {content: \"\";position: absolute;border-left: 1px solid gray;box-sizing: border-box;top: 0;bottom: 0;left: 50%;z-index: 0;}#sk-container-id-1 div.sk-serial {display: flex;flex-direction: column;align-items: center;background-color: white;padding-right: 0.2em;padding-left: 0.2em;position: relative;}#sk-container-id-1 div.sk-item {position: relative;z-index: 1;}#sk-container-id-1 div.sk-parallel {display: flex;align-items: stretch;justify-content: center;background-color: white;position: relative;}#sk-container-id-1 div.sk-item::before, #sk-container-id-1 div.sk-parallel-item::before {content: \"\";position: absolute;border-left: 1px solid gray;box-sizing: border-box;top: 0;bottom: 0;left: 50%;z-index: -1;}#sk-container-id-1 div.sk-parallel-item {display: flex;flex-direction: column;z-index: 1;position: relative;background-color: white;}#sk-container-id-1 div.sk-parallel-item:first-child::after {align-self: flex-end;width: 50%;}#sk-container-id-1 div.sk-parallel-item:last-child::after {align-self: flex-start;width: 50%;}#sk-container-id-1 div.sk-parallel-item:only-child::after {width: 0;}#sk-container-id-1 div.sk-dashed-wrapped {border: 1px dashed gray;margin: 0 0.4em 0.5em 0.4em;box-sizing: border-box;padding-bottom: 0.4em;background-color: white;}#sk-container-id-1 div.sk-label label {font-family: monospace;font-weight: bold;display: inline-block;line-height: 1.2em;}#sk-container-id-1 div.sk-label-container {text-align: center;}#sk-container-id-1 div.sk-container {/* jupyter's `normalize.less` sets `[hidden] { display: none; }` but bootstrap.min.css set `[hidden] { display: none !important; }` so we also need the `!important` here to be able to override the default hidden behavior on the sphinx rendered scikit-learn.org. See: https://github.com/scikit-learn/scikit-learn/issues/21755 */display: inline-block !important;position: relative;}#sk-container-id-1 div.sk-text-repr-fallback {display: none;}</style><div id=\"sk-container-id-1\" class=\"sk-top-container\"><div class=\"sk-text-repr-fallback\"><pre>RandomForestClassifier(max_depth=5, min_samples_leaf=10)</pre><b>In a Jupyter environment, please rerun this cell to show the HTML representation or trust the notebook. <br />On GitHub, the HTML representation is unable to render, please try loading this page with nbviewer.org.</b></div><div class=\"sk-container\" hidden><div class=\"sk-item\"><div class=\"sk-estimator sk-toggleable\"><input class=\"sk-toggleable__control sk-hidden--visually\" id=\"sk-estimator-id-1\" type=\"checkbox\" checked><label for=\"sk-estimator-id-1\" class=\"sk-toggleable__label sk-toggleable__label-arrow\">RandomForestClassifier</label><div class=\"sk-toggleable__content\"><pre>RandomForestClassifier(max_depth=5, min_samples_leaf=10)</pre></div></div></div></div></div>"
      ],
      "text/plain": [
       "RandomForestClassifier(max_depth=5, min_samples_leaf=10)"
      ]
     },
     "execution_count": 61,
     "metadata": {},
     "output_type": "execute_result"
    }
   ],
   "source": [
    "model.fit(X_train,y_train)"
   ]
  },
  {
   "cell_type": "code",
   "execution_count": 65,
   "id": "f4ea7754",
   "metadata": {},
   "outputs": [
    {
     "data": {
      "text/plain": [
       "0.8415666666666667"
      ]
     },
     "execution_count": 65,
     "metadata": {},
     "output_type": "execute_result"
    }
   ],
   "source": [
    "model.score(X_test,y_test)"
   ]
  },
  {
   "cell_type": "code",
   "execution_count": 68,
   "id": "6ccaa83f",
   "metadata": {},
   "outputs": [
    {
     "data": {
      "text/plain": [
       "2976"
      ]
     },
     "execution_count": 68,
     "metadata": {},
     "output_type": "execute_result"
    }
   ],
   "source": [
    "np.random.randint(12000)"
   ]
  },
  {
   "cell_type": "code",
   "execution_count": 71,
   "id": "82b578fd",
   "metadata": {},
   "outputs": [
    {
     "data": {
      "text/plain": [
       "array([9, 5])"
      ]
     },
     "execution_count": 71,
     "metadata": {},
     "output_type": "execute_result"
    }
   ],
   "source": [
    "np.random.randint(1,10,2)"
   ]
  },
  {
   "cell_type": "code",
   "execution_count": 73,
   "id": "5d636ce6",
   "metadata": {
    "collapsed": true
   },
   "outputs": [
    {
     "name": "stdout",
     "output_type": "stream",
     "text": [
      "wiki\n",
      "----------------\n",
      "Alfonso D'Artega (June 5, 1907 – January 20, 1998), often known simply as D'Artega, was a songwriter, conductor, arranger and actor. His song \"In the Blue of Evening\", co-written with Tom Adair, was a number one hit for the Tommy Dorsey Orchestra in 1943. D'Artega was born in Silao, Guanajuato, Mexico. His family emigrated to the U.S. in 1918. D'Artega studied music and composition at Strassberger's Conservatory in St. Louis, Missouri with Boris Levenson, who was a pupil of Nikolai Rimsky-Korsakov. He became a well-known conductor on stage and on air, and in 1946 initiated the Carnegie Hall \"Pops\" concerts with members of the New York Philharmonic. In 1947 he played the role of Tchaikovsky in the film Carnegie Hall, conducting the film score as well. He was guest conductor with, among others, the Buffalo Symphony Orchestra, the Miami Symphony Orchestra, the Saint Louis Symphony Orchestra and the NBC Symphony of the Air.\n",
      "################\n",
      "generated\n",
      "----------------\n",
      "Ibrahim Koma (born 5 November 1987) is a Belgian professional footballer who plays as a midfielder for Dutch club FC Utrecht.\n",
      "\n",
      "Koma started his career with K.S.V. Waregem and made his senior debut in 2006. He moved to Standard Liège in 2007 and then to PSV Eindhoven in 2009. Koma spent two seasons with PSV, playing 63 times and scoring six goals before joining FC Utrecht in 2013.\n",
      "\n",
      "Koma has represented Belgium at under-21 level and made his full international debut in 2012.\n",
      "################\n",
      "generated\n",
      "----------------\n",
      "Tian Chengsi (705– March 4, 779), formally Prince of Shao, was a general of the Chinese Tang dynasty who played a critical role in defeating the Tibetans and reuniting China in 762.\n",
      "\n",
      "Tian Chengsi was born in 705, during the reign of Emperor Xuanzong of Tang. He was from the prominent Tian clan of Shao, and his father was Tian Kuangyi, a general who played an important role in suppressing the rebellions of An Lushan and Yang Guang. In 725, when Tian Kuangyi was serving as the governor of Ji Prefecture (太州, in modern Zhumadian, Henan), he met and befriended the military governor of Zhaoyang Circuit (昭陽, headquartered in modern Changsha, Hunan), Wang Jianzhi. Tian Kuangyi recommended Wang to Xuanzong and became his friend as well.\n",
      "\n",
      "In 740, when Xuanzong's son Emperor Ruizong was overthrown by his general Li Xianzhong, Wang took over Zhaoyang Circuit and declared himself the military governor (\"Jiedushi\") with the title \"Prince of Shao\". In 742, when Li Xianzhong tried to curry favor with Empress Wei by sending her a concubine (which she did not want), Wang revealed this to her and she had him assassinated. In 743, when Emperor Ruizong's son Emperor Xuanzong recovered power and restored him as emperor,\n",
      "################\n",
      "generated\n",
      "----------------\n",
      "Grias cauliflora, the anchovy pear, (also called the salmonberry) is a small, deciduous, flowering tree in the family Rosaceae.\n",
      "\n",
      "The anchovy pear is native to the eastern United States and Canada, but it has been widely planted and naturalized elsewhere in North America and elsewhere in the world. It is a shrub or small tree growing to 8–10 m tall, with a trunk up to 1.5 m diameter. The leaves are opposite, 3–7 cm long, narrow lance-shaped, and glossy green on the upper surface but dull on the underside. The flowers are 2–3 cm diameter, yellow with a purple blotch in the middle, and are produced in late spring or early summer. The fruit is a small red or pink drupe 2–3 cm diameter.\n",
      "\n",
      "The anchovy pear is used as an ornamental tree and for its fruit which is eaten fresh or used in jams, jellies, and pies. The wood is not used commercially.\n",
      "################\n",
      "wiki\n",
      "----------------\n",
      "The Cotinguiba River (Portuguese: Rio Cotinguiba) is a river in Sergipe, a state in northeastern Brazil. Its source is between the municipalities of Areia Branca and Laranjeiras. It flows into the Sergipe River at the border of the municipalities of Laranjeiras and Nossa Senhora do Socorro. It is approximately  long with a basin of . The Cotinguiba River is one of the main tributaries of the right bank of the Sergipe River, and flows into the Sergipe in a river bed in the form of an estuary. It passes through the municipalities of Areia Branca, Riachuelo, Laranjeiras and Nossa Senhora do Socorro. The economy of the region of the Cotinguiba River was closely tied to the height and decline of sugarcane cultivation. After its decline, Laranjeiras alone remained prosperous due to its port. After the abolition of slavery in Brazil, the region went into economic decline and the Cotinguiba was no longer used for inland transportation.\n",
      "################\n",
      "generated\n",
      "----------------\n",
      "OAO RAO UES (OAO Unified Energy System) is a publicly traded Russian oil and gas company with assets in the United States. RAO UES was founded in 2002 and is headquartered in Houston, Texas. In addition to its oil and gas operations, RAO UES provides marketing, transportation, and other services to its customers.\n",
      "\n",
      "RAO UES is one of the largest private sector operators of oil and gas assets in the United States. The company’s principal assets are in the Permian Basin of West Texas. The company also has interests in offshore Alaska and natural gas reserves in Pennsylvania. In 2017, RAO UES accounted for approximately 10% of production from the Permian Basin.\n",
      "\n",
      "RAO UES has a history of investing in innovative technologies that support its operations. For example, the company has developed a fleet of self-driving trucks that it uses to transport oil and gas products.\n",
      "################\n",
      "generated\n",
      "----------------\n",
      "In computer security, an attack vector is a means by which an attacker can gain access to or damage data or systems within a computer system. Attack vectors may include vulnerabilities in software, hardware, or networks.\n",
      "\n",
      "An attack vector is a potential avenue of attack on a system. Attack vectors can be physical, such as an entry point into the system through a network port, or logical, such as a flaw in the operating system that allows an attacker to execute commands at the root level of the computer.\n",
      "################\n",
      "wiki\n",
      "----------------\n",
      "Elephant seals are large, oceangoing earless seals in the genus Mirounga. The two species, the northern elephant seal (M. angustirostris) and the southern elephant seal (M. leonina), were both hunted to the brink of extinction for oil by the end of the 19th century, but their numbers have since recovered. They are the largest extant carnivorans, weighing up to . The northern elephant seal, somewhat smaller than its southern relative, ranges over the Pacific coast of the U.S., Canada and Mexico. The most northerly breeding location on the Pacific Coast is at Race Rocks, at the southern tip of Vancouver Island in the Strait of Juan de Fuca. The southern elephant seal is found in the Southern Hemisphere on islands such as South Georgia and Macquarie Island, and on the coasts of New Zealand, South Africa, and Argentina in the Peninsula Valdés. In southern Chile, there is a small colony of 120 animals at Jackson Bay, Admiralty Sound (Seno Almirantazgo), Tierra del Fuego.\n",
      "################\n",
      "wiki\n",
      "----------------\n",
      "Peter Maclean Pollock (born 30 June 1941) is a retired South African cricketer. He has played a continuing role in the South Africa cricket team as a player and selector. He was voted a Wisden Cricketer of the Year in 1966. He was primarily a fast bowler, but was also a useful late-order batsman. Family and personal life\n",
      "Pollock is of Scottish ancestry through his father Andrew Pollock, who was born in Edinburgh to a minister and moved to present-day South Africa. Peter's brother, Graeme Pollock, an acclaimed left hand batsman, was a regular player for the South African cricket team at the same time as Peter, and two of his nephews also played first-class cricket, both for Transvaal and Leicestershire amongst other sides. Perhaps most famous of all is his son, Shaun Pollock, who played 108 Tests and over 300 ODIs for South Africa and is widely regarded as one of the finest all-rounders to ever play the game.\n",
      "################\n",
      "generated\n",
      "----------------\n",
      "John Nosta is an American critical thinker and writer, who has focused his work on ethics, philosophy, and theology. He is currently the James P. McCarthy Professor of Philosophy at Fordham University in New York City.\n",
      "\n",
      "Nosta was born in Bronx, New York in 1964. He received his B.A. from Fordham University in 1986 and his M.A. from the University of California, Los Angeles in 1987. He then studied at the University of Oxford, graduating with a D.Phil. in 1991.\n",
      "\n",
      "Nosta has been teaching at Fordham since 1992, where he also served as the Chair of the Department of Philosophy from 1998-2002 and Dean of the Faculty from 2002-2004. He has also been a visiting professor at several universities around the world, including Catholic University of America (1997), McGill University (1998), and the Universidad de Chile (2004).\n",
      "\n",
      "Nosta's work focuses on ethics, philosophy, and theology, and has been published in such journals as \"The Monist\", \"The Philosophical Review\", \"The Journal of Ethics\", \"Theological Studies\", and \"The Journal of Religious Studies\". He is also the author or editor of nine books, including \"The Dignity of Difference: Ethics for a Global Age\" (2003), \"Truth and Tolerance: Essays on Religion and Ethics\" (2005), and \"Morality After Virtue: Essays on Moral Theory\" (2008).\n",
      "\n",
      "In 2007 Nosta was awarded the Grawemey\n",
      "################\n"
     ]
    }
   ],
   "source": [
    "for i in np.random.randint(0,len(df_e),10):\n",
    "    print(df_e.reset_index().loc[i,'label'])\n",
    "    print('----------------')\n",
    "    print(df_e.reset_index().loc[i,'text'])\n",
    "    print('################')"
   ]
  },
  {
   "cell_type": "code",
   "execution_count": null,
   "id": "93b2fd45",
   "metadata": {},
   "outputs": [],
   "source": []
  }
 ],
 "metadata": {
  "kernelspec": {
   "display_name": "Python 3 (ipykernel)",
   "language": "python",
   "name": "python3"
  },
  "language_info": {
   "codemirror_mode": {
    "name": "ipython",
    "version": 3
   },
   "file_extension": ".py",
   "mimetype": "text/x-python",
   "name": "python",
   "nbconvert_exporter": "python",
   "pygments_lexer": "ipython3",
   "version": "3.10.6"
  },
  "toc": {
   "base_numbering": 1,
   "nav_menu": {},
   "number_sections": true,
   "sideBar": true,
   "skip_h1_title": false,
   "title_cell": "Table of Contents",
   "title_sidebar": "Contents",
   "toc_cell": false,
   "toc_position": {},
   "toc_section_display": true,
   "toc_window_display": false
  }
 },
 "nbformat": 4,
 "nbformat_minor": 5
}
